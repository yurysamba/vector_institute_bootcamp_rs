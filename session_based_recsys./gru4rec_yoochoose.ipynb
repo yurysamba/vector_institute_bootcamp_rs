{
 "cells": [
  {
   "cell_type": "markdown",
   "metadata": {
    "id": "jU88eKKOb8sH"
   },
   "source": [
    "\n",
    "\n",
    "<h1><center>GRU4REC Demo on YOOCHOOSE Dataset</center></h1>"
   ]
  },
  {
   "cell_type": "markdown",
   "metadata": {
    "id": "SDHlzcWaU5Io"
   },
   "source": [
    "## Outline"
   ]
  },
  {
   "cell_type": "markdown",
   "metadata": {
    "id": "cCfeoOEnU5It"
   },
   "source": [
    "- **Introduction**\n",
    "- **Introduction to Session Based Recommender Systems**\n",
    "- **Introduction to Method**\n",
    "- **Code**\n",
    "    - **Data**\n",
    "        - **Data Loading**\n",
    "        - **Data Preprocessing**\n",
    "        - **Data Loader**\n",
    "    - **Model**\n",
    "         - **Model Definition**\n",
    "         - **Hyperparameter Settings**\n",
    "         - **Loss Function**\n",
    "         - **Metrics for Method**\n",
    "    - **Training, Validation and Testing**"
   ]
  },
  {
   "cell_type": "markdown",
   "metadata": {
    "id": "fUCQoLo5U5Iu"
   },
   "source": [
    "# Introduction  "
   ]
  },
  {
   "cell_type": "markdown",
   "metadata": {
    "id": "uzlvBMnMYAP1"
   },
   "source": [
    "<html>\n",
    "<head>\n",
    "<meta name=\"viewport\" content=\"width=device-width, initial-scale=1\">\n",
    "<style>\n",
    "img {\n",
    "  display: block;\n",
    "  margin-left: auto;\n",
    "  margin-right: auto;\n",
    "}\n",
    "</style>\n",
    "</head>\n",
    "<body>\n",
    "\n",
    "<figure>\n",
    "<img src=\"https://repository-images.githubusercontent.com/509431804/257cfdcb-cab6-4260-b210-01ae6ca4613a\" alt=\"recsys\" style=\"width:50%;\">\n",
    "</figure>\n",
    "\n",
    "</body>\n",
    "</html>"
   ]
  },
  {
   "cell_type": "markdown",
   "metadata": {
    "id": "nMPVw1xOU5Iv"
   },
   "source": [
    "Today, recommendation systems are ubiquitous, spanning sectors as diverse as \n",
    "\n",
    "\n",
    "*   online retail,\n",
    "*   music and video streaming and\n",
    "*   content publishing."
   ]
  },
  {
   "cell_type": "markdown",
   "metadata": {
    "id": "EvB9iOEkds9W"
   },
   "source": [
    "<h2 >Why Recommender Systems matter? </h2>\n",
    "\n",
    "*   We can discover **what's interesting or important** to us among the vast amount of content on the internet. \n",
    "\n",
    "*   A recommendation system can assist us in **navigating more efficiently** and making better decisions when it is implemented correctly."
   ]
  },
  {
   "cell_type": "markdown",
   "metadata": {
    "id": "69IfyBUsU5Iw"
   },
   "source": [
    "## Introduction to Session-Based Recommender Systems"
   ]
  },
  {
   "cell_type": "markdown",
   "metadata": {
    "id": "UNcDr8kyU5Iw"
   },
   "source": [
    "It is almost always the case that choices have a time-sensitive context; for example, some items may be more relevant than others based on **when they were last viewed** or **purchased**.\n",
    "\n",
    "Despite being embedded in the user's most recent interactions, short-term preferences may only represent a small portion of history. Additionally, a user's preference for certain items can be **dynamic rather than static**; it can evolve over time. \n",
    "\n",
    "As a result, **session-based recommendation** algorithms have been developed, which **rely heavily on the user's recent interactions** instead of their historical preferences. Moreover, this approach is especially advantageous since **a user may appear anonymously** if they are not logged in or browsing incognito.  "
   ]
  },
  {
   "cell_type": "markdown",
   "metadata": {
    "id": "Vts3aXrJqF4E"
   },
   "source": [
    "<html>\n",
    "<head>\n",
    "<meta name=\"viewport\" content=\"width=device-width, initial-scale=1\">\n",
    "<style>\n",
    "img {\n",
    "  display: block;\n",
    "  margin-left: auto;\n",
    "  margin-right: auto;\n",
    "}\n",
    "</style>\n",
    "</head>\n",
    "<body>\n",
    "\n",
    "\n",
    "\n",
    "<figure>\n",
    "<img src=\"https://session-based-recommenders.fastforwardlabs.com/figures/FF19_Artboard_3rev.png\" alt=\"\" style=\"width:80%;>\n",
    "<figcaption align = \"center\"><b>Users’ preference can change over time</b></figcaption>\n",
    "</figure>\n",
    "\n",
    "</body>\n",
    "</html>"
   ]
  },
  {
   "cell_type": "markdown",
   "metadata": {
    "id": "BExWKRQRsan9"
   },
   "source": [
    "<h2>Benefits of Session-Based Recommender Systems</h2>\n",
    "\n",
    "\n",
    "\n",
    "*   These methods can be implemented even in the **absence of historical user data**, and doesn’t explicitly rely on user population statistics. This is helpful because, as just noted above, users aren’t always logged in when they browse a website.\n",
    "\n",
    "*   A wealth of new, **publicly available, session-centric datasets** have been released, especially in the e-commerce domain, allowing for model development and research in this area.\n",
    "\n",
    "*   Session-based recommenders can benefit from the rise of **deep learning approaches** expressly suited for sequences.\n"
   ]
  },
  {
   "cell_type": "markdown",
   "metadata": {
    "id": "VGdz3jRquS4d"
   },
   "source": [
    "<h2>Defining the Session-based Recommender Problem Space</h2>\n",
    "\n",
    "A new customer, has been browsing tops, shoes, and weights. The browsing history looks like this:"
   ]
  },
  {
   "cell_type": "markdown",
   "metadata": {
    "id": "wWVjG2JSumtk"
   },
   "source": [
    "<html>\n",
    "<head>\n",
    "<meta name=\"viewport\" content=\"width=device-width, initial-scale=1\">\n",
    "<style>\n",
    "img {\n",
    "  display: block;\n",
    "  margin-left: auto;\n",
    "  margin-right: auto;\n",
    "}\n",
    "</style>\n",
    "</head>\n",
    "<body>\n",
    "\n",
    "\n",
    "\n",
    "<figure>\n",
    "<img src=\"https://session-based-recommenders.fastforwardlabs.com/figures/FF19_Artboard_4rev.png\" alt=\"\" style=\"width:80%;>\n",
    "<figcaption align = \"center\">\n",
    "</figure>\n",
    "\n",
    "</body>\n",
    "</html>"
   ]
  },
  {
   "cell_type": "markdown",
   "metadata": {
    "id": "BKE7h2Wmu1ty"
   },
   "source": [
    "<h3> What should we recommend to the user next? </h3>\n",
    "\n",
    "**Good recommendations** will **increase the likelihood** that the user will see something they like, click on it, and make a purchase. **Poor recommendations** will, at best, lead to no new revenue, but even worse could give them **a negative customer experience**."
   ]
  },
  {
   "cell_type": "markdown",
   "metadata": {
    "id": "5ALNdKtqvjLI"
   },
   "source": [
    "We’ll consider their **recent browsing history** as a **session**. Formally, a session is composed of **multiple user interactions that happen together in a continuous period of time**.\n",
    "\n",
    "Our goal is to predict the product within user’s session that they will like enough to click on. This task is called **next event prediction (NEP)**: given a series of events (user’s browsing history), we want to predict the next event (user clicking on a product we recommend to them)."
   ]
  },
  {
   "cell_type": "markdown",
   "metadata": {
    "id": "WyWI9_a2w0I4"
   },
   "source": [
    "<html>\n",
    "<head>\n",
    "<meta name=\"viewport\" content=\"width=device-width, initial-scale=1\">\n",
    "<style>\n",
    "img {\n",
    "  display: block;\n",
    "  margin-left: auto;\n",
    "  margin-right: auto;\n",
    "}\n",
    "</style>\n",
    "</head>\n",
    "<body>\n",
    "\n",
    "\n",
    "\n",
    "<figure>\n",
    "<img src=\"https://session-based-recommenders.fastforwardlabs.com/figures/FF19_Artboard_5.png\" alt=\"\" style=\"width:80%;>\n",
    "<figcaption align = \"center\" > <b>Historical browsing sessions of various lengths</b></figcaption>\n",
    "</figure>\n",
    "\n",
    "</body>\n",
    "</html>"
   ]
  },
  {
   "cell_type": "markdown",
   "metadata": {
    "id": "L1KN7exovVL5"
   },
   "source": [
    "In reality, this means that our model might generate a handful of recommendations based on user’s browsing history; we want to **maximize the likelihood** that user clicks on at least one of them. To train a model for this task, we’ll need to use historical browsing sessions from our other existing users to identify trends between products that will help us learn recommendations."
   ]
  },
  {
   "cell_type": "markdown",
   "metadata": {
    "id": "CqBQUOYbU5Ix"
   },
   "source": [
    "## Introduction to Method"
   ]
  },
  {
   "cell_type": "markdown",
   "metadata": {
    "id": "HwldO1yhzvh4"
   },
   "source": [
    "The method covered in this demo is <a href=\"https://arxiv.org/pdf/1511.06939.pdf\" title=\"Session-based recommendations with recurrent neural networks\">**Session-Based Recommendations with Recurrent Nneural Networks**</a>.\n"
   ]
  },
  {
   "cell_type": "markdown",
   "metadata": {
    "id": "94FAvR9_U5Ix"
   },
   "source": [
    "The real-life recommender systems often have to make recommendations based on **short session data**. Among the main approaches employed in the session-based recommendation is the **item-to-item recommendation approach**, which is a natural solution to the problem of **a missing user profile**. From the session data, an item-to-item similarity matrix is precomputed, meaning items that are often clicked together in sessions are deemed similar. The similarity matrix is used during the session to recommend items most similar to the one the user is currently viewing. Although effective, these methods **only consider the last click of the user**, ignoring past clicks in effect. In practice, it is argued that **more accurate recommendations can be provided by modeling the whole session**. A session-based recommendation system based on RNNs is therefore proposed in this notebook."
   ]
  },
  {
   "cell_type": "markdown",
   "metadata": {
    "id": "oIFlSq_BU5Iy"
   },
   "source": [
    "# Code  "
   ]
  },
  {
   "cell_type": "code",
   "execution_count": 1,
   "metadata": {
    "id": "OAaZFxdWU5Iz"
   },
   "outputs": [],
   "source": [
    "import numpy as np\n",
    "import pandas as pd\n",
    "import datetime as dt\n",
    "import argparse\n",
    "import os\n",
    "import numpy as np\n",
    "import pandas as pd\n",
    "from tqdm import tqdm\n",
    "from tensorflow import keras\n",
    "import tensorflow.keras.backend as K\n",
    "import tensorflow as tf\n",
    "from tensorflow.keras.models import Model\n",
    "from tensorflow.keras.utils import to_categorical\n",
    "from tensorflow.keras.callbacks import ModelCheckpoint\n",
    "from tensorflow.keras.losses import categorical_crossentropy\n",
    "from tensorflow.keras.layers import Input, Dense, Dropout, GRU"
   ]
  },
  {
   "cell_type": "markdown",
   "metadata": {
    "id": "VVEI--DXU5I2"
   },
   "source": [
    "## Data"
   ]
  },
  {
   "cell_type": "markdown",
   "metadata": {
    "id": "q1N72yJ3U5I2"
   },
   "source": [
    "The **YOOCHOOSE dataset** contains a collection of **sessions from a retailer**, where each session contains the **click events** that the user performed. There are also **buy events** for some sessions. This means that the user purchased something from the web shop at the end of the session. Data was collected from the clicks and purchases made by users of an online retailer in Europe over several months in 2014."
   ]
  },
  {
   "cell_type": "markdown",
   "metadata": {
    "id": "MrnSEX6Q4J-U"
   },
   "source": [
    "<html>\n",
    "<head>\n",
    "<meta name=\"viewport\" content=\"width=device-width, initial-scale=1\">\n",
    "<style>\n",
    "img {\n",
    "  display: block;\n",
    "  margin-left: auto;\n",
    "  margin-right: auto;\n",
    "}\n",
    "</style>\n",
    "</head>\n",
    "<body>\n",
    "\n",
    "\n",
    "\n",
    "<figure>\n",
    "<img src=\"https://miro.medium.com/max/510/1*CcmsurWO-DuYSzVCy7Pf7g.png\" alt=\"\" style=\"width:50%;>\n",
    "<figcaption align = \"center\" > \n",
    "</figure>\n",
    "\n",
    "</body>\n",
    "</html>"
   ]
  },
  {
   "cell_type": "markdown",
   "metadata": {
    "id": "cGt80JzyU5I3"
   },
   "source": [
    "### Data Loading"
   ]
  },
  {
   "cell_type": "code",
   "execution_count": 2,
   "metadata": {
    "id": "LmdhX65pU5I3"
   },
   "outputs": [],
   "source": [
    "PATH_TO_DATA = \"/ssd003/projects/aieng/public/recsys_datasets/yoochoose/\""
   ]
  },
  {
   "cell_type": "code",
   "execution_count": 3,
   "metadata": {
    "id": "zx0FoEOaU5I4"
   },
   "outputs": [],
   "source": [
    "data = pd.read_csv(PATH_TO_DATA + 'yoochoose-clicks.dat', sep=',', header=None, usecols=[0,1,2], dtype={0:np.int32, 1:str, 2:np.int64})\n",
    "data.columns = ['SessionId', 'TimeStr', 'ItemId']\n",
    "data['Time'] = data.TimeStr.apply(lambda x: dt.datetime.strptime(x, '%Y-%m-%dT%H:%M:%S.%fZ').timestamp()) #This is not UTC. It does not really matter.\n",
    "del(data['TimeStr'])"
   ]
  },
  {
   "cell_type": "markdown",
   "metadata": {
    "id": "Xp5WLbuwU5I4"
   },
   "source": [
    "### Data Preprocessing"
   ]
  },
  {
   "cell_type": "markdown",
   "metadata": {
    "id": "ZwyyIVhQB0Rb"
   },
   "source": [
    "We keep only the click events. The network is trained on ∼ **6 months** of data, containing 7,966,257 sessions of 31,637,239 clicks on 37,483 items. We use the sessions of the **subsequent day for testing**. Each session is assigned to either the training or the test set, we do not split the data mid-session. Because of the nature of collaborative filtering methods, we filter out clicks from the test set where the item clicked is not in the train set. Sessions of length one are removed from both the training and the test set. We filtered out items that appear less than 5 times. After the preprocessing we are left with **15,324 sessions of 71,222 events** for the **test set**."
   ]
  },
  {
   "cell_type": "code",
   "execution_count": 4,
   "metadata": {
    "id": "xH7ShDbiU5I4"
   },
   "outputs": [],
   "source": [
    "session_lengths = data.groupby('SessionId').size()\n",
    "data = data[np.in1d(data.SessionId, session_lengths[session_lengths>1].index)]\n",
    "item_supports = data.groupby('ItemId').size()\n",
    "data = data[np.in1d(data.ItemId, item_supports[item_supports>=5].index)]\n",
    "session_lengths = data.groupby('SessionId').size()\n",
    "data = data[np.in1d(data.SessionId, session_lengths[session_lengths>=2].index)]"
   ]
  },
  {
   "cell_type": "code",
   "execution_count": 5,
   "metadata": {
    "colab": {
     "base_uri": "https://localhost:8080/"
    },
    "id": "AUAZxXDlU5I5",
    "outputId": "ee4b3524-2816-48cb-c53e-0c475d6ff657"
   },
   "outputs": [
    {
     "name": "stdout",
     "output_type": "stream",
     "text": [
      "Full train set\n",
      "\tEvents: 31637239\n",
      "\tSessions: 7966257\n",
      "\tItems: 37483\n",
      "Test set\n",
      "\tEvents: 71222\n",
      "\tSessions: 15324\n",
      "\tItems: 6751\n",
      "Train set\n",
      "\tEvents: 31579006\n",
      "\tSessions: 7953885\n",
      "\tItems: 37483\n",
      "Validation set\n",
      "\tEvents: 58233\n",
      "\tSessions: 12372\n",
      "\tItems: 6359\n"
     ]
    }
   ],
   "source": [
    "tmax = data.Time.max()\n",
    "session_max_times = data.groupby('SessionId').Time.max()\n",
    "session_train = session_max_times[session_max_times < tmax-86400].index # 86400 secconds is one day\n",
    "session_test = session_max_times[session_max_times >= tmax-86400].index # 86400 secconds is one day\n",
    "train = data[np.in1d(data.SessionId, session_train)]\n",
    "train.to_csv('../../rsc15_train_full.txt', sep='\\t', index=False)\n",
    "print('Full train set\\n\\tEvents: {}\\n\\tSessions: {}\\n\\tItems: {}'.format(len(train), train.SessionId.nunique(), train.ItemId.nunique()))\n",
    "\n",
    "test = data[np.in1d(data.SessionId, session_test)]\n",
    "test = test[np.in1d(test.ItemId, train.ItemId)]\n",
    "tslength = test.groupby('SessionId').size()\n",
    "test = test[np.in1d(test.SessionId, tslength[tslength>=2].index)]\n",
    "test.to_csv('../../rsc15_test.txt', sep='\\t', index=False)\n",
    "print('Test set\\n\\tEvents: {}\\n\\tSessions: {}\\n\\tItems: {}'.format(len(test), test.SessionId.nunique(), test.ItemId.nunique()))\n",
    "\n",
    "\n",
    "tmax = train.Time.max()\n",
    "session_max_times = train.groupby('SessionId').Time.max()\n",
    "session_train = session_max_times[session_max_times < tmax-86400].index # 86400 secconds is one day\n",
    "session_valid = session_max_times[session_max_times >= tmax-86400].index # 86400 secconds is one day\n",
    "train_tr = train[np.in1d(train.SessionId, session_train)]\n",
    "valid = train[np.in1d(train.SessionId, session_valid)]\n",
    "valid = valid[np.in1d(valid.ItemId, train_tr.ItemId)]\n",
    "tslength = valid.groupby('SessionId').size()\n",
    "valid = valid[np.in1d(valid.SessionId, tslength[tslength>=2].index)]\n",
    "train_tr.to_csv('../../rsc15_train_tr.txt', sep='\\t', index=False)\n",
    "print('Train set\\n\\tEvents: {}\\n\\tSessions: {}\\n\\tItems: {}'.format(len(train_tr), train_tr.SessionId.nunique(), train_tr.ItemId.nunique()))\n",
    "valid.to_csv('../../rsc15_train_valid.txt', sep='\\t', index=False)\n",
    "print('Validation set\\n\\tEvents: {}\\n\\tSessions: {}\\n\\tItems: {}'.format(len(valid), valid.SessionId.nunique(), valid.ItemId.nunique()))"
   ]
  },
  {
   "cell_type": "markdown",
   "metadata": {
    "id": "nnTZeXIgU5I5"
   },
   "source": [
    "### Data Loader"
   ]
  },
  {
   "cell_type": "markdown",
   "metadata": {
    "id": "zpoSXxTLFfpW"
   },
   "source": [
    "RNNs for natural language processing tasks usually use in-sequence mini-batches. This does not fit our task, because:\n",
    "\n",
    "1.   the **length of sessions can be very different**, even more so than that of sentences: some sessions consist of only 2 events, while others may range over a few hundreds\n",
    "2.   our goal is to capture **how a session evolves over time**, so breaking down into fragments would make no sense.\n",
    "\n",
    "\n",
    "Therefore we use **session-parallel mini-batches**. First, we create an order for the sessions. Then, we use the first event of the first X sessions to form the input of the first mini-batch (the desired output is the second events of our active sessions). The second mini-batch is formed from the second events and so on."
   ]
  },
  {
   "cell_type": "markdown",
   "metadata": {
    "id": "_2ij7a9IF9XU"
   },
   "source": [
    "<html>\n",
    "<head>\n",
    "<meta name=\"viewport\" content=\"width=device-width, initial-scale=1\">\n",
    "<style>\n",
    "img {\n",
    "  display: block;\n",
    "  margin-left: auto;\n",
    "  margin-right: auto;\n",
    "}\n",
    "</style>\n",
    "</head>\n",
    "<body>\n",
    "\n",
    "\n",
    "\n",
    "<figure>\n",
    "<img src=\"https://www.researchgate.net/profile/Alexandros-Karatzoglou/publication/284579100/figure/fig2/AS:614315157631010@1523475555939/Session-parallel-mini-batch-creation.png\" alt=\"\" style=\"width:50%;>\n",
    "<figcaption align = \"center\" >\n",
    "</figure>\n",
    "\n",
    "</body>\n",
    "</html>"
   ]
  },
  {
   "cell_type": "code",
   "execution_count": 6,
   "metadata": {
    "id": "7u77fYb2U5I6"
   },
   "outputs": [],
   "source": [
    "class SessionDataset:\n",
    "    def __init__(self, data, sep='\\t', session_key='SessionId', item_key='ItemId', time_key='Time', n_samples=-1, itemmap=None, time_sort=False):\n",
    "        \"\"\"\n",
    "        Args:\n",
    "            path: path of the csv file\n",
    "            sep: separator for the csv\n",
    "            session_key, item_key, time_key: name of the fields corresponding to the sessions, items, time\n",
    "            n_samples: the number of samples to use. If -1, use the whole dataset.\n",
    "            itemmap: mapping between item IDs and item indices\n",
    "            time_sort: whether to sort the sessions by time or not\n",
    "        \"\"\"\n",
    "        self.df = data\n",
    "        self.session_key = session_key\n",
    "        self.item_key = item_key\n",
    "        self.time_key = time_key\n",
    "        self.time_sort = time_sort\n",
    "        self.add_item_indices(itemmap=itemmap)\n",
    "        self.df.sort_values([session_key, time_key], inplace=True)\n",
    "\n",
    "        # Sort the df by time, and then by session ID. That is, df is sorted by session ID and\n",
    "        # clicks within a session are next to each other, where the clicks within a session are time-ordered.\n",
    "\n",
    "        self.click_offsets = self.get_click_offsets()\n",
    "        self.session_idx_arr = self.order_session_idx()\n",
    "\n",
    "    def get_click_offsets(self):\n",
    "        \"\"\"\n",
    "        Return the offsets of the beginning clicks of each session IDs,\n",
    "        where the offset is calculated against the first click of the first session ID.\n",
    "        \"\"\"\n",
    "        offsets = np.zeros(self.df[self.session_key].nunique() + 1, dtype=np.int32)\n",
    "        # group & sort the df by session_key and get the offset values\n",
    "        offsets[1:] = self.df.groupby(self.session_key).size().cumsum()\n",
    "\n",
    "        return offsets\n",
    "\n",
    "    def order_session_idx(self):\n",
    "        \"\"\" Order the session indices \"\"\"\n",
    "        if self.time_sort:\n",
    "            # starting time for each sessions, sorted by session IDs\n",
    "            sessions_start_time = self.df.groupby(self.session_key)[self.time_key].min().values\n",
    "            # order the session indices by session starting times\n",
    "            session_idx_arr = np.argsort(sessions_start_time)\n",
    "        else:\n",
    "            session_idx_arr = np.arange(self.df[self.session_key].nunique())\n",
    "\n",
    "        return session_idx_arr\n",
    "\n",
    "    def add_item_indices(self, itemmap=None):\n",
    "        \"\"\"\n",
    "        Add item index column named \"item_idx\" to the df\n",
    "        Args:\n",
    "            itemmap (pd.DataFrame): mapping between the item Ids and indices\n",
    "        \"\"\"\n",
    "        if itemmap is None:\n",
    "            item_ids = self.df[self.item_key].unique()  # unique item ids\n",
    "            item2idx = pd.Series(data=np.arange(len(item_ids)),\n",
    "                                 index=item_ids)\n",
    "            itemmap = pd.DataFrame({self.item_key:item_ids,\n",
    "                                   'item_idx':item2idx[item_ids].values})\n",
    "\n",
    "        self.itemmap = itemmap\n",
    "        self.df = pd.merge(self.df, self.itemmap, on=self.item_key, how='inner')\n",
    "\n",
    "    @property\n",
    "    def items(self):\n",
    "        return self.itemmap.ItemId.unique()\n",
    "\n",
    "\n",
    "class SessionDataLoader:\n",
    "    def __init__(self, dataset, batch_size=50):\n",
    "        \"\"\"\n",
    "        A class for creating session-parallel mini-batches.\n",
    "        Args:\n",
    "            dataset (SessionDataset): the session dataset to generate the batches from\n",
    "            batch_size (int): size of the batch\n",
    "        \"\"\"\n",
    "        self.dataset = dataset\n",
    "        self.batch_size = batch_size\n",
    "        self.done_sessions_counter = 0\n",
    "\n",
    "    def __iter__(self):\n",
    "        \"\"\" Returns the iterator for producing session-parallel training mini-batches.\n",
    "        Yields:\n",
    "            input (B,):  Item indices that will be encoded as one-hot vectors later.\n",
    "            target (B,): a Variable that stores the target item indices\n",
    "            masks: Numpy array indicating the positions of the sessions to be terminated\n",
    "        \"\"\"\n",
    "\n",
    "        df = self.dataset.df\n",
    "        session_key='SessionId'\n",
    "        item_key='ItemId'\n",
    "        time_key='TimeStamp'\n",
    "        self.n_items = df[item_key].nunique()+1\n",
    "        click_offsets = self.dataset.click_offsets\n",
    "        session_idx_arr = self.dataset.session_idx_arr\n",
    "\n",
    "        iters = np.arange(self.batch_size)\n",
    "        maxiter = iters.max()\n",
    "        start = click_offsets[session_idx_arr[iters]]\n",
    "        end = click_offsets[session_idx_arr[iters] + 1]\n",
    "        mask = [] # indicator for the sessions to be terminated\n",
    "        finished = False\n",
    "\n",
    "        while not finished:\n",
    "            minlen = (end - start).min()\n",
    "            # Item indices (for embedding) for clicks where the first sessions start\n",
    "            idx_target = df.item_idx.values[start]\n",
    "            for i in range(minlen - 1):\n",
    "                # Build inputs & targets\n",
    "                idx_input = idx_target\n",
    "                idx_target = df.item_idx.values[start + i + 1]\n",
    "                inp = idx_input\n",
    "                target = idx_target\n",
    "                yield inp, target, mask\n",
    "\n",
    "            # click indices where a particular session meets second-to-last element\n",
    "            start = start + (minlen - 1)\n",
    "            # see if how many sessions should terminate\n",
    "            mask = np.arange(len(iters))[(end - start) <= 1]\n",
    "            self.done_sessions_counter = len(mask)\n",
    "            for idx in mask:\n",
    "                maxiter += 1\n",
    "                if maxiter >= len(click_offsets) - 1:\n",
    "                    finished = True\n",
    "                    break\n",
    "                # update the next starting/ending point\n",
    "                iters[idx] = maxiter\n",
    "                start[idx] = click_offsets[session_idx_arr[maxiter]]\n",
    "                end[idx] = click_offsets[session_idx_arr[maxiter] + 1]"
   ]
  },
  {
   "cell_type": "markdown",
   "metadata": {
    "id": "s6sgHrD6U5I7"
   },
   "source": [
    "## Model"
   ]
  },
  {
   "cell_type": "markdown",
   "metadata": {
    "id": "D69UC7qqV9zm"
   },
   "source": [
    "![demo1_model.PNG](data:image/png;base64,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)"
   ]
  },
  {
   "cell_type": "markdown",
   "metadata": {
    "id": "gJIDCuqWU5I7"
   },
   "source": [
    "This method uses **GRU-based** RNNs for session-based recommendations. \n",
    "\n",
    "The **input of the network** is the **actual state of the session**, while the **output** is the **item of the next event**. \n",
    "\n",
    "The session state can either be the item of the actual event or the events in the session so far. The input vector's length equals the number of items, and only the coordinate corresponding to the active item is one, the others are zeros.\n",
    "\n",
    "The GRU layer(s) is the core of the network, and additional feedforward layers can be added between it and the output. In this case, the output is a predicted preference, i.e. the likelihood of each item being next in the session. The hidden state of the previous layer becomes the input for the next layer when multiple GRU layers are used."
   ]
  },
  {
   "cell_type": "markdown",
   "metadata": {
    "id": "L3DvAQ-EU5I7"
   },
   "source": [
    "### Model Definition"
   ]
  },
  {
   "cell_type": "code",
   "execution_count": 7,
   "metadata": {
    "id": "B-GQmzPeU5I8"
   },
   "outputs": [],
   "source": [
    "def create_model(hidden_units, batch_size, train_n_items):\n",
    "    inputs = Input(batch_shape=(batch_size, 1, train_n_items))\n",
    "    gru, gru_states = GRU(hidden_units, stateful=True, return_state=True, name=\"GRU\")(inputs)\n",
    "    drop2 = Dropout(0.25)(gru)\n",
    "    predictions = Dense(train_n_items, activation='softmax')(drop2)\n",
    "    model = Model(inputs=inputs, outputs=[predictions])\n",
    "\n",
    "    return model"
   ]
  },
  {
   "cell_type": "markdown",
   "metadata": {
    "id": "5qWD8-P-U5I8"
   },
   "source": [
    "### Hyperparameter Settings"
   ]
  },
  {
   "cell_type": "code",
   "execution_count": 8,
   "metadata": {
    "id": "7WC9aFG9U5I8"
   },
   "outputs": [],
   "source": [
    "batch_size = 512\n",
    "hidden_units = 100\n",
    "train_n_items = len(train['ItemId'].unique()) + 1"
   ]
  },
  {
   "cell_type": "code",
   "execution_count": 9,
   "metadata": {
    "id": "RRgjL28NU5I8"
   },
   "outputs": [
    {
     "name": "stderr",
     "output_type": "stream",
     "text": [
      "2022-09-13 15:38:58.143158: I tensorflow/core/platform/cpu_feature_guard.cc:193] This TensorFlow binary is optimized with oneAPI Deep Neural Network Library (oneDNN) to use the following CPU instructions in performance-critical operations:  AVX2 AVX512F FMA\n",
      "To enable them in other operations, rebuild TensorFlow with the appropriate compiler flags.\n",
      "2022-09-13 15:38:59.324671: I tensorflow/core/common_runtime/gpu/gpu_device.cc:1532] Created device /job:localhost/replica:0/task:0/device:GPU:0 with 13795 MB memory:  -> device: 0, name: Tesla T4, pci bus id: 0000:87:00.0, compute capability: 7.5\n"
     ]
    }
   ],
   "source": [
    "model = create_model(hidden_units, batch_size, train_n_items)"
   ]
  },
  {
   "cell_type": "markdown",
   "metadata": {
    "id": "eTTCWLvsU5I9"
   },
   "source": [
    "### Loss Function "
   ]
  },
  {
   "cell_type": "code",
   "execution_count": 10,
   "metadata": {
    "colab": {
     "base_uri": "https://localhost:8080/"
    },
    "id": "N9pBS-XxU5I9",
    "outputId": "896d9c4e-62c4-4e5c-f840-6295caaf2a84"
   },
   "outputs": [],
   "source": [
    "opt = tf.keras.optimizers.Adam(learning_rate=0.001, beta_1=0.9, beta_2=0.999, epsilon=None, decay=0.0, amsgrad=False)\n",
    "model.compile(loss=categorical_crossentropy, optimizer=opt)"
   ]
  },
  {
   "cell_type": "code",
   "execution_count": 11,
   "metadata": {
    "colab": {
     "base_uri": "https://localhost:8080/"
    },
    "id": "9H7reu4dU5I-",
    "outputId": "a3e6d572-c052-4c84-c91f-f9060ef08ca5"
   },
   "outputs": [
    {
     "name": "stdout",
     "output_type": "stream",
     "text": [
      "Model: \"model\"\n",
      "_________________________________________________________________\n",
      " Layer (type)                Output Shape              Param #   \n",
      "=================================================================\n",
      " input_1 (InputLayer)        [(512, 1, 37484)]         0         \n",
      "                                                                 \n",
      " GRU (GRU)                   [(512, 100),              11275800  \n",
      "                              (512, 100)]                        \n",
      "                                                                 \n",
      " dropout (Dropout)           (512, 100)                0         \n",
      "                                                                 \n",
      " dense (Dense)               (512, 37484)              3785884   \n",
      "                                                                 \n",
      "=================================================================\n",
      "Total params: 15,061,684\n",
      "Trainable params: 15,061,684\n",
      "Non-trainable params: 0\n",
      "_________________________________________________________________\n"
     ]
    }
   ],
   "source": [
    "model.summary()"
   ]
  },
  {
   "cell_type": "markdown",
   "metadata": {
    "id": "-I4SRpVcU5I-"
   },
   "source": [
    "### Metrics for Method"
   ]
  },
  {
   "cell_type": "markdown",
   "metadata": {
    "id": "NonQRm3eU5I_"
   },
   "source": [
    "We can evaluate the method with the following metrics:\n",
    "\n",
    "- **Recall at K (Recall@K)**: It is the proportion of test cases in which the ground truth item is among the top K recommendations (a test example receives a score of 1 when the nth item appears, and 0 otherwise)."
   ]
  },
  {
   "cell_type": "markdown",
   "metadata": {
    "id": "CvCnkCZw-yUz"
   },
   "source": [
    "<html>\n",
    "<head>\n",
    "<meta name=\"viewport\" content=\"width=device-width, initial-scale=1\">\n",
    "<style>\n",
    "img {\n",
    "  display: block;\n",
    "  margin-left: auto;\n",
    "  margin-right: auto;\n",
    "}\n",
    "</style>\n",
    "</head>\n",
    "<body>\n",
    "\n",
    "\n",
    "\n",
    "<figure>\n",
    "<img src=\"https://miro.medium.com/max/1400/1*4idLDQc9FiyCMXy8Ck-LSA.png\" alt=\"\" width=\"300\" height=\"200\";>\n",
    "<figcaption align = \"center\" >\n",
    "</figure>\n",
    "\n",
    "</body>\n",
    "</html>"
   ]
  },
  {
   "cell_type": "markdown",
   "metadata": {
    "id": "xbiA0Tqd90yk"
   },
   "source": [
    "- **Mean Reciprocal Rank at K (MRR@K)**: For all test cases, the average reciprocal rank of the ground truth items within the top K recommendations is taken (for example, if the nth item was second in the list, its reciprocal rank would be 1/2). As a result of this metric, higher rankings are preferred in the ordered list of recommendation results."
   ]
  },
  {
   "cell_type": "markdown",
   "metadata": {
    "id": "xyvlW5gC95hO"
   },
   "source": [
    "<html>\n",
    "<head>\n",
    "<meta name=\"viewport\" content=\"width=device-width, initial-scale=1\">\n",
    "<style>\n",
    "img {\n",
    "  display: block;\n",
    "  margin-left: auto;\n",
    "  margin-right: auto;\n",
    "}\n",
    "</style>\n",
    "</head>\n",
    "<body>\n",
    "\n",
    "\n",
    "\n",
    "<figure>\n",
    "<img src=\"https://miro.medium.com/max/872/1*Yz8One3GN-vJfQxy6n2rAw.png\" alt=\"\" width=\"220\" height=\"\">\n",
    "<figcaption align = \"center\" >\n",
    "</figure>\n",
    "\n",
    "</body>\n",
    "</html>"
   ]
  },
  {
   "cell_type": "code",
   "execution_count": 20,
   "metadata": {
    "id": "jcbfzHnpU5I_"
   },
   "outputs": [],
   "source": [
    "def get_metrics(model, test, train_generator_map, recall_k=20, mrr_k=20):\n",
    "\n",
    "    test_dataset = SessionDataset(test, itemmap=train_generator_map)\n",
    "    test_generator = SessionDataLoader(test_dataset, batch_size=batch_size)\n",
    "\n",
    "    n = 0\n",
    "    rec_sum = 0\n",
    "    mrr_sum = 0\n",
    "\n",
    "    print(\"Evaluating model...\")\n",
    "    for feat, label, mask in test_generator:\n",
    "\n",
    "        gru_layer = model.get_layer(name=\"GRU\")\n",
    "        hidden_states = gru_layer.states[0].numpy()\n",
    "        for elt in mask:\n",
    "            hidden_states[elt, :] = 0\n",
    "        gru_layer.reset_states(states=hidden_states)\n",
    "\n",
    "        target_oh = to_categorical(label, num_classes=train_n_items)\n",
    "        input_oh  = to_categorical(feat,  num_classes=train_n_items)\n",
    "        input_oh = np.expand_dims(input_oh, axis=1)\n",
    "\n",
    "        pred = model.predict(input_oh, batch_size=batch_size, verbose=0)\n",
    "\n",
    "        for row_idx in range(feat.shape[0]):\n",
    "            pred_row = pred[row_idx]\n",
    "            label_row = target_oh[row_idx]\n",
    "\n",
    "            rec_idx =  pred_row.argsort()[-recall_k:][::-1]\n",
    "            mrr_idx =  pred_row.argsort()[-mrr_k:][::-1]\n",
    "            tru_idx = label_row.argsort()[-1:][::-1]\n",
    "\n",
    "            n += 1\n",
    "\n",
    "            if tru_idx[0] in rec_idx:\n",
    "                rec_sum += 1\n",
    "\n",
    "            if tru_idx[0] in mrr_idx:\n",
    "                mrr_sum += 1/int((np.where(mrr_idx == tru_idx[0])[0]+1))\n",
    "\n",
    "    recall = rec_sum/n\n",
    "    mrr = mrr_sum/n\n",
    "    return (recall, recall_k), (mrr, mrr_k)"
   ]
  },
  {
   "cell_type": "markdown",
   "metadata": {
    "id": "7d78FEd2U5I_"
   },
   "source": [
    "## Training, Validation and Testing"
   ]
  },
  {
   "cell_type": "code",
   "execution_count": 17,
   "metadata": {
    "id": "9MEA9ZTzU5I_"
   },
   "outputs": [],
   "source": [
    "epochs = 10\n",
    "train_n_items = len(train['ItemId'].unique()) + 1\n",
    "train_samples_qty = len(train['SessionId'].unique()) + 1\n",
    "test_samples_qty = len(test['SessionId'].unique()) + 1\n",
    "\n",
    "train_dataset = SessionDataset(train)"
   ]
  },
  {
   "cell_type": "code",
   "execution_count": null,
   "metadata": {
    "id": "BVuUVF3zU5JA",
    "scrolled": true
   },
   "outputs": [],
   "source": [
    "for epoch in range(1, epochs + 1):\n",
    "    with tqdm(total=train_samples_qty) as pbar:\n",
    "        loader = SessionDataLoader(train_dataset, batch_size=batch_size)\n",
    "        for feat, target, mask in loader:\n",
    "\n",
    "            gru_layer = model.get_layer(name=\"GRU\")\n",
    "            hidden_states = gru_layer.states[0].numpy()\n",
    "            for elt in mask:\n",
    "                hidden_states[elt, :] = 0\n",
    "            gru_layer.reset_states(states=hidden_states)\n",
    "\n",
    "            input_oh = to_categorical(feat, num_classes=loader.n_items)\n",
    "            input_oh = np.expand_dims(input_oh, axis=1)\n",
    "\n",
    "            target_oh = to_categorical(target, num_classes=loader.n_items)\n",
    "\n",
    "            tr_loss = model.train_on_batch(input_oh, target_oh)\n",
    "\n",
    "            pbar.set_description(\"Epoch {0}. Loss: {1:.5f}\".format(epoch, tr_loss))\n",
    "            pbar.update(loader.done_sessions_counter)\n",
    "\n",
    "    print(\"Saving weights...\")\n",
    "    model.save('../../GRU4REC_{}.h5'.format(epoch))\n",
    "\n",
    "    (rec, rec_k), (mrr, mrr_k) = get_metrics(model, test, train_dataset.itemmap, recall_k=20, mrr_k=20)\n",
    "    print(\"\\t - Recall@{} epoch {}: {:5f}\".format(rec_k, epoch, rec))\n",
    "    print(\"\\t - MRR@{}    epoch {}: {:5f}\\n\".format(mrr_k, epoch, mrr))"
   ]
  },
  {
   "cell_type": "code",
   "execution_count": 18,
   "metadata": {
    "id": "tmghSthHaiXb"
   },
   "outputs": [],
   "source": [
    "model.load_weights(\"/ssd003/projects/aieng/public/recsys_ckpts/GRU4REC.h5\")"
   ]
  },
  {
   "cell_type": "code",
   "execution_count": 21,
   "metadata": {
    "colab": {
     "base_uri": "https://localhost:8080/"
    },
    "id": "zUXLEb_BU5JA",
    "outputId": "6f1939d5-8ea9-4dc6-c09a-bb5e3e07603f",
    "scrolled": true
   },
   "outputs": [
    {
     "name": "stdout",
     "output_type": "stream",
     "text": [
      "Evaluating model...\n"
     ]
    }
   ],
   "source": [
    "(rec, rec_k), (mrr, mrr_k) = get_metrics(model, test, train_dataset.itemmap, recall_k=20, mrr_k=20)"
   ]
  },
  {
   "cell_type": "code",
   "execution_count": 23,
   "metadata": {},
   "outputs": [
    {
     "name": "stdout",
     "output_type": "stream",
     "text": [
      "Recall@20: 0.719952\n",
      "MRR@20: 0.316040\n",
      "\n"
     ]
    }
   ],
   "source": [
    "print(\"Recall@{}: {:5f}\".format(rec_k, rec))\n",
    "print(\"MRR@{}: {:5f}\\n\".format(mrr_k, mrr))"
   ]
  },
  {
   "cell_type": "markdown",
   "metadata": {
    "id": "1LQAFkN4aCmg"
   },
   "source": [
    "<h2> Result Compared to baselines </h2>"
   ]
  },
  {
   "cell_type": "markdown",
   "metadata": {
    "id": "TltKzqfJYuMx"
   },
   "source": [
    "| Methods/Metrics      | Recall@20 | MRR@20     |\n",
    "| :---        |    :----:   |          ---: |\n",
    "| POP      | 0.0050       | 0.0012   |\n",
    "| S-POP   | 0.2672        | 0.1775      |\n",
    "| BPR-MF   | 0.2574        | 0.0618      |\n",
    "| Item-KNN      | 0.5065       | 0.2048   |\n",
    "| **GRU4Rec**   | **0.719952**        | **0.316040**      |"
   ]
  },
  {
   "cell_type": "markdown",
   "metadata": {
    "id": "3K5Fj6vGU5JA"
   },
   "source": [
    "# References"
   ]
  },
  {
   "cell_type": "markdown",
   "metadata": {
    "id": "eHCl06hiU5JA"
   },
   "source": [
    "1. <a href=\"https://arxiv.org/pdf/1511.06939.pdf\" title=\"Session-based recommendations with recurrent neural networks\">Hidasi, Balázs, et al. Session-based recommendations with recurrent neural networks.</a>\n",
    "2. https://github.com/paxcema/KerasGRU4Rec\n",
    "3. https://session-based-recommenders.fastforwardlabs.com"
   ]
  }
 ],
 "metadata": {
  "accelerator": "GPU",
  "colab": {
   "collapsed_sections": [],
   "name": "Session Based Recommender Demo 1.ipynb",
   "provenance": []
  },
  "gpuClass": "standard",
  "kernelspec": {
   "display_name": "recsys",
   "language": "python",
   "name": "recsys_env"
  },
  "language_info": {
   "codemirror_mode": {
    "name": "ipython",
    "version": 3
   },
   "file_extension": ".py",
   "mimetype": "text/x-python",
   "name": "python",
   "nbconvert_exporter": "python",
   "pygments_lexer": "ipython3",
   "version": "3.7.10"
  }
 },
 "nbformat": 4,
 "nbformat_minor": 1
}
