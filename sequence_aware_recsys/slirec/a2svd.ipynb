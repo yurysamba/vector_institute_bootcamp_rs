{
 "cells": [
  {
   "cell_type": "markdown",
   "id": "adjusted-student",
   "metadata": {},
   "source": [
    "## Introduction \n",
    "\n",
    "This is the first in a series of two notebooks that explore different sequence aware recommender system methods. In this notebook we will explore a relatively simple baseline method - [Attentive Asynchronous Singular Value Decomposition](https://github.com/microsoft/recommenders). In the following notebook, we will explore a more advanced technique [Short-term and Long-term preference Integrated\n",
    "Recommender system](https://www.microsoft.com/en-us/research/uploads/prod/2019/07/IJCAI19-ready_v1.pdf) (SLi-Rec). Both methods will be applied to the [Amazon Review Dataset](https://nijianmo.github.io/amazon/index.html). Specifically, the Movies and TV dataset is used which contains 8,765,568 reviews of 203,970 products. \n",
    "\n",
    "## Attentive Asymmetric Singular Value Decomposition\n",
    "Matrix factorization approaches have been widely used to model the long term preferences of users. In the standard setup, user and item latent factors are determined such that there product approximates the ratings matrix. \n",
    "\n",
    "<p align=\"center\"> \n",
    "<img width=\"598\" alt=\"Screen Shot 2022-08-03 at 12 47 53 PM\" src=\"https://user-images.githubusercontent.com/34798787/182664416-4ca4ab67-8f76-4c22-aedd-13d326e3161a.png\">\n",
    "</p> \n",
    "\n",
    "Early approaches to matrix factoriztion use a singular value decomposition (SVD) to determine the item and latent factors. In practice, the ratings matrix is sparse so the SVD can be ineffective. Instead, stochastic gradient descent is often used to learn user factors $p_i$ and item factors $q_j$ that approximate **observed** ratings $r_{i, j}$ \n",
    "\n",
    "$$\n",
    "\\begin{eqnarray}\n",
    "\\min_{p, q} \n",
    "\\sum_{i, j \\in R}{(r_{i, j} - p_i^T q_j)^2 + \\lambda(||p_i||^2 + ||q_j||^2)}\n",
    "\\end{eqnarray}\n",
    "$$\n",
    "\n",
    "Matrix factorization approaches that avoid explicitly parametizing users have also been proposed. The size of the item set is typically much smaller than the size of the user set so this drastically reduces the amount of parameters. An example of one such approach is the Asymmetric-SVD which represents users as combination of item latent factors $q_j$ weighted by coefficients $a_{k}^{l}$:\n",
    "\n",
    "$$\n",
    "\\begin{eqnarray}\n",
    "p_u = \\sum_{j \\in R} a_{j} q_j\n",
    "\\end{eqnarray}\n",
    "$$\n",
    "\n",
    "$a_j$ is the weigting score for behaviour $j$. Thus, it should assign a higher weights to behaviours that are more informative. In the recently proposed [Short-term and Long-term preference Integrated\n",
    "Recommender system](https://www.microsoft.com/en-us/research/uploads/prod/2019/07/IJCAI19-ready_v1.pdf) (SLi-Rec), $a_j$ is computed as an attention score across items a user has interacted with. The resultant model is reffered to as Attentive Asymmetric Singular Value Decomposition (A2SVD). A2SVD is used in the SLi-Rec to model long term preferences of users. We will explore the SLi-Rec method in the next notebook. However, in this notebook we will be focusing on A2SVD method. \n"
   ]
  },
  {
   "cell_type": "markdown",
   "id": "sublime-neighborhood",
   "metadata": {},
   "source": [
    "## Package Imports and Global Variables"
   ]
  },
  {
   "cell_type": "code",
   "execution_count": 1,
   "id": "pretty-people",
   "metadata": {},
   "outputs": [],
   "source": [
    "# Package Imports\n",
    "import os\n",
    "import time\n",
    "import warnings\n",
    "warnings.filterwarnings(\"ignore\")\n",
    "\n",
    "import numpy as np \n",
    "import pandas as pd\n",
    "import tensorflow as tf\n",
    "import tensorboard as tb\n",
    "import matplotlib.pyplot as plt\n",
    "\n",
    "from recommenders.utils.timer import Timer\n",
    "from recommenders.models.deeprec.deeprec_utils import prepare_hparams\n",
    "from recommenders.models.deeprec.io.sequential_iterator import SequentialIterator\n",
    "\n",
    "# Local Imports \n",
    "from model import A2SVDModel_Custom as SeqModel\n",
    "from utils import create_vocab"
   ]
  },
  {
   "cell_type": "code",
   "execution_count": 2,
   "id": "robust-commons",
   "metadata": {},
   "outputs": [],
   "source": [
    "DATA_PATH = \"data\"\n",
    "BASE_LOG_PATH = \"logs\"\n",
    "BASE_MODEL_PATH = \"models\"\n",
    "REVIEWS_FILE = 'reviews_Movies_and_TV_5.json'\n",
    "META_FILE = 'meta_Movies_and_TV.json'\n",
    "\n",
    "YAML_PATH = \"config/asvd.yaml\"\n",
    "\n",
    "\n",
    "EPOCHS = 10\n",
    "BATCH_SIZE = 400\n",
    "RANDOM_SEED = 42\n",
    "\n",
    "train_num_ngs = 4\n",
    "valid_num_ngs = 4"
   ]
  },
  {
   "cell_type": "code",
   "execution_count": 3,
   "id": "steady-germany",
   "metadata": {},
   "outputs": [
    {
     "name": "stdout",
     "output_type": "stream",
     "text": [
      "[PhysicalDevice(name='/physical_device:GPU:0', device_type='GPU')]\n"
     ]
    }
   ],
   "source": [
    "print(tf.config.list_physical_devices('GPU'))"
   ]
  },
  {
   "cell_type": "code",
   "execution_count": 4,
   "id": "failing-employee",
   "metadata": {},
   "outputs": [],
   "source": [
    "# Directories to store train, validation and test splits\n",
    "train_path = os.path.join(DATA_PATH, r'train_data')\n",
    "valid_path = os.path.join(DATA_PATH, r'valid_data')\n",
    "test_path = os.path.join(DATA_PATH, r'test_data')\n",
    "\n",
    "# Files paths to store the list of existing ids for user, item and item category \n",
    "user_vocab_path = os.path.join(DATA_PATH, r'user_vocab.pkl')\n",
    "item_vocab_path = os.path.join(DATA_PATH, r'item_vocab.pkl')\n",
    "cate_vocab_path = os.path.join(DATA_PATH, r'category_vocab.pkl')\n",
    "output_file_path = os.path.join(DATA_PATH, r'output.txt')\n",
    "\n",
    "# File paths to store reviews and associated metadata\n",
    "reviews_path = os.path.join(DATA_PATH, REVIEWS_FILE)\n",
    "meta_path = os.path.join(DATA_PATH, META_FILE)\n",
    "\n",
    "valid_num_ngs = 4 # number of negative instances with a positive instance for validation\n",
    "test_num_ngs = 9 # number of negative instances with a positive instance for testing\n",
    "\n",
    "# create run drectory to store results\n",
    "if os.path.exists(BASE_MODEL_PATH) == False:\n",
    "    os.mkdir(BASE_MODEL_PATH)\n",
    "    \n",
    "MODEL_PATH = f\"{BASE_MODEL_PATH}/{str(time.time())}\"\n",
    "\n",
    "if os.path.exists(BASE_LOG_PATH) == False:\n",
    "    os.mkdir(BASE_LOG_PATH)\n",
    "\n",
    "LOG_PATH = f\"{BASE_LOG_PATH}/{str(time.time())}\""
   ]
  },
  {
   "cell_type": "markdown",
   "id": "intended-learning",
   "metadata": {},
   "source": [
    "## Data Loading \n",
    "\n",
    "Given that the data is preprocessed in the [amazon_preprocessing notebook](amazon_preprocessing.ipynb), no further processing is required. In this section, we will briefly analyze the train, validation and test sets to get aquainted with the data we will be modelling. Futhermore, a data loader will be defined to iteratively fetch samples from the datasets during training and evaluation. \n",
    "\n",
    "The train dataset consists of a dataframe where each record is a review of a product `item_id` in category `cate_id` at time `timestamp` by user `user_id`. Each record also contains the list of previous items the user interacted with `prev_ids` along with the corresponding categories `prev_cate_ids` and timestamps `prev_timestamps`."
   ]
  },
  {
   "cell_type": "code",
   "execution_count": 5,
   "id": "neither-position",
   "metadata": {},
   "outputs": [
    {
     "data": {
      "text/html": [
       "<div>\n",
       "<style scoped>\n",
       "    .dataframe tbody tr th:only-of-type {\n",
       "        vertical-align: middle;\n",
       "    }\n",
       "\n",
       "    .dataframe tbody tr th {\n",
       "        vertical-align: top;\n",
       "    }\n",
       "\n",
       "    .dataframe thead th {\n",
       "        text-align: right;\n",
       "    }\n",
       "</style>\n",
       "<table border=\"1\" class=\"dataframe\">\n",
       "  <thead>\n",
       "    <tr style=\"text-align: right;\">\n",
       "      <th></th>\n",
       "      <th>label</th>\n",
       "      <th>user_id</th>\n",
       "      <th>item_id</th>\n",
       "      <th>cate_id</th>\n",
       "      <th>timestamp</th>\n",
       "      <th>prev_item_ids</th>\n",
       "      <th>prev_cate_ids</th>\n",
       "      <th>prev_timestamps</th>\n",
       "    </tr>\n",
       "  </thead>\n",
       "  <tbody>\n",
       "    <tr>\n",
       "      <th>0</th>\n",
       "      <td>1</td>\n",
       "      <td>AWF2S3UNW9UA0</td>\n",
       "      <td>B008220C38</td>\n",
       "      <td>Movies</td>\n",
       "      <td>1362441600</td>\n",
       "      <td>B005LAIHQS</td>\n",
       "      <td>Movies</td>\n",
       "      <td>1361232000</td>\n",
       "    </tr>\n",
       "    <tr>\n",
       "      <th>1</th>\n",
       "      <td>1</td>\n",
       "      <td>AWF2S3UNW9UA0</td>\n",
       "      <td>B009AMANBA</td>\n",
       "      <td>Movies</td>\n",
       "      <td>1365033600</td>\n",
       "      <td>B005LAIHQS,B008220C38</td>\n",
       "      <td>Movies,Movies</td>\n",
       "      <td>1361232000,1362441600</td>\n",
       "    </tr>\n",
       "    <tr>\n",
       "      <th>2</th>\n",
       "      <td>1</td>\n",
       "      <td>AWF2S3UNW9UA0</td>\n",
       "      <td>B00B74MJOS</td>\n",
       "      <td>Movies</td>\n",
       "      <td>1367625600</td>\n",
       "      <td>B005LAIHQS,B008220C38,B009AMANBA</td>\n",
       "      <td>Movies,Movies,Movies</td>\n",
       "      <td>1361232000,1362441600,1365033600</td>\n",
       "    </tr>\n",
       "    <tr>\n",
       "      <th>3</th>\n",
       "      <td>1</td>\n",
       "      <td>AWF2S3UNW9UA0</td>\n",
       "      <td>B0067EKYL8</td>\n",
       "      <td>Movies</td>\n",
       "      <td>1371686400</td>\n",
       "      <td>B005LAIHQS,B008220C38,B009AMANBA,B00B74MJOS</td>\n",
       "      <td>Movies,Movies,Movies,Movies</td>\n",
       "      <td>1361232000,1362441600,1365033600,1367625600</td>\n",
       "    </tr>\n",
       "    <tr>\n",
       "      <th>4</th>\n",
       "      <td>1</td>\n",
       "      <td>AWF2S3UNW9UA0</td>\n",
       "      <td>0792839072</td>\n",
       "      <td>Movies</td>\n",
       "      <td>1372982400</td>\n",
       "      <td>B005LAIHQS,B008220C38,B009AMANBA,B00B74MJOS,B0...</td>\n",
       "      <td>Movies,Movies,Movies,Movies,Movies</td>\n",
       "      <td>1361232000,1362441600,1365033600,1367625600,13...</td>\n",
       "    </tr>\n",
       "    <tr>\n",
       "      <th>...</th>\n",
       "      <td>...</td>\n",
       "      <td>...</td>\n",
       "      <td>...</td>\n",
       "      <td>...</td>\n",
       "      <td>...</td>\n",
       "      <td>...</td>\n",
       "      <td>...</td>\n",
       "      <td>...</td>\n",
       "    </tr>\n",
       "    <tr>\n",
       "      <th>16630</th>\n",
       "      <td>1</td>\n",
       "      <td>A1WZZDWYPVST2M</td>\n",
       "      <td>B008JFUUIA</td>\n",
       "      <td>Movies</td>\n",
       "      <td>1365552000</td>\n",
       "      <td>B005S9ELM6</td>\n",
       "      <td>Movies</td>\n",
       "      <td>1365552000</td>\n",
       "    </tr>\n",
       "    <tr>\n",
       "      <th>16631</th>\n",
       "      <td>1</td>\n",
       "      <td>A37K6TJ94ZFXVQ</td>\n",
       "      <td>B008JFUOWM</td>\n",
       "      <td>Movies</td>\n",
       "      <td>1390262400</td>\n",
       "      <td>B00B74MJOS</td>\n",
       "      <td>Movies</td>\n",
       "      <td>1368144000</td>\n",
       "    </tr>\n",
       "    <tr>\n",
       "      <th>16632</th>\n",
       "      <td>1</td>\n",
       "      <td>A16342W88H5YWK</td>\n",
       "      <td>B0090SI3ZW</td>\n",
       "      <td>Movies</td>\n",
       "      <td>1364256000</td>\n",
       "      <td>B007R6D74G</td>\n",
       "      <td>Movies</td>\n",
       "      <td>1348185600</td>\n",
       "    </tr>\n",
       "    <tr>\n",
       "      <th>16633</th>\n",
       "      <td>1</td>\n",
       "      <td>AA3UZRM4EFLK2</td>\n",
       "      <td>B0067EKYL8</td>\n",
       "      <td>Movies</td>\n",
       "      <td>1365465600</td>\n",
       "      <td>B005S9ELM6</td>\n",
       "      <td>Movies</td>\n",
       "      <td>1365465600</td>\n",
       "    </tr>\n",
       "    <tr>\n",
       "      <th>16634</th>\n",
       "      <td>1</td>\n",
       "      <td>A1LM42U1DOCBQ</td>\n",
       "      <td>B009934S5M</td>\n",
       "      <td>Movies</td>\n",
       "      <td>1369008000</td>\n",
       "      <td>B005S9ELM6</td>\n",
       "      <td>Movies</td>\n",
       "      <td>1362441600</td>\n",
       "    </tr>\n",
       "  </tbody>\n",
       "</table>\n",
       "<p>16635 rows × 8 columns</p>\n",
       "</div>"
      ],
      "text/plain": [
       "       label         user_id     item_id cate_id   timestamp  \\\n",
       "0          1   AWF2S3UNW9UA0  B008220C38  Movies  1362441600   \n",
       "1          1   AWF2S3UNW9UA0  B009AMANBA  Movies  1365033600   \n",
       "2          1   AWF2S3UNW9UA0  B00B74MJOS  Movies  1367625600   \n",
       "3          1   AWF2S3UNW9UA0  B0067EKYL8  Movies  1371686400   \n",
       "4          1   AWF2S3UNW9UA0  0792839072  Movies  1372982400   \n",
       "...      ...             ...         ...     ...         ...   \n",
       "16630      1  A1WZZDWYPVST2M  B008JFUUIA  Movies  1365552000   \n",
       "16631      1  A37K6TJ94ZFXVQ  B008JFUOWM  Movies  1390262400   \n",
       "16632      1  A16342W88H5YWK  B0090SI3ZW  Movies  1364256000   \n",
       "16633      1   AA3UZRM4EFLK2  B0067EKYL8  Movies  1365465600   \n",
       "16634      1   A1LM42U1DOCBQ  B009934S5M  Movies  1369008000   \n",
       "\n",
       "                                           prev_item_ids  \\\n",
       "0                                             B005LAIHQS   \n",
       "1                                  B005LAIHQS,B008220C38   \n",
       "2                       B005LAIHQS,B008220C38,B009AMANBA   \n",
       "3            B005LAIHQS,B008220C38,B009AMANBA,B00B74MJOS   \n",
       "4      B005LAIHQS,B008220C38,B009AMANBA,B00B74MJOS,B0...   \n",
       "...                                                  ...   \n",
       "16630                                         B005S9ELM6   \n",
       "16631                                         B00B74MJOS   \n",
       "16632                                         B007R6D74G   \n",
       "16633                                         B005S9ELM6   \n",
       "16634                                         B005S9ELM6   \n",
       "\n",
       "                            prev_cate_ids  \\\n",
       "0                                  Movies   \n",
       "1                           Movies,Movies   \n",
       "2                    Movies,Movies,Movies   \n",
       "3             Movies,Movies,Movies,Movies   \n",
       "4      Movies,Movies,Movies,Movies,Movies   \n",
       "...                                   ...   \n",
       "16630                              Movies   \n",
       "16631                              Movies   \n",
       "16632                              Movies   \n",
       "16633                              Movies   \n",
       "16634                              Movies   \n",
       "\n",
       "                                         prev_timestamps  \n",
       "0                                             1361232000  \n",
       "1                                  1361232000,1362441600  \n",
       "2                       1361232000,1362441600,1365033600  \n",
       "3            1361232000,1362441600,1365033600,1367625600  \n",
       "4      1361232000,1362441600,1365033600,1367625600,13...  \n",
       "...                                                  ...  \n",
       "16630                                         1365552000  \n",
       "16631                                         1368144000  \n",
       "16632                                         1348185600  \n",
       "16633                                         1365465600  \n",
       "16634                                         1362441600  \n",
       "\n",
       "[16635 rows x 8 columns]"
      ]
     },
     "execution_count": 5,
     "metadata": {},
     "output_type": "execute_result"
    }
   ],
   "source": [
    "train_df = pd.read_csv(train_path, sep=\"\\t\", index_col=False, names=[\"label\", \"user_id\", \"item_id\", \"cate_id\", \"timestamp\", \"prev_item_ids\", \"prev_cate_ids\", \"prev_timestamps\"])\n",
    "train_df"
   ]
  },
  {
   "cell_type": "markdown",
   "id": "earned-alias",
   "metadata": {},
   "source": [
    "The validation and test datasets share the schema as the train dataset. The only key distinction is that the evaluations sets contain negative samples which are denoted by a label of 0. Negative samples are interactions between users and items that have not occured. They are included so we can compute metrics of how well the generated recommendations approximate the users actual behaviour. "
   ]
  },
  {
   "cell_type": "code",
   "execution_count": 6,
   "id": "psychological-sauce",
   "metadata": {},
   "outputs": [
    {
     "data": {
      "text/html": [
       "<div>\n",
       "<style scoped>\n",
       "    .dataframe tbody tr th:only-of-type {\n",
       "        vertical-align: middle;\n",
       "    }\n",
       "\n",
       "    .dataframe tbody tr th {\n",
       "        vertical-align: top;\n",
       "    }\n",
       "\n",
       "    .dataframe thead th {\n",
       "        text-align: right;\n",
       "    }\n",
       "</style>\n",
       "<table border=\"1\" class=\"dataframe\">\n",
       "  <thead>\n",
       "    <tr style=\"text-align: right;\">\n",
       "      <th></th>\n",
       "      <th>label</th>\n",
       "      <th>user_id</th>\n",
       "      <th>item_id</th>\n",
       "      <th>cate_id</th>\n",
       "      <th>timestamp</th>\n",
       "      <th>prev_item_ids</th>\n",
       "      <th>prev_cate_ids</th>\n",
       "      <th>prev_timestamps</th>\n",
       "    </tr>\n",
       "  </thead>\n",
       "  <tbody>\n",
       "    <tr>\n",
       "      <th>0</th>\n",
       "      <td>1</td>\n",
       "      <td>AWF2S3UNW9UA0</td>\n",
       "      <td>B00005K3OT</td>\n",
       "      <td>Movies</td>\n",
       "      <td>1393718400</td>\n",
       "      <td>B005LAIHQS,B008220C38,B009AMANBA,B00B74MJOS,B0...</td>\n",
       "      <td>Movies,Movies,Movies,Movies,Movies,Movies,Movi...</td>\n",
       "      <td>1361232000,1362441600,1365033600,1367625600,13...</td>\n",
       "    </tr>\n",
       "    <tr>\n",
       "      <th>1</th>\n",
       "      <td>0</td>\n",
       "      <td>AWF2S3UNW9UA0</td>\n",
       "      <td>B0090SI3ZW</td>\n",
       "      <td>Movies</td>\n",
       "      <td>1393718400</td>\n",
       "      <td>B005LAIHQS,B008220C38,B009AMANBA,B00B74MJOS,B0...</td>\n",
       "      <td>Movies,Movies,Movies,Movies,Movies,Movies,Movi...</td>\n",
       "      <td>1361232000,1362441600,1365033600,1367625600,13...</td>\n",
       "    </tr>\n",
       "    <tr>\n",
       "      <th>2</th>\n",
       "      <td>0</td>\n",
       "      <td>AWF2S3UNW9UA0</td>\n",
       "      <td>B00E8RK5OC</td>\n",
       "      <td>Movies</td>\n",
       "      <td>1393718400</td>\n",
       "      <td>B005LAIHQS,B008220C38,B009AMANBA,B00B74MJOS,B0...</td>\n",
       "      <td>Movies,Movies,Movies,Movies,Movies,Movies,Movi...</td>\n",
       "      <td>1361232000,1362441600,1365033600,1367625600,13...</td>\n",
       "    </tr>\n",
       "    <tr>\n",
       "      <th>3</th>\n",
       "      <td>0</td>\n",
       "      <td>AWF2S3UNW9UA0</td>\n",
       "      <td>6305171769</td>\n",
       "      <td>Movies</td>\n",
       "      <td>1393718400</td>\n",
       "      <td>B005LAIHQS,B008220C38,B009AMANBA,B00B74MJOS,B0...</td>\n",
       "      <td>Movies,Movies,Movies,Movies,Movies,Movies,Movi...</td>\n",
       "      <td>1361232000,1362441600,1365033600,1367625600,13...</td>\n",
       "    </tr>\n",
       "    <tr>\n",
       "      <th>4</th>\n",
       "      <td>0</td>\n",
       "      <td>AWF2S3UNW9UA0</td>\n",
       "      <td>B00005JPFX</td>\n",
       "      <td>Movies</td>\n",
       "      <td>1393718400</td>\n",
       "      <td>B005LAIHQS,B008220C38,B009AMANBA,B00B74MJOS,B0...</td>\n",
       "      <td>Movies,Movies,Movies,Movies,Movies,Movies,Movi...</td>\n",
       "      <td>1361232000,1362441600,1365033600,1367625600,13...</td>\n",
       "    </tr>\n",
       "    <tr>\n",
       "      <th>...</th>\n",
       "      <td>...</td>\n",
       "      <td>...</td>\n",
       "      <td>...</td>\n",
       "      <td>...</td>\n",
       "      <td>...</td>\n",
       "      <td>...</td>\n",
       "      <td>...</td>\n",
       "      <td>...</td>\n",
       "    </tr>\n",
       "    <tr>\n",
       "      <th>34360</th>\n",
       "      <td>1</td>\n",
       "      <td>A173F44ZGP878J</td>\n",
       "      <td>B00E8RK5OC</td>\n",
       "      <td>Movies</td>\n",
       "      <td>1383264000</td>\n",
       "      <td>B009AMANBA</td>\n",
       "      <td>Movies</td>\n",
       "      <td>1365811200</td>\n",
       "    </tr>\n",
       "    <tr>\n",
       "      <th>34361</th>\n",
       "      <td>0</td>\n",
       "      <td>A173F44ZGP878J</td>\n",
       "      <td>B00005JPS8</td>\n",
       "      <td>Movies</td>\n",
       "      <td>1383264000</td>\n",
       "      <td>B009AMANBA</td>\n",
       "      <td>Movies</td>\n",
       "      <td>1365811200</td>\n",
       "    </tr>\n",
       "    <tr>\n",
       "      <th>34362</th>\n",
       "      <td>0</td>\n",
       "      <td>A173F44ZGP878J</td>\n",
       "      <td>B009934S5M</td>\n",
       "      <td>Movies</td>\n",
       "      <td>1383264000</td>\n",
       "      <td>B009AMANBA</td>\n",
       "      <td>Movies</td>\n",
       "      <td>1365811200</td>\n",
       "    </tr>\n",
       "    <tr>\n",
       "      <th>34363</th>\n",
       "      <td>0</td>\n",
       "      <td>A173F44ZGP878J</td>\n",
       "      <td>B000E1MTYK</td>\n",
       "      <td>Movies</td>\n",
       "      <td>1383264000</td>\n",
       "      <td>B009AMANBA</td>\n",
       "      <td>Movies</td>\n",
       "      <td>1365811200</td>\n",
       "    </tr>\n",
       "    <tr>\n",
       "      <th>34364</th>\n",
       "      <td>0</td>\n",
       "      <td>A173F44ZGP878J</td>\n",
       "      <td>B00005JLXH</td>\n",
       "      <td>Movies</td>\n",
       "      <td>1383264000</td>\n",
       "      <td>B009AMANBA</td>\n",
       "      <td>Movies</td>\n",
       "      <td>1365811200</td>\n",
       "    </tr>\n",
       "  </tbody>\n",
       "</table>\n",
       "<p>34365 rows × 8 columns</p>\n",
       "</div>"
      ],
      "text/plain": [
       "       label         user_id     item_id cate_id   timestamp  \\\n",
       "0          1   AWF2S3UNW9UA0  B00005K3OT  Movies  1393718400   \n",
       "1          0   AWF2S3UNW9UA0  B0090SI3ZW  Movies  1393718400   \n",
       "2          0   AWF2S3UNW9UA0  B00E8RK5OC  Movies  1393718400   \n",
       "3          0   AWF2S3UNW9UA0  6305171769  Movies  1393718400   \n",
       "4          0   AWF2S3UNW9UA0  B00005JPFX  Movies  1393718400   \n",
       "...      ...             ...         ...     ...         ...   \n",
       "34360      1  A173F44ZGP878J  B00E8RK5OC  Movies  1383264000   \n",
       "34361      0  A173F44ZGP878J  B00005JPS8  Movies  1383264000   \n",
       "34362      0  A173F44ZGP878J  B009934S5M  Movies  1383264000   \n",
       "34363      0  A173F44ZGP878J  B000E1MTYK  Movies  1383264000   \n",
       "34364      0  A173F44ZGP878J  B00005JLXH  Movies  1383264000   \n",
       "\n",
       "                                           prev_item_ids  \\\n",
       "0      B005LAIHQS,B008220C38,B009AMANBA,B00B74MJOS,B0...   \n",
       "1      B005LAIHQS,B008220C38,B009AMANBA,B00B74MJOS,B0...   \n",
       "2      B005LAIHQS,B008220C38,B009AMANBA,B00B74MJOS,B0...   \n",
       "3      B005LAIHQS,B008220C38,B009AMANBA,B00B74MJOS,B0...   \n",
       "4      B005LAIHQS,B008220C38,B009AMANBA,B00B74MJOS,B0...   \n",
       "...                                                  ...   \n",
       "34360                                         B009AMANBA   \n",
       "34361                                         B009AMANBA   \n",
       "34362                                         B009AMANBA   \n",
       "34363                                         B009AMANBA   \n",
       "34364                                         B009AMANBA   \n",
       "\n",
       "                                           prev_cate_ids  \\\n",
       "0      Movies,Movies,Movies,Movies,Movies,Movies,Movi...   \n",
       "1      Movies,Movies,Movies,Movies,Movies,Movies,Movi...   \n",
       "2      Movies,Movies,Movies,Movies,Movies,Movies,Movi...   \n",
       "3      Movies,Movies,Movies,Movies,Movies,Movies,Movi...   \n",
       "4      Movies,Movies,Movies,Movies,Movies,Movies,Movi...   \n",
       "...                                                  ...   \n",
       "34360                                             Movies   \n",
       "34361                                             Movies   \n",
       "34362                                             Movies   \n",
       "34363                                             Movies   \n",
       "34364                                             Movies   \n",
       "\n",
       "                                         prev_timestamps  \n",
       "0      1361232000,1362441600,1365033600,1367625600,13...  \n",
       "1      1361232000,1362441600,1365033600,1367625600,13...  \n",
       "2      1361232000,1362441600,1365033600,1367625600,13...  \n",
       "3      1361232000,1362441600,1365033600,1367625600,13...  \n",
       "4      1361232000,1362441600,1365033600,1367625600,13...  \n",
       "...                                                  ...  \n",
       "34360                                         1365811200  \n",
       "34361                                         1365811200  \n",
       "34362                                         1365811200  \n",
       "34363                                         1365811200  \n",
       "34364                                         1365811200  \n",
       "\n",
       "[34365 rows x 8 columns]"
      ]
     },
     "execution_count": 6,
     "metadata": {},
     "output_type": "execute_result"
    }
   ],
   "source": [
    "# Visualize validation dataset dataframe\n",
    "valid_df = pd.read_csv(valid_path, sep=\"\\t\", index_col=False, names=[\"label\", \"user_id\", \"item_id\", \"cate_id\", \"timestamp\", \"prev_item_ids\", \"prev_cate_ids\", \"prev_timestamps\"])\n",
    "valid_df"
   ]
  },
  {
   "cell_type": "code",
   "execution_count": 7,
   "id": "dependent-single",
   "metadata": {},
   "outputs": [
    {
     "data": {
      "text/html": [
       "<div>\n",
       "<style scoped>\n",
       "    .dataframe tbody tr th:only-of-type {\n",
       "        vertical-align: middle;\n",
       "    }\n",
       "\n",
       "    .dataframe tbody tr th {\n",
       "        vertical-align: top;\n",
       "    }\n",
       "\n",
       "    .dataframe thead th {\n",
       "        text-align: right;\n",
       "    }\n",
       "</style>\n",
       "<table border=\"1\" class=\"dataframe\">\n",
       "  <thead>\n",
       "    <tr style=\"text-align: right;\">\n",
       "      <th></th>\n",
       "      <th>label</th>\n",
       "      <th>user_id</th>\n",
       "      <th>item_id</th>\n",
       "      <th>cate_id</th>\n",
       "      <th>timestamp</th>\n",
       "      <th>prev_item_ids</th>\n",
       "      <th>prev_cate_ids</th>\n",
       "      <th>prev_timestamps</th>\n",
       "    </tr>\n",
       "  </thead>\n",
       "  <tbody>\n",
       "    <tr>\n",
       "      <th>0</th>\n",
       "      <td>1</td>\n",
       "      <td>A3R27T4HADWFFJ</td>\n",
       "      <td>B0000AZT3R</td>\n",
       "      <td>Movies</td>\n",
       "      <td>1389657600</td>\n",
       "      <td>B000J10EQU</td>\n",
       "      <td>Movies</td>\n",
       "      <td>1387756800</td>\n",
       "    </tr>\n",
       "    <tr>\n",
       "      <th>1</th>\n",
       "      <td>0</td>\n",
       "      <td>A3R27T4HADWFFJ</td>\n",
       "      <td>B0000VD02Y</td>\n",
       "      <td>Movies</td>\n",
       "      <td>1389657600</td>\n",
       "      <td>B000J10EQU</td>\n",
       "      <td>Movies</td>\n",
       "      <td>1387756800</td>\n",
       "    </tr>\n",
       "    <tr>\n",
       "      <th>2</th>\n",
       "      <td>0</td>\n",
       "      <td>A3R27T4HADWFFJ</td>\n",
       "      <td>B00005JPS8</td>\n",
       "      <td>Movies</td>\n",
       "      <td>1389657600</td>\n",
       "      <td>B000J10EQU</td>\n",
       "      <td>Movies</td>\n",
       "      <td>1387756800</td>\n",
       "    </tr>\n",
       "    <tr>\n",
       "      <th>3</th>\n",
       "      <td>0</td>\n",
       "      <td>A3R27T4HADWFFJ</td>\n",
       "      <td>B00003CXXO</td>\n",
       "      <td>Movies</td>\n",
       "      <td>1389657600</td>\n",
       "      <td>B000J10EQU</td>\n",
       "      <td>Movies</td>\n",
       "      <td>1387756800</td>\n",
       "    </tr>\n",
       "    <tr>\n",
       "      <th>4</th>\n",
       "      <td>0</td>\n",
       "      <td>A3R27T4HADWFFJ</td>\n",
       "      <td>B000C3L27K</td>\n",
       "      <td>Movies</td>\n",
       "      <td>1389657600</td>\n",
       "      <td>B000J10EQU</td>\n",
       "      <td>Movies</td>\n",
       "      <td>1387756800</td>\n",
       "    </tr>\n",
       "    <tr>\n",
       "      <th>...</th>\n",
       "      <td>...</td>\n",
       "      <td>...</td>\n",
       "      <td>...</td>\n",
       "      <td>...</td>\n",
       "      <td>...</td>\n",
       "      <td>...</td>\n",
       "      <td>...</td>\n",
       "      <td>...</td>\n",
       "    </tr>\n",
       "    <tr>\n",
       "      <th>169165</th>\n",
       "      <td>0</td>\n",
       "      <td>AGAWDSE1J20RI</td>\n",
       "      <td>B002ZG98R8</td>\n",
       "      <td>Movies</td>\n",
       "      <td>1405468800</td>\n",
       "      <td>B00H7KJTCG</td>\n",
       "      <td>Movies</td>\n",
       "      <td>1405468800</td>\n",
       "    </tr>\n",
       "    <tr>\n",
       "      <th>169166</th>\n",
       "      <td>0</td>\n",
       "      <td>AGAWDSE1J20RI</td>\n",
       "      <td>B00005JPFX</td>\n",
       "      <td>Movies</td>\n",
       "      <td>1405468800</td>\n",
       "      <td>B00H7KJTCG</td>\n",
       "      <td>Movies</td>\n",
       "      <td>1405468800</td>\n",
       "    </tr>\n",
       "    <tr>\n",
       "      <th>169167</th>\n",
       "      <td>0</td>\n",
       "      <td>AGAWDSE1J20RI</td>\n",
       "      <td>B000AE4QD8</td>\n",
       "      <td>TV</td>\n",
       "      <td>1405468800</td>\n",
       "      <td>B00H7KJTCG</td>\n",
       "      <td>Movies</td>\n",
       "      <td>1405468800</td>\n",
       "    </tr>\n",
       "    <tr>\n",
       "      <th>169168</th>\n",
       "      <td>0</td>\n",
       "      <td>AGAWDSE1J20RI</td>\n",
       "      <td>B000BTJDG2</td>\n",
       "      <td>Movies</td>\n",
       "      <td>1405468800</td>\n",
       "      <td>B00H7KJTCG</td>\n",
       "      <td>Movies</td>\n",
       "      <td>1405468800</td>\n",
       "    </tr>\n",
       "    <tr>\n",
       "      <th>169169</th>\n",
       "      <td>0</td>\n",
       "      <td>AGAWDSE1J20RI</td>\n",
       "      <td>B00005JOHI</td>\n",
       "      <td>Movies</td>\n",
       "      <td>1405468800</td>\n",
       "      <td>B00H7KJTCG</td>\n",
       "      <td>Movies</td>\n",
       "      <td>1405468800</td>\n",
       "    </tr>\n",
       "  </tbody>\n",
       "</table>\n",
       "<p>169170 rows × 8 columns</p>\n",
       "</div>"
      ],
      "text/plain": [
       "        label         user_id     item_id cate_id   timestamp prev_item_ids  \\\n",
       "0           1  A3R27T4HADWFFJ  B0000AZT3R  Movies  1389657600    B000J10EQU   \n",
       "1           0  A3R27T4HADWFFJ  B0000VD02Y  Movies  1389657600    B000J10EQU   \n",
       "2           0  A3R27T4HADWFFJ  B00005JPS8  Movies  1389657600    B000J10EQU   \n",
       "3           0  A3R27T4HADWFFJ  B00003CXXO  Movies  1389657600    B000J10EQU   \n",
       "4           0  A3R27T4HADWFFJ  B000C3L27K  Movies  1389657600    B000J10EQU   \n",
       "...       ...             ...         ...     ...         ...           ...   \n",
       "169165      0   AGAWDSE1J20RI  B002ZG98R8  Movies  1405468800    B00H7KJTCG   \n",
       "169166      0   AGAWDSE1J20RI  B00005JPFX  Movies  1405468800    B00H7KJTCG   \n",
       "169167      0   AGAWDSE1J20RI  B000AE4QD8      TV  1405468800    B00H7KJTCG   \n",
       "169168      0   AGAWDSE1J20RI  B000BTJDG2  Movies  1405468800    B00H7KJTCG   \n",
       "169169      0   AGAWDSE1J20RI  B00005JOHI  Movies  1405468800    B00H7KJTCG   \n",
       "\n",
       "       prev_cate_ids prev_timestamps  \n",
       "0             Movies      1387756800  \n",
       "1             Movies      1387756800  \n",
       "2             Movies      1387756800  \n",
       "3             Movies      1387756800  \n",
       "4             Movies      1387756800  \n",
       "...              ...             ...  \n",
       "169165        Movies      1405468800  \n",
       "169166        Movies      1405468800  \n",
       "169167        Movies      1405468800  \n",
       "169168        Movies      1405468800  \n",
       "169169        Movies      1405468800  \n",
       "\n",
       "[169170 rows x 8 columns]"
      ]
     },
     "execution_count": 7,
     "metadata": {},
     "output_type": "execute_result"
    }
   ],
   "source": [
    "# Visualize test dataset dataframe\n",
    "test_df = pd.read_csv(test_path, sep=\"\\t\", index_col=False, names=[\"label\", \"user_id\", \"item_id\", \"cate_id\", \"timestamp\", \"prev_item_ids\", \"prev_cate_ids\", \"prev_timestamps\"])\n",
    "test_df"
   ]
  },
  {
   "cell_type": "markdown",
   "id": "varied-pixel",
   "metadata": {},
   "source": [
    "When training and evaluating neural network models, we typically feed batches of input into the model to generate predictions. This involves iterively sampling batches of data in the dataset . The [microsoft recommenders](https://github.com/microsoft/recommenders) package provides the `SequentialIterator` class which acts as a dataloader for recommender systems. "
   ]
  },
  {
   "cell_type": "code",
   "execution_count": 8,
   "id": "periodic-newspaper",
   "metadata": {},
   "outputs": [],
   "source": [
    "input_creator = SequentialIterator"
   ]
  },
  {
   "cell_type": "markdown",
   "id": "defensive-birthday",
   "metadata": {},
   "source": [
    "Following the definition of the Sequential Dataset, we need to generate the user, item and category files using the `utils.create_vocab` function. These files contain the unique ids of each user, item and category in the dataset, respectively. This is leveraged by the model to generate embedding tables of the proper dimension. "
   ]
  },
  {
   "cell_type": "code",
   "execution_count": 9,
   "id": "micro-spain",
   "metadata": {},
   "outputs": [],
   "source": [
    "create_vocab(train_path, user_vocab_path, item_vocab_path, cate_vocab_path)"
   ]
  },
  {
   "cell_type": "markdown",
   "id": "suited-metropolitan",
   "metadata": {},
   "source": [
    "## Model Definition\n",
    "\n",
    "With the sequential dataset in place, we can turn our attention to defining the A2SVDModel model. The [microsoft recommenders](https://github.com/microsoft/recommenders) package provides a variety of recommender methods including A2SVDModel. It provides a uniform interface for both sequential and non-sequential recommender system methods. \n",
    "\n",
    "The first step to defining a model is generating the hyperameters `hparams` using the `recommenders.models.deeprec.deeprec_utils.prepare_hparams` function. This function takes a varitey of arguments including model, log save paths and vocabulary file paths along with hyperparameters such as batch size and epochs. The majority of hyperparameters are started in a yaml path at `YAML_PATH`. The microsoft recommenders package provides a [yaml file](https://github.com/microsoft/recommenders/tree/main/recommenders/models/deeprec/config) with default hyperparameters for each of the sequential architectures it supports. \n",
    "\n",
    "Some of the notable hyperparameters include: \n",
    "- **batch_size**:  The number of samples per batch\n",
    "- **epochs**: The number of times to iterate through the training set\n",
    "- **embed_l2**: The weight of the l2 regularization loss on embeddings\n",
    "- **layer_l2**: The weight of the l2 regularization loss on layer weights\n",
    "- **train_num_ngs**: The number of negative instances to include per postive instance in training set \n",
    "- **learning_rate**: Determines the step size of updates to model parameters"
   ]
  },
  {
   "cell_type": "code",
   "execution_count": 10,
   "id": "powered-anatomy",
   "metadata": {},
   "outputs": [],
   "source": [
    "hparams = prepare_hparams(YAML_PATH, \n",
    "                          embed_l2=0., \n",
    "                          layer_l2=0., \n",
    "                          learning_rate=0.001,  # set to 0.01 if batch normalization is disable\n",
    "                          epochs=EPOCHS,\n",
    "                          batch_size=BATCH_SIZE,\n",
    "                          show_step=20,\n",
    "                          MODEL_DIR=os.path.join(MODEL_PATH),\n",
    "                          SUMMARIES_DIR=os.path.join(LOG_PATH),\n",
    "                          user_vocab=user_vocab_path,\n",
    "                          item_vocab=item_vocab_path,\n",
    "                          cate_vocab=cate_vocab_path,\n",
    "                          need_sample=True,\n",
    "                          train_num_ngs=train_num_ngs, # provides the number of negative instances for each positive instance for loss computation.\n",
    "            )"
   ]
  },
  {
   "cell_type": "markdown",
   "id": "wrong-proxy",
   "metadata": {},
   "source": [
    "To define the model, we pass the hyperparameters, sequential dataset and seed to the `models.A2SVDModel_Custom` constructor. The `models.SLI_RECModel_Custom` class is a simple extension of the `recommenders.models.deeprec.models.sequential.asvd.A2SVDModel` that overrides the `fit` method to more easily access train and evaluation metrics accross epochs. This is done as a convenience and is by no means required by package. "
   ]
  },
  {
   "cell_type": "code",
   "execution_count": 11,
   "id": "relative-spank",
   "metadata": {},
   "outputs": [
    {
     "name": "stdout",
     "output_type": "stream",
     "text": [
      "WARNING:tensorflow:From /ssd003/projects/aieng/public/recsys/lib/python3.7/site-packages/keras/layers/normalization/batch_normalization.py:514: _colocate_with (from tensorflow.python.framework.ops) is deprecated and will be removed in a future version.\n",
      "Instructions for updating:\n",
      "Colocations handled automatically by placer.\n"
     ]
    },
    {
     "name": "stderr",
     "output_type": "stream",
     "text": [
      "WARNING:tensorflow:From /ssd003/projects/aieng/public/recsys/lib/python3.7/site-packages/keras/layers/normalization/batch_normalization.py:514: _colocate_with (from tensorflow.python.framework.ops) is deprecated and will be removed in a future version.\n",
      "Instructions for updating:\n",
      "Colocations handled automatically by placer.\n"
     ]
    }
   ],
   "source": [
    "model = SeqModel(hparams, input_creator, seed=RANDOM_SEED)"
   ]
  },
  {
   "cell_type": "markdown",
   "id": "loved-platform",
   "metadata": {},
   "source": [
    "## Training and Validation\n",
    "\n",
    "The next step is to train and validated the model we defined using the training and validation set we previously generated using the `model.fit` method. This method trains and validates the model for a number of epochs and returns the updated model along with the train and validation results. "
   ]
  },
  {
   "cell_type": "code",
   "execution_count": 12,
   "id": "moving-spoke",
   "metadata": {},
   "outputs": [
    {
     "name": "stdout",
     "output_type": "stream",
     "text": [
      "step 20 , total_loss: 1.6093, data_loss: 1.6093\n",
      "step 40 , total_loss: 1.5998, data_loss: 1.5998\n",
      "eval valid at epoch 1: auc:0.4939,ndcg@2:0.3216,ndcg@4:0.5032,ndcg@6:0.5871,group_auc:0.4907\n",
      "INFO:tensorflow:models/1667924110.0776627epoch_1.data-00000-of-00001\n"
     ]
    },
    {
     "name": "stderr",
     "output_type": "stream",
     "text": [
      "INFO:tensorflow:models/1667924110.0776627epoch_1.data-00000-of-00001\n"
     ]
    },
    {
     "name": "stdout",
     "output_type": "stream",
     "text": [
      "INFO:tensorflow:400\n"
     ]
    },
    {
     "name": "stderr",
     "output_type": "stream",
     "text": [
      "INFO:tensorflow:400\n"
     ]
    },
    {
     "name": "stdout",
     "output_type": "stream",
     "text": [
      "INFO:tensorflow:models/1667924110.0776627epoch_1.index\n"
     ]
    },
    {
     "name": "stderr",
     "output_type": "stream",
     "text": [
      "INFO:tensorflow:models/1667924110.0776627epoch_1.index\n"
     ]
    },
    {
     "name": "stdout",
     "output_type": "stream",
     "text": [
      "INFO:tensorflow:400\n"
     ]
    },
    {
     "name": "stderr",
     "output_type": "stream",
     "text": [
      "INFO:tensorflow:400\n"
     ]
    },
    {
     "name": "stdout",
     "output_type": "stream",
     "text": [
      "INFO:tensorflow:models/1667924110.0776627epoch_1.meta\n"
     ]
    },
    {
     "name": "stderr",
     "output_type": "stream",
     "text": [
      "INFO:tensorflow:models/1667924110.0776627epoch_1.meta\n"
     ]
    },
    {
     "name": "stdout",
     "output_type": "stream",
     "text": [
      "INFO:tensorflow:900\n"
     ]
    },
    {
     "name": "stderr",
     "output_type": "stream",
     "text": [
      "INFO:tensorflow:900\n"
     ]
    },
    {
     "name": "stdout",
     "output_type": "stream",
     "text": [
      "INFO:tensorflow:models/1667924110.0776627/best_model.index\n"
     ]
    },
    {
     "name": "stderr",
     "output_type": "stream",
     "text": [
      "INFO:tensorflow:models/1667924110.0776627/best_model.index\n"
     ]
    },
    {
     "name": "stdout",
     "output_type": "stream",
     "text": [
      "INFO:tensorflow:0\n"
     ]
    },
    {
     "name": "stderr",
     "output_type": "stream",
     "text": [
      "INFO:tensorflow:0\n"
     ]
    },
    {
     "name": "stdout",
     "output_type": "stream",
     "text": [
      "INFO:tensorflow:models/1667924110.0776627/best_model.meta\n"
     ]
    },
    {
     "name": "stderr",
     "output_type": "stream",
     "text": [
      "INFO:tensorflow:models/1667924110.0776627/best_model.meta\n"
     ]
    },
    {
     "name": "stdout",
     "output_type": "stream",
     "text": [
      "INFO:tensorflow:500\n"
     ]
    },
    {
     "name": "stderr",
     "output_type": "stream",
     "text": [
      "INFO:tensorflow:500\n"
     ]
    },
    {
     "name": "stdout",
     "output_type": "stream",
     "text": [
      "INFO:tensorflow:models/1667924110.0776627/best_model.data-00000-of-00001\n"
     ]
    },
    {
     "name": "stderr",
     "output_type": "stream",
     "text": [
      "INFO:tensorflow:models/1667924110.0776627/best_model.data-00000-of-00001\n"
     ]
    },
    {
     "name": "stdout",
     "output_type": "stream",
     "text": [
      "INFO:tensorflow:900\n"
     ]
    },
    {
     "name": "stderr",
     "output_type": "stream",
     "text": [
      "INFO:tensorflow:900\n"
     ]
    },
    {
     "name": "stdout",
     "output_type": "stream",
     "text": [
      "step 20 , total_loss: 1.5731, data_loss: 1.5731\n",
      "step 40 , total_loss: 1.5426, data_loss: 1.5426\n",
      "eval valid at epoch 2: auc:0.5621,ndcg@2:0.3808,ndcg@4:0.5595,ndcg@6:0.619,group_auc:0.5544\n",
      "INFO:tensorflow:models/1667924110.0776627epoch_2.index\n"
     ]
    },
    {
     "name": "stderr",
     "output_type": "stream",
     "text": [
      "INFO:tensorflow:models/1667924110.0776627epoch_2.index\n"
     ]
    },
    {
     "name": "stdout",
     "output_type": "stream",
     "text": [
      "INFO:tensorflow:0\n"
     ]
    },
    {
     "name": "stderr",
     "output_type": "stream",
     "text": [
      "INFO:tensorflow:0\n"
     ]
    },
    {
     "name": "stdout",
     "output_type": "stream",
     "text": [
      "INFO:tensorflow:models/1667924110.0776627epoch_2.data-00000-of-00001\n"
     ]
    },
    {
     "name": "stderr",
     "output_type": "stream",
     "text": [
      "INFO:tensorflow:models/1667924110.0776627epoch_2.data-00000-of-00001\n"
     ]
    },
    {
     "name": "stdout",
     "output_type": "stream",
     "text": [
      "INFO:tensorflow:400\n"
     ]
    },
    {
     "name": "stderr",
     "output_type": "stream",
     "text": [
      "INFO:tensorflow:400\n"
     ]
    },
    {
     "name": "stdout",
     "output_type": "stream",
     "text": [
      "INFO:tensorflow:models/1667924110.0776627epoch_2.meta\n"
     ]
    },
    {
     "name": "stderr",
     "output_type": "stream",
     "text": [
      "INFO:tensorflow:models/1667924110.0776627epoch_2.meta\n"
     ]
    },
    {
     "name": "stdout",
     "output_type": "stream",
     "text": [
      "INFO:tensorflow:900\n"
     ]
    },
    {
     "name": "stderr",
     "output_type": "stream",
     "text": [
      "INFO:tensorflow:900\n"
     ]
    },
    {
     "name": "stdout",
     "output_type": "stream",
     "text": [
      "INFO:tensorflow:models/1667924110.0776627/best_model.index\n"
     ]
    },
    {
     "name": "stderr",
     "output_type": "stream",
     "text": [
      "INFO:tensorflow:models/1667924110.0776627/best_model.index\n"
     ]
    },
    {
     "name": "stdout",
     "output_type": "stream",
     "text": [
      "INFO:tensorflow:0\n"
     ]
    },
    {
     "name": "stderr",
     "output_type": "stream",
     "text": [
      "INFO:tensorflow:0\n"
     ]
    },
    {
     "name": "stdout",
     "output_type": "stream",
     "text": [
      "INFO:tensorflow:models/1667924110.0776627/best_model.meta\n"
     ]
    },
    {
     "name": "stderr",
     "output_type": "stream",
     "text": [
      "INFO:tensorflow:models/1667924110.0776627/best_model.meta\n"
     ]
    },
    {
     "name": "stdout",
     "output_type": "stream",
     "text": [
      "INFO:tensorflow:500\n"
     ]
    },
    {
     "name": "stderr",
     "output_type": "stream",
     "text": [
      "INFO:tensorflow:500\n"
     ]
    },
    {
     "name": "stdout",
     "output_type": "stream",
     "text": [
      "INFO:tensorflow:models/1667924110.0776627/best_model.data-00000-of-00001\n"
     ]
    },
    {
     "name": "stderr",
     "output_type": "stream",
     "text": [
      "INFO:tensorflow:models/1667924110.0776627/best_model.data-00000-of-00001\n"
     ]
    },
    {
     "name": "stdout",
     "output_type": "stream",
     "text": [
      "INFO:tensorflow:900\n"
     ]
    },
    {
     "name": "stderr",
     "output_type": "stream",
     "text": [
      "INFO:tensorflow:900\n"
     ]
    },
    {
     "name": "stdout",
     "output_type": "stream",
     "text": [
      "step 20 , total_loss: 1.4484, data_loss: 1.4484\n",
      "step 40 , total_loss: 1.4477, data_loss: 1.4477\n",
      "eval valid at epoch 3: auc:0.6583,ndcg@2:0.4896,ndcg@4:0.6441,ndcg@6:0.6773,group_auc:0.6515\n",
      "INFO:tensorflow:models/1667924110.0776627epoch_3.index\n"
     ]
    },
    {
     "name": "stderr",
     "output_type": "stream",
     "text": [
      "INFO:tensorflow:models/1667924110.0776627epoch_3.index\n"
     ]
    },
    {
     "name": "stdout",
     "output_type": "stream",
     "text": [
      "INFO:tensorflow:0\n"
     ]
    },
    {
     "name": "stderr",
     "output_type": "stream",
     "text": [
      "INFO:tensorflow:0\n"
     ]
    },
    {
     "name": "stdout",
     "output_type": "stream",
     "text": [
      "INFO:tensorflow:models/1667924110.0776627epoch_3.meta\n"
     ]
    },
    {
     "name": "stderr",
     "output_type": "stream",
     "text": [
      "INFO:tensorflow:models/1667924110.0776627epoch_3.meta\n"
     ]
    },
    {
     "name": "stdout",
     "output_type": "stream",
     "text": [
      "INFO:tensorflow:500\n"
     ]
    },
    {
     "name": "stderr",
     "output_type": "stream",
     "text": [
      "INFO:tensorflow:500\n"
     ]
    },
    {
     "name": "stdout",
     "output_type": "stream",
     "text": [
      "INFO:tensorflow:models/1667924110.0776627epoch_3.data-00000-of-00001\n"
     ]
    },
    {
     "name": "stderr",
     "output_type": "stream",
     "text": [
      "INFO:tensorflow:models/1667924110.0776627epoch_3.data-00000-of-00001\n"
     ]
    },
    {
     "name": "stdout",
     "output_type": "stream",
     "text": [
      "INFO:tensorflow:900\n"
     ]
    },
    {
     "name": "stderr",
     "output_type": "stream",
     "text": [
      "INFO:tensorflow:900\n"
     ]
    },
    {
     "name": "stdout",
     "output_type": "stream",
     "text": [
      "INFO:tensorflow:models/1667924110.0776627/best_model.index\n"
     ]
    },
    {
     "name": "stderr",
     "output_type": "stream",
     "text": [
      "INFO:tensorflow:models/1667924110.0776627/best_model.index\n"
     ]
    },
    {
     "name": "stdout",
     "output_type": "stream",
     "text": [
      "INFO:tensorflow:0\n"
     ]
    },
    {
     "name": "stderr",
     "output_type": "stream",
     "text": [
      "INFO:tensorflow:0\n"
     ]
    },
    {
     "name": "stdout",
     "output_type": "stream",
     "text": [
      "INFO:tensorflow:models/1667924110.0776627/best_model.meta\n"
     ]
    },
    {
     "name": "stderr",
     "output_type": "stream",
     "text": [
      "INFO:tensorflow:models/1667924110.0776627/best_model.meta\n"
     ]
    },
    {
     "name": "stdout",
     "output_type": "stream",
     "text": [
      "INFO:tensorflow:500\n"
     ]
    },
    {
     "name": "stderr",
     "output_type": "stream",
     "text": [
      "INFO:tensorflow:500\n"
     ]
    },
    {
     "name": "stdout",
     "output_type": "stream",
     "text": [
      "INFO:tensorflow:models/1667924110.0776627/best_model.data-00000-of-00001\n"
     ]
    },
    {
     "name": "stderr",
     "output_type": "stream",
     "text": [
      "INFO:tensorflow:models/1667924110.0776627/best_model.data-00000-of-00001\n"
     ]
    },
    {
     "name": "stdout",
     "output_type": "stream",
     "text": [
      "INFO:tensorflow:900\n"
     ]
    },
    {
     "name": "stderr",
     "output_type": "stream",
     "text": [
      "INFO:tensorflow:900\n"
     ]
    },
    {
     "name": "stdout",
     "output_type": "stream",
     "text": [
      "step 20 , total_loss: 1.3758, data_loss: 1.3758\n",
      "step 40 , total_loss: 1.3627, data_loss: 1.3627\n",
      "eval valid at epoch 4: auc:0.6929,ndcg@2:0.5563,ndcg@4:0.6858,ndcg@6:0.7157,group_auc:0.6953\n",
      "INFO:tensorflow:models/1667924110.0776627epoch_4.meta\n"
     ]
    },
    {
     "name": "stderr",
     "output_type": "stream",
     "text": [
      "INFO:tensorflow:models/1667924110.0776627epoch_4.meta\n"
     ]
    },
    {
     "name": "stdout",
     "output_type": "stream",
     "text": [
      "INFO:tensorflow:500\n"
     ]
    },
    {
     "name": "stderr",
     "output_type": "stream",
     "text": [
      "INFO:tensorflow:500\n"
     ]
    },
    {
     "name": "stdout",
     "output_type": "stream",
     "text": [
      "INFO:tensorflow:models/1667924110.0776627epoch_4.index\n"
     ]
    },
    {
     "name": "stderr",
     "output_type": "stream",
     "text": [
      "INFO:tensorflow:models/1667924110.0776627epoch_4.index\n"
     ]
    },
    {
     "name": "stdout",
     "output_type": "stream",
     "text": [
      "INFO:tensorflow:500\n"
     ]
    },
    {
     "name": "stderr",
     "output_type": "stream",
     "text": [
      "INFO:tensorflow:500\n"
     ]
    },
    {
     "name": "stdout",
     "output_type": "stream",
     "text": [
      "INFO:tensorflow:models/1667924110.0776627epoch_4.data-00000-of-00001\n"
     ]
    },
    {
     "name": "stderr",
     "output_type": "stream",
     "text": [
      "INFO:tensorflow:models/1667924110.0776627epoch_4.data-00000-of-00001\n"
     ]
    },
    {
     "name": "stdout",
     "output_type": "stream",
     "text": [
      "INFO:tensorflow:900\n"
     ]
    },
    {
     "name": "stderr",
     "output_type": "stream",
     "text": [
      "INFO:tensorflow:900\n"
     ]
    },
    {
     "name": "stdout",
     "output_type": "stream",
     "text": [
      "INFO:tensorflow:models/1667924110.0776627/best_model.index\n"
     ]
    },
    {
     "name": "stderr",
     "output_type": "stream",
     "text": [
      "INFO:tensorflow:models/1667924110.0776627/best_model.index\n"
     ]
    },
    {
     "name": "stdout",
     "output_type": "stream",
     "text": [
      "INFO:tensorflow:0\n"
     ]
    },
    {
     "name": "stderr",
     "output_type": "stream",
     "text": [
      "INFO:tensorflow:0\n"
     ]
    },
    {
     "name": "stdout",
     "output_type": "stream",
     "text": [
      "INFO:tensorflow:models/1667924110.0776627/best_model.meta\n"
     ]
    },
    {
     "name": "stderr",
     "output_type": "stream",
     "text": [
      "INFO:tensorflow:models/1667924110.0776627/best_model.meta\n"
     ]
    },
    {
     "name": "stdout",
     "output_type": "stream",
     "text": [
      "INFO:tensorflow:500\n"
     ]
    },
    {
     "name": "stderr",
     "output_type": "stream",
     "text": [
      "INFO:tensorflow:500\n"
     ]
    },
    {
     "name": "stdout",
     "output_type": "stream",
     "text": [
      "INFO:tensorflow:models/1667924110.0776627/best_model.data-00000-of-00001\n"
     ]
    },
    {
     "name": "stderr",
     "output_type": "stream",
     "text": [
      "INFO:tensorflow:models/1667924110.0776627/best_model.data-00000-of-00001\n"
     ]
    },
    {
     "name": "stdout",
     "output_type": "stream",
     "text": [
      "INFO:tensorflow:900\n"
     ]
    },
    {
     "name": "stderr",
     "output_type": "stream",
     "text": [
      "INFO:tensorflow:900\n"
     ]
    },
    {
     "name": "stdout",
     "output_type": "stream",
     "text": [
      "step 20 , total_loss: 1.3788, data_loss: 1.3788\n",
      "step 40 , total_loss: 1.3322, data_loss: 1.3322\n",
      "eval valid at epoch 5: auc:0.7021,ndcg@2:0.5618,ndcg@4:0.691,ndcg@6:0.72,group_auc:0.7\n",
      "INFO:tensorflow:models/1667924110.0776627epoch_5.data-00000-of-00001\n"
     ]
    },
    {
     "name": "stderr",
     "output_type": "stream",
     "text": [
      "INFO:tensorflow:models/1667924110.0776627epoch_5.data-00000-of-00001\n"
     ]
    },
    {
     "name": "stdout",
     "output_type": "stream",
     "text": [
      "INFO:tensorflow:400\n"
     ]
    },
    {
     "name": "stderr",
     "output_type": "stream",
     "text": [
      "INFO:tensorflow:400\n"
     ]
    },
    {
     "name": "stdout",
     "output_type": "stream",
     "text": [
      "INFO:tensorflow:models/1667924110.0776627epoch_5.meta\n"
     ]
    },
    {
     "name": "stderr",
     "output_type": "stream",
     "text": [
      "INFO:tensorflow:models/1667924110.0776627epoch_5.meta\n"
     ]
    },
    {
     "name": "stdout",
     "output_type": "stream",
     "text": [
      "INFO:tensorflow:900\n"
     ]
    },
    {
     "name": "stderr",
     "output_type": "stream",
     "text": [
      "INFO:tensorflow:900\n"
     ]
    },
    {
     "name": "stdout",
     "output_type": "stream",
     "text": [
      "INFO:tensorflow:models/1667924110.0776627epoch_5.index\n"
     ]
    },
    {
     "name": "stderr",
     "output_type": "stream",
     "text": [
      "INFO:tensorflow:models/1667924110.0776627epoch_5.index\n"
     ]
    },
    {
     "name": "stdout",
     "output_type": "stream",
     "text": [
      "INFO:tensorflow:900\n"
     ]
    },
    {
     "name": "stderr",
     "output_type": "stream",
     "text": [
      "INFO:tensorflow:900\n"
     ]
    },
    {
     "name": "stdout",
     "output_type": "stream",
     "text": [
      "INFO:tensorflow:models/1667924110.0776627/best_model.index\n"
     ]
    },
    {
     "name": "stderr",
     "output_type": "stream",
     "text": [
      "INFO:tensorflow:models/1667924110.0776627/best_model.index\n"
     ]
    },
    {
     "name": "stdout",
     "output_type": "stream",
     "text": [
      "INFO:tensorflow:0\n"
     ]
    },
    {
     "name": "stderr",
     "output_type": "stream",
     "text": [
      "INFO:tensorflow:0\n"
     ]
    },
    {
     "name": "stdout",
     "output_type": "stream",
     "text": [
      "INFO:tensorflow:models/1667924110.0776627/best_model.meta\n"
     ]
    },
    {
     "name": "stderr",
     "output_type": "stream",
     "text": [
      "INFO:tensorflow:models/1667924110.0776627/best_model.meta\n"
     ]
    },
    {
     "name": "stdout",
     "output_type": "stream",
     "text": [
      "INFO:tensorflow:500\n"
     ]
    },
    {
     "name": "stderr",
     "output_type": "stream",
     "text": [
      "INFO:tensorflow:500\n"
     ]
    },
    {
     "name": "stdout",
     "output_type": "stream",
     "text": [
      "INFO:tensorflow:models/1667924110.0776627/best_model.data-00000-of-00001\n"
     ]
    },
    {
     "name": "stderr",
     "output_type": "stream",
     "text": [
      "INFO:tensorflow:models/1667924110.0776627/best_model.data-00000-of-00001\n"
     ]
    },
    {
     "name": "stdout",
     "output_type": "stream",
     "text": [
      "INFO:tensorflow:900\n"
     ]
    },
    {
     "name": "stderr",
     "output_type": "stream",
     "text": [
      "INFO:tensorflow:900\n"
     ]
    },
    {
     "name": "stdout",
     "output_type": "stream",
     "text": [
      "step 20 , total_loss: 1.3419, data_loss: 1.3419\n",
      "step 40 , total_loss: 1.3067, data_loss: 1.3067\n",
      "eval valid at epoch 6: auc:0.7112,ndcg@2:0.5696,ndcg@4:0.692,ndcg@6:0.7231,group_auc:0.7025\n",
      "INFO:tensorflow:models/1667924110.0776627epoch_6.data-00000-of-00001\n"
     ]
    },
    {
     "name": "stderr",
     "output_type": "stream",
     "text": [
      "INFO:tensorflow:models/1667924110.0776627epoch_6.data-00000-of-00001\n"
     ]
    },
    {
     "name": "stdout",
     "output_type": "stream",
     "text": [
      "INFO:tensorflow:400\n"
     ]
    },
    {
     "name": "stderr",
     "output_type": "stream",
     "text": [
      "INFO:tensorflow:400\n"
     ]
    },
    {
     "name": "stdout",
     "output_type": "stream",
     "text": [
      "INFO:tensorflow:models/1667924110.0776627epoch_6.index\n"
     ]
    },
    {
     "name": "stderr",
     "output_type": "stream",
     "text": [
      "INFO:tensorflow:models/1667924110.0776627epoch_6.index\n"
     ]
    },
    {
     "name": "stdout",
     "output_type": "stream",
     "text": [
      "INFO:tensorflow:400\n"
     ]
    },
    {
     "name": "stderr",
     "output_type": "stream",
     "text": [
      "INFO:tensorflow:400\n"
     ]
    },
    {
     "name": "stdout",
     "output_type": "stream",
     "text": [
      "INFO:tensorflow:models/1667924110.0776627epoch_6.meta\n"
     ]
    },
    {
     "name": "stderr",
     "output_type": "stream",
     "text": [
      "INFO:tensorflow:models/1667924110.0776627epoch_6.meta\n"
     ]
    },
    {
     "name": "stdout",
     "output_type": "stream",
     "text": [
      "INFO:tensorflow:900\n"
     ]
    },
    {
     "name": "stderr",
     "output_type": "stream",
     "text": [
      "INFO:tensorflow:900\n"
     ]
    },
    {
     "name": "stdout",
     "output_type": "stream",
     "text": [
      "INFO:tensorflow:models/1667924110.0776627/best_model.index\n"
     ]
    },
    {
     "name": "stderr",
     "output_type": "stream",
     "text": [
      "INFO:tensorflow:models/1667924110.0776627/best_model.index\n"
     ]
    },
    {
     "name": "stdout",
     "output_type": "stream",
     "text": [
      "INFO:tensorflow:0\n"
     ]
    },
    {
     "name": "stderr",
     "output_type": "stream",
     "text": [
      "INFO:tensorflow:0\n"
     ]
    },
    {
     "name": "stdout",
     "output_type": "stream",
     "text": [
      "INFO:tensorflow:models/1667924110.0776627/best_model.meta\n"
     ]
    },
    {
     "name": "stderr",
     "output_type": "stream",
     "text": [
      "INFO:tensorflow:models/1667924110.0776627/best_model.meta\n"
     ]
    },
    {
     "name": "stdout",
     "output_type": "stream",
     "text": [
      "INFO:tensorflow:500\n"
     ]
    },
    {
     "name": "stderr",
     "output_type": "stream",
     "text": [
      "INFO:tensorflow:500\n"
     ]
    },
    {
     "name": "stdout",
     "output_type": "stream",
     "text": [
      "INFO:tensorflow:models/1667924110.0776627/best_model.data-00000-of-00001\n"
     ]
    },
    {
     "name": "stderr",
     "output_type": "stream",
     "text": [
      "INFO:tensorflow:models/1667924110.0776627/best_model.data-00000-of-00001\n"
     ]
    },
    {
     "name": "stdout",
     "output_type": "stream",
     "text": [
      "INFO:tensorflow:900\n"
     ]
    },
    {
     "name": "stderr",
     "output_type": "stream",
     "text": [
      "INFO:tensorflow:900\n"
     ]
    },
    {
     "name": "stdout",
     "output_type": "stream",
     "text": [
      "step 20 , total_loss: 1.3471, data_loss: 1.3471\n",
      "step 40 , total_loss: 1.2866, data_loss: 1.2866\n",
      "eval valid at epoch 7: auc:0.7097,ndcg@2:0.5686,ndcg@4:0.6928,ndcg@6:0.7222,group_auc:0.7033\n",
      "INFO:tensorflow:models/1667924110.0776627epoch_7.index\n"
     ]
    },
    {
     "name": "stderr",
     "output_type": "stream",
     "text": [
      "INFO:tensorflow:models/1667924110.0776627epoch_7.index\n"
     ]
    },
    {
     "name": "stdout",
     "output_type": "stream",
     "text": [
      "INFO:tensorflow:0\n"
     ]
    },
    {
     "name": "stderr",
     "output_type": "stream",
     "text": [
      "INFO:tensorflow:0\n"
     ]
    },
    {
     "name": "stdout",
     "output_type": "stream",
     "text": [
      "INFO:tensorflow:models/1667924110.0776627epoch_7.meta\n"
     ]
    },
    {
     "name": "stderr",
     "output_type": "stream",
     "text": [
      "INFO:tensorflow:models/1667924110.0776627epoch_7.meta\n"
     ]
    },
    {
     "name": "stdout",
     "output_type": "stream",
     "text": [
      "INFO:tensorflow:500\n"
     ]
    },
    {
     "name": "stderr",
     "output_type": "stream",
     "text": [
      "INFO:tensorflow:500\n"
     ]
    },
    {
     "name": "stdout",
     "output_type": "stream",
     "text": [
      "INFO:tensorflow:models/1667924110.0776627epoch_7.data-00000-of-00001\n"
     ]
    },
    {
     "name": "stderr",
     "output_type": "stream",
     "text": [
      "INFO:tensorflow:models/1667924110.0776627epoch_7.data-00000-of-00001\n"
     ]
    },
    {
     "name": "stdout",
     "output_type": "stream",
     "text": [
      "INFO:tensorflow:900\n"
     ]
    },
    {
     "name": "stderr",
     "output_type": "stream",
     "text": [
      "INFO:tensorflow:900\n"
     ]
    },
    {
     "name": "stdout",
     "output_type": "stream",
     "text": [
      "INFO:tensorflow:models/1667924110.0776627/best_model.index\n"
     ]
    },
    {
     "name": "stderr",
     "output_type": "stream",
     "text": [
      "INFO:tensorflow:models/1667924110.0776627/best_model.index\n"
     ]
    },
    {
     "name": "stdout",
     "output_type": "stream",
     "text": [
      "INFO:tensorflow:0\n"
     ]
    },
    {
     "name": "stderr",
     "output_type": "stream",
     "text": [
      "INFO:tensorflow:0\n"
     ]
    },
    {
     "name": "stdout",
     "output_type": "stream",
     "text": [
      "INFO:tensorflow:models/1667924110.0776627/best_model.meta\n"
     ]
    },
    {
     "name": "stderr",
     "output_type": "stream",
     "text": [
      "INFO:tensorflow:models/1667924110.0776627/best_model.meta\n"
     ]
    },
    {
     "name": "stdout",
     "output_type": "stream",
     "text": [
      "INFO:tensorflow:500\n"
     ]
    },
    {
     "name": "stderr",
     "output_type": "stream",
     "text": [
      "INFO:tensorflow:500\n"
     ]
    },
    {
     "name": "stdout",
     "output_type": "stream",
     "text": [
      "INFO:tensorflow:models/1667924110.0776627/best_model.data-00000-of-00001\n"
     ]
    },
    {
     "name": "stderr",
     "output_type": "stream",
     "text": [
      "INFO:tensorflow:models/1667924110.0776627/best_model.data-00000-of-00001\n"
     ]
    },
    {
     "name": "stdout",
     "output_type": "stream",
     "text": [
      "INFO:tensorflow:900\n"
     ]
    },
    {
     "name": "stderr",
     "output_type": "stream",
     "text": [
      "INFO:tensorflow:900\n"
     ]
    },
    {
     "name": "stdout",
     "output_type": "stream",
     "text": [
      "step 20 , total_loss: 1.2556, data_loss: 1.2556\n",
      "step 40 , total_loss: 1.3093, data_loss: 1.3093\n",
      "eval valid at epoch 8: auc:0.713,ndcg@2:0.5748,ndcg@4:0.6975,ndcg@6:0.7273,group_auc:0.7075\n",
      "INFO:tensorflow:models/1667924110.0776627epoch_8.data-00000-of-00001\n"
     ]
    },
    {
     "name": "stderr",
     "output_type": "stream",
     "text": [
      "INFO:tensorflow:models/1667924110.0776627epoch_8.data-00000-of-00001\n"
     ]
    },
    {
     "name": "stdout",
     "output_type": "stream",
     "text": [
      "INFO:tensorflow:400\n"
     ]
    },
    {
     "name": "stderr",
     "output_type": "stream",
     "text": [
      "INFO:tensorflow:400\n"
     ]
    },
    {
     "name": "stdout",
     "output_type": "stream",
     "text": [
      "INFO:tensorflow:models/1667924110.0776627epoch_8.meta\n"
     ]
    },
    {
     "name": "stderr",
     "output_type": "stream",
     "text": [
      "INFO:tensorflow:models/1667924110.0776627epoch_8.meta\n"
     ]
    },
    {
     "name": "stdout",
     "output_type": "stream",
     "text": [
      "INFO:tensorflow:900\n"
     ]
    },
    {
     "name": "stderr",
     "output_type": "stream",
     "text": [
      "INFO:tensorflow:900\n"
     ]
    },
    {
     "name": "stdout",
     "output_type": "stream",
     "text": [
      "INFO:tensorflow:models/1667924110.0776627epoch_8.index\n"
     ]
    },
    {
     "name": "stderr",
     "output_type": "stream",
     "text": [
      "INFO:tensorflow:models/1667924110.0776627epoch_8.index\n"
     ]
    },
    {
     "name": "stdout",
     "output_type": "stream",
     "text": [
      "INFO:tensorflow:900\n"
     ]
    },
    {
     "name": "stderr",
     "output_type": "stream",
     "text": [
      "INFO:tensorflow:900\n"
     ]
    },
    {
     "name": "stdout",
     "output_type": "stream",
     "text": [
      "INFO:tensorflow:models/1667924110.0776627/best_model.index\n"
     ]
    },
    {
     "name": "stderr",
     "output_type": "stream",
     "text": [
      "INFO:tensorflow:models/1667924110.0776627/best_model.index\n"
     ]
    },
    {
     "name": "stdout",
     "output_type": "stream",
     "text": [
      "INFO:tensorflow:0\n"
     ]
    },
    {
     "name": "stderr",
     "output_type": "stream",
     "text": [
      "INFO:tensorflow:0\n"
     ]
    },
    {
     "name": "stdout",
     "output_type": "stream",
     "text": [
      "INFO:tensorflow:models/1667924110.0776627/best_model.meta\n"
     ]
    },
    {
     "name": "stderr",
     "output_type": "stream",
     "text": [
      "INFO:tensorflow:models/1667924110.0776627/best_model.meta\n"
     ]
    },
    {
     "name": "stdout",
     "output_type": "stream",
     "text": [
      "INFO:tensorflow:500\n"
     ]
    },
    {
     "name": "stderr",
     "output_type": "stream",
     "text": [
      "INFO:tensorflow:500\n"
     ]
    },
    {
     "name": "stdout",
     "output_type": "stream",
     "text": [
      "INFO:tensorflow:models/1667924110.0776627/best_model.data-00000-of-00001\n"
     ]
    },
    {
     "name": "stderr",
     "output_type": "stream",
     "text": [
      "INFO:tensorflow:models/1667924110.0776627/best_model.data-00000-of-00001\n"
     ]
    },
    {
     "name": "stdout",
     "output_type": "stream",
     "text": [
      "INFO:tensorflow:900\n"
     ]
    },
    {
     "name": "stderr",
     "output_type": "stream",
     "text": [
      "INFO:tensorflow:900\n"
     ]
    },
    {
     "name": "stdout",
     "output_type": "stream",
     "text": [
      "step 20 , total_loss: 1.2304, data_loss: 1.2304\n",
      "step 40 , total_loss: 1.2526, data_loss: 1.2526\n",
      "eval valid at epoch 9: auc:0.7093,ndcg@2:0.579,ndcg@4:0.699,ndcg@6:0.7287,group_auc:0.7093\n",
      "INFO:tensorflow:models/1667924110.0776627epoch_9.meta\n"
     ]
    },
    {
     "name": "stderr",
     "output_type": "stream",
     "text": [
      "INFO:tensorflow:models/1667924110.0776627epoch_9.meta\n"
     ]
    },
    {
     "name": "stdout",
     "output_type": "stream",
     "text": [
      "INFO:tensorflow:500\n"
     ]
    },
    {
     "name": "stderr",
     "output_type": "stream",
     "text": [
      "INFO:tensorflow:500\n"
     ]
    },
    {
     "name": "stdout",
     "output_type": "stream",
     "text": [
      "INFO:tensorflow:models/1667924110.0776627epoch_9.data-00000-of-00001\n"
     ]
    },
    {
     "name": "stderr",
     "output_type": "stream",
     "text": [
      "INFO:tensorflow:models/1667924110.0776627epoch_9.data-00000-of-00001\n"
     ]
    },
    {
     "name": "stdout",
     "output_type": "stream",
     "text": [
      "INFO:tensorflow:900\n"
     ]
    },
    {
     "name": "stderr",
     "output_type": "stream",
     "text": [
      "INFO:tensorflow:900\n"
     ]
    },
    {
     "name": "stdout",
     "output_type": "stream",
     "text": [
      "INFO:tensorflow:models/1667924110.0776627epoch_9.index\n"
     ]
    },
    {
     "name": "stderr",
     "output_type": "stream",
     "text": [
      "INFO:tensorflow:models/1667924110.0776627epoch_9.index\n"
     ]
    },
    {
     "name": "stdout",
     "output_type": "stream",
     "text": [
      "INFO:tensorflow:900\n"
     ]
    },
    {
     "name": "stderr",
     "output_type": "stream",
     "text": [
      "INFO:tensorflow:900\n"
     ]
    },
    {
     "name": "stdout",
     "output_type": "stream",
     "text": [
      "INFO:tensorflow:models/1667924110.0776627/best_model.index\n"
     ]
    },
    {
     "name": "stderr",
     "output_type": "stream",
     "text": [
      "INFO:tensorflow:models/1667924110.0776627/best_model.index\n"
     ]
    },
    {
     "name": "stdout",
     "output_type": "stream",
     "text": [
      "INFO:tensorflow:0\n"
     ]
    },
    {
     "name": "stderr",
     "output_type": "stream",
     "text": [
      "INFO:tensorflow:0\n"
     ]
    },
    {
     "name": "stdout",
     "output_type": "stream",
     "text": [
      "INFO:tensorflow:models/1667924110.0776627/best_model.meta\n"
     ]
    },
    {
     "name": "stderr",
     "output_type": "stream",
     "text": [
      "INFO:tensorflow:models/1667924110.0776627/best_model.meta\n"
     ]
    },
    {
     "name": "stdout",
     "output_type": "stream",
     "text": [
      "INFO:tensorflow:500\n"
     ]
    },
    {
     "name": "stderr",
     "output_type": "stream",
     "text": [
      "INFO:tensorflow:500\n"
     ]
    },
    {
     "name": "stdout",
     "output_type": "stream",
     "text": [
      "INFO:tensorflow:models/1667924110.0776627/best_model.data-00000-of-00001\n"
     ]
    },
    {
     "name": "stderr",
     "output_type": "stream",
     "text": [
      "INFO:tensorflow:models/1667924110.0776627/best_model.data-00000-of-00001\n"
     ]
    },
    {
     "name": "stdout",
     "output_type": "stream",
     "text": [
      "INFO:tensorflow:900\n"
     ]
    },
    {
     "name": "stderr",
     "output_type": "stream",
     "text": [
      "INFO:tensorflow:900\n"
     ]
    },
    {
     "name": "stdout",
     "output_type": "stream",
     "text": [
      "step 20 , total_loss: 1.2193, data_loss: 1.2193\n",
      "step 40 , total_loss: 1.2477, data_loss: 1.2477\n",
      "eval valid at epoch 10: auc:0.7107,ndcg@2:0.5765,ndcg@4:0.6996,ndcg@6:0.7282,group_auc:0.7082\n",
      "[(1, {'auc': 0.4939, 'ndcg@2': 0.3216, 'ndcg@4': 0.5032, 'ndcg@6': 0.5871, 'group_auc': 0.4907}), (2, {'auc': 0.5621, 'ndcg@2': 0.3808, 'ndcg@4': 0.5595, 'ndcg@6': 0.619, 'group_auc': 0.5544}), (3, {'auc': 0.6583, 'ndcg@2': 0.4896, 'ndcg@4': 0.6441, 'ndcg@6': 0.6773, 'group_auc': 0.6515}), (4, {'auc': 0.6929, 'ndcg@2': 0.5563, 'ndcg@4': 0.6858, 'ndcg@6': 0.7157, 'group_auc': 0.6953}), (5, {'auc': 0.7021, 'ndcg@2': 0.5618, 'ndcg@4': 0.691, 'ndcg@6': 0.72, 'group_auc': 0.7}), (6, {'auc': 0.7112, 'ndcg@2': 0.5696, 'ndcg@4': 0.692, 'ndcg@6': 0.7231, 'group_auc': 0.7025}), (7, {'auc': 0.7097, 'ndcg@2': 0.5686, 'ndcg@4': 0.6928, 'ndcg@6': 0.7222, 'group_auc': 0.7033}), (8, {'auc': 0.713, 'ndcg@2': 0.5748, 'ndcg@4': 0.6975, 'ndcg@6': 0.7273, 'group_auc': 0.7075}), (9, {'auc': 0.7093, 'ndcg@2': 0.579, 'ndcg@4': 0.699, 'ndcg@6': 0.7287, 'group_auc': 0.7093}), (10, {'auc': 0.7107, 'ndcg@2': 0.5765, 'ndcg@4': 0.6996, 'ndcg@6': 0.7282, 'group_auc': 0.7082})]\n",
      "best epoch: 9\n",
      "Time cost for training is 2.65 mins\n"
     ]
    }
   ],
   "source": [
    "with Timer() as train_time:\n",
    "    model, train_info, eval_info = model.fit(train_path, valid_path, valid_num_ngs=valid_num_ngs) \n",
    "\n",
    "# valid_num_ngs is the number of negative lines after each positive line in your valid_file \n",
    "# we will evaluate the performance of model on valid_file every epoch\n",
    "print('Time cost for training is {0:.2f} mins'.format(train_time.interval/60.0))"
   ]
  },
  {
   "cell_type": "code",
   "execution_count": 13,
   "id": "useful-header",
   "metadata": {},
   "outputs": [],
   "source": [
    "# unpack train and evaluation info\n",
    "epochs, train_metrics = zip(*train_info)\n",
    "epochs, eval_metrics = zip(*eval_info)\n",
    "\n",
    "# Reformat train metrics from list of dicts to dict of lists \n",
    "train_column_names = train_metrics[0].keys()\n",
    "train_metric_dict = {name: [] for name in train_column_names}\n",
    "for train_metric in train_metrics: \n",
    "    for key, val in train_metric.items():\n",
    "        train_metric_dict[key].append(val)\n",
    "\n",
    "# Reformat eval metrics from list of dicts to dict of lists \n",
    "eval_column_names = eval_metrics[0].keys()\n",
    "eval_metric_dict = {name: [] for name in eval_column_names}\n",
    "for eval_metric in eval_metrics:\n",
    "    for key, val in eval_metric.items():\n",
    "        eval_metric_dict[key].append(val) "
   ]
  },
  {
   "cell_type": "markdown",
   "id": "decimal-senior",
   "metadata": {},
   "source": [
    "The train metrics that are logged include: \n",
    "- **Loss**: The loss is the summation of the regularization loss and the data loss. The regularization loss penalizes the magnitude of the parameters to avoid overfitting.\n",
    "- **Data Loss:** The data loss is computed between the rating predicted by the model and the ground truth interactions. This is typically a cross entropy loss for data with implicit feedback and mean squared error loss for explicit feedback.\n",
    "\n",
    "We can visualize plot these metrics across metrics as follows: "
   ]
  },
  {
   "cell_type": "code",
   "execution_count": 14,
   "id": "banner-skating",
   "metadata": {},
   "outputs": [
    {
     "data": {
      "image/png": "[encoded data removed]",
      "text/plain": [
       "<Figure size 2000x2000 with 2 Axes>"
      ]
     },
     "metadata": {},
     "output_type": "display_data"
    }
   ],
   "source": [
    "# Visualize train metrics\n",
    "\n",
    "f, axarr = plt.subplots(len(train_metric_dict.keys()), 1, figsize=(20, 20))\n",
    "\n",
    "for i, key in enumerate(train_metric_dict.keys()): \n",
    "    index = list(range(len(train_metric_dict[key])))\n",
    "    vals = train_metric_dict[key]\n",
    "    axarr[i].set_title(f\"Train {key}\")\n",
    "    axarr[i].plot(index, vals)"
   ]
  },
  {
   "cell_type": "markdown",
   "id": "medical-cambodia",
   "metadata": {},
   "source": [
    "The validation metrics that are logged include: \n",
    "- **AUC**: [AUC](https://developers.google.com/machine-learning/crash-course/classification/roc-and-auc#:~:text=AUC%20stands%20for%20%22Area%20under,to%20(1%2C1)) measures the likelihood that a random relevant item is ranked higher than a random irrelevant item. Higher the likelihood of this happening implies a higher AUC score meaning a better recommendation system. \n",
    "- **GROUP AUC**: Average AUC across users.\n",
    "- **Normalized discounted cumulative gain (NDCG@K)**: NDCG measures the overall reward at all positions that hold a relevant item. The reward is an inverse log of the position (i.e. higher ranks for relevant items would lead to better reward, as desired).\n",
    "\n",
    "For more information regarding the aforementioned metrics, please refer to this [blog post](https://flowthytensor.medium.com/some-metrics-to-evaluate-recommendation-systems-9e0cf0c8b6cf#:~:text=AUC%20measures%20the%20likelihood%20that,meaning%20a%20better%20recommendation%20system.). \n",
    "\n",
    "We can visualize plot these metrics across metrics as follows:"
   ]
  },
  {
   "cell_type": "code",
   "execution_count": 15,
   "id": "proper-science",
   "metadata": {},
   "outputs": [
    {
     "data": {
      "image/png": "[encoded data removed]",
      "text/plain": [
       "<Figure size 2000x4000 with 5 Axes>"
      ]
     },
     "metadata": {},
     "output_type": "display_data"
    }
   ],
   "source": [
    "# Visualize eval metrics\n",
    "\n",
    "f, axarr = plt.subplots(len(eval_metric_dict.keys()), 1, figsize=(20, 40))\n",
    "\n",
    "for i, key in enumerate(eval_metric_dict.keys()): \n",
    "    index = list(range(len(eval_metric_dict[key])))\n",
    "    vals = eval_metric_dict[key]\n",
    "    axarr[i].set_title(f\"Validation {key}\")\n",
    "    axarr[i].plot(index, vals)"
   ]
  },
  {
   "cell_type": "markdown",
   "id": "pressing-trustee",
   "metadata": {},
   "source": [
    "## Testing"
   ]
  },
  {
   "cell_type": "code",
   "execution_count": 16,
   "id": "first-austin",
   "metadata": {},
   "outputs": [
    {
     "name": "stdout",
     "output_type": "stream",
     "text": [
      "loading saved model in models/1667924110.0776627/best_model\n",
      "INFO:tensorflow:Restoring parameters from models/1667924110.0776627/best_model\n"
     ]
    },
    {
     "name": "stderr",
     "output_type": "stream",
     "text": [
      "INFO:tensorflow:Restoring parameters from models/1667924110.0776627/best_model\n"
     ]
    }
   ],
   "source": [
    "model_best_trained = SeqModel(hparams, input_creator, seed=RANDOM_SEED)\n",
    "path_best_trained = os.path.join(hparams.MODEL_DIR, \"best_model\")\n",
    "print('loading saved model in {0}'.format(path_best_trained))\n",
    "model_best_trained.load_model(path_best_trained)"
   ]
  },
  {
   "cell_type": "code",
   "execution_count": 17,
   "id": "minus-cocktail",
   "metadata": {},
   "outputs": [
    {
     "name": "stdout",
     "output_type": "stream",
     "text": [
      "{'auc': 0.6828, 'ndcg@2': 0.3645, 'ndcg@4': 0.4679, 'ndcg@6': 0.5226, 'group_auc': 0.6822}\n"
     ]
    }
   ],
   "source": [
    "res = model_best_trained.run_eval(test_path, num_ngs=test_num_ngs)\n",
    "print(res)"
   ]
  },
  {
   "cell_type": "code",
   "execution_count": 18,
   "id": "seeing-detail",
   "metadata": {},
   "outputs": [
    {
     "data": {
      "text/html": [
       "<div>\n",
       "<style scoped>\n",
       "    .dataframe tbody tr th:only-of-type {\n",
       "        vertical-align: middle;\n",
       "    }\n",
       "\n",
       "    .dataframe tbody tr th {\n",
       "        vertical-align: top;\n",
       "    }\n",
       "\n",
       "    .dataframe thead th {\n",
       "        text-align: right;\n",
       "    }\n",
       "</style>\n",
       "<table border=\"1\" class=\"dataframe\">\n",
       "  <thead>\n",
       "    <tr style=\"text-align: right;\">\n",
       "      <th></th>\n",
       "      <th>auc</th>\n",
       "      <th>ndcg@2</th>\n",
       "      <th>ndcg@4</th>\n",
       "      <th>ndcg@6</th>\n",
       "      <th>group_auc</th>\n",
       "      <th>name</th>\n",
       "    </tr>\n",
       "  </thead>\n",
       "  <tbody>\n",
       "    <tr>\n",
       "      <th>0</th>\n",
       "      <td>0.6828</td>\n",
       "      <td>0.3645</td>\n",
       "      <td>0.4679</td>\n",
       "      <td>0.5226</td>\n",
       "      <td>0.6822</td>\n",
       "      <td>A2SVD</td>\n",
       "    </tr>\n",
       "  </tbody>\n",
       "</table>\n",
       "</div>"
      ],
      "text/plain": [
       "      auc  ndcg@2  ndcg@4  ndcg@6  group_auc   name\n",
       "0  0.6828  0.3645  0.4679  0.5226     0.6822  A2SVD"
      ]
     },
     "execution_count": 18,
     "metadata": {},
     "output_type": "execute_result"
    }
   ],
   "source": [
    "res[\"name\"] = \"A2SVD\"\n",
    "res = {key: [val] for key, val in res.items()}\n",
    "res_df = pd.DataFrame.from_dict(res)\n",
    "res_df"
   ]
  },
  {
   "cell_type": "code",
   "execution_count": 19,
   "id": "crazy-plaza",
   "metadata": {},
   "outputs": [],
   "source": [
    "res_df.to_csv(\"amazon_results.csv\", index=False)"
   ]
  }
 ],
 "metadata": {
  "kernelspec": {
   "display_name": "recsys",
   "language": "python",
   "name": "recsys_env"
  },
  "language_info": {
   "codemirror_mode": {
    "name": "ipython",
    "version": 3
   },
   "file_extension": ".py",
   "mimetype": "text/x-python",
   "name": "python",
   "nbconvert_exporter": "python",
   "pygments_lexer": "ipython3",
   "version": "3.7.10"
  }
 },
 "nbformat": 4,
 "nbformat_minor": 5
}
