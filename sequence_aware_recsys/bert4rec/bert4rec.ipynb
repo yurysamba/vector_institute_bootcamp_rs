{
 "cells": [
  {
   "cell_type": "markdown",
   "metadata": {},
   "source": [
    "## Introduction\n",
    "\n",
    "This notebook presents a demo of [BERT4Rec](https://arxiv.org/pdf/1904.06690) that was introduced in 2019. BERT4Rec aims to address the limitations of the sequence-based recommender systems that model the user's historical interactions unidirectionally (from left to right). To do so, BERT4Rec employs a bidirectional self-attention network. The model is trained using the Cloze objective, where some items are masked randomly, and the model is supposed to predict the ids of masked items with cross-entropy loss. This notebook is based on the [PyTorch implementation](https://github.com/jaywonchung/BERT4Rec-VAE-Pytorch) of BERT4Rec, and consists of the following sections:\n",
    "1. Data\n",
    "2. BERT4Rec model\n",
    "3. Training and testing\n",
    "\n",
    "<p align=\"center\">\n",
    "    <img src=\"https://user-images.githubusercontent.com/16665038/189218683-0d77ba28-ebf8-449f-aed2-dcd73579ea4a.png\" alt=\"diagram\" width=\"600\"/>\n",
    "</p>"
   ]
  },
  {
   "cell_type": "code",
   "execution_count": 1,
   "metadata": {},
   "outputs": [],
   "source": [
    "import json\n",
    "import pickle\n",
    "from pathlib import Path\n",
    "from typing import Tuple\n",
    "\n",
    "import matplotlib.pyplot as plt\n",
    "import torch\n",
    "import torch.nn as nn\n",
    "import torch.optim as optim\n",
    "import torch.utils.data as data_utils\n",
    "from dotmap import DotMap\n",
    "from tqdm import tqdm\n",
    "\n",
    "from model.embedding import BERTEmbedding\n",
    "from model.transformer import TransformerBlock\n",
    "from utils import *"
   ]
  },
  {
   "cell_type": "markdown",
   "metadata": {},
   "source": [
    "Below is the list of parameters and arguments used for training and evaluating the model."
   ]
  },
  {
   "cell_type": "code",
   "execution_count": 2,
   "metadata": {},
   "outputs": [],
   "source": [
    "args = DotMap()\n",
    "\n",
    "################\n",
    "#   Data\n",
    "################\n",
    "args.preprocessed = Path('./Data/ml-1m/preprocessed')\n",
    "args.min_rating = 0\n",
    "args.min_uc = 5\n",
    "args.min_sc = 0\n",
    "args.eval_set_size = 500\n",
    "\n",
    "args.train_batch_size = 128\n",
    "args.val_batch_size = 128\n",
    "args.test_batch_size = 128\n",
    "\n",
    "args.negative_sampler = 'random'\n",
    "args.train_negative_sample_size = 0\n",
    "args.test_negative_sample_size = 100\n",
    "\n",
    "args.data_seed = 98765\n",
    "\n",
    "################\n",
    "# Trainer\n",
    "################\n",
    "args.optimizer = 'Adam'\n",
    "args.lr = 0.001\n",
    "args.weight_decay = 0\n",
    "args.momentum = None\n",
    "\n",
    "args.decay_step = 25\n",
    "args.gamma = 1.0\n",
    "\n",
    "args.num_epochs = 60\n",
    "\n",
    "args.log_period = 128000\n",
    "\n",
    "args.metric_ks = [1, 5, 10]\n",
    "args.best_metric = 'NDCG@10'\n",
    "\n",
    "################\n",
    "# Bert\n",
    "################\n",
    "args.model_init_seed = 0\n",
    "args.bert_max_len = 200\n",
    "args.bert_hidden_units = 256\n",
    "args.bert_num_blocks = 4\n",
    "args.bert_num_heads = 4\n",
    "args.bert_dropout = 0.1\n",
    "args.bert_mask_prob = 0.15\n",
    "\n",
    "################\n",
    "# Experiment\n",
    "################\n",
    "args.experiment_dir = './exp'\n",
    "\n",
    "args.device = 'cuda' if torch.cuda.is_available() else 'cpu'\n",
    "\n",
    "args.num_gpu = 1\n",
    "\n",
    "os.makedirs(args.experiment_dir, exist_ok=True)\n"
   ]
  },
  {
   "cell_type": "markdown",
   "metadata": {},
   "source": [
    "## Data\n",
    "\n",
    "The steps of data preprocessing are discussed in a separate notebook. Please make sure to run the relevant notebooks and have the preprocessed data files generated. \n",
    "In this section, the Pytorch dataset classes are presented:\n",
    "\n",
    "### BertTrainDataset\n",
    "During training, the items in a user's sequence are masked with a probability of `args.bert_mask_prob`. However, similar to the original BERT model, those token positions selected for masking are replaced by the [MASK] token only 80% of the time. 10% of the time, they are replaced with a random token from the dataset, and 10% percent of the time their original value is kept.\n",
    "\n",
    "In addition to the tokens vector, a label vector is generated which contains zeros except for those indices that are chosen to be masked.\n",
    "\n",
    "Note that if the number of items in a user sequence is lower than the `args.bert_max_length`, the items and labels vectors are padded with zero."
   ]
  },
  {
   "cell_type": "code",
   "execution_count": 3,
   "metadata": {},
   "outputs": [],
   "source": [
    "class BertTrainDataset(data_utils.Dataset):\n",
    "    def __init__(self, u2seq, max_len, mask_prob, mask_token, num_items, rng):\n",
    "        \"\"\"Train dataset class\n",
    "\n",
    "        Args:\n",
    "            u2seq (dict): train set dict mapping users to their sequence of items\n",
    "            max_len (int): maximum sequence length\n",
    "            mask_prob (float): the probability to mask the tokens\n",
    "            mask_token (int): the value to replece masked values with\n",
    "            num_items (int): total number of items in the dataset\n",
    "            rng (random.Random): random generator\n",
    "        \"\"\"\n",
    "        self.u2seq = u2seq\n",
    "        self.users = sorted(self.u2seq.keys())\n",
    "        self.max_len = max_len\n",
    "        self.mask_prob = mask_prob\n",
    "        self.mask_token = mask_token\n",
    "        self.num_items = num_items\n",
    "        self.rng = rng\n",
    "\n",
    "    def __len__(self):\n",
    "        return len(self.users)\n",
    "\n",
    "    def __getitem__(self, index):\n",
    "        user = self.users[index]\n",
    "        seq = self._getseq(user)\n",
    "\n",
    "        tokens = []\n",
    "        labels = []\n",
    "       \n",
    "        for s in seq:\n",
    "            prob = self.rng.random()\n",
    "            if prob < self.mask_prob:\n",
    "                prob /= self.mask_prob\n",
    "\n",
    "                if prob < 0.8:\n",
    "                    tokens.append(self.mask_token)\n",
    "                elif prob < 0.9:\n",
    "                    tokens.append(self.rng.randint(1, self.num_items))\n",
    "                else:\n",
    "                    tokens.append(s)\n",
    "\n",
    "                labels.append(s)\n",
    "            else:\n",
    "                tokens.append(s)\n",
    "                labels.append(0)\n",
    "\n",
    "        tokens = tokens[-self.max_len:]\n",
    "        labels = labels[-self.max_len:]\n",
    "       \n",
    "        mask_len = self.max_len - len(tokens)\n",
    "\n",
    "        tokens = [0] * mask_len + tokens\n",
    "        labels = [0] * mask_len + labels\n",
    "\n",
    "        return torch.LongTensor(tokens), torch.LongTensor(labels)\n",
    "\n",
    "    def _getseq(self, user):\n",
    "        return self.u2seq[user]\n",
    "\n",
    "\n"
   ]
  },
  {
   "cell_type": "markdown",
   "metadata": {},
   "source": [
    "### BertEvalDataset\n",
    "For evaluation, the special [MASK] token is appended at the end of the input sequence to indicate the item that needs to be predicted. \n",
    "The ground truth paired with generated negative samples forms the candidates vector, and the labels vector indicates the position of the ground truth by assigning 1 to the first element and 0 to the rest."
   ]
  },
  {
   "cell_type": "code",
   "execution_count": 4,
   "metadata": {},
   "outputs": [],
   "source": [
    "class BertEvalDataset(data_utils.Dataset):\n",
    "    \"\"\"Evaluation dataset class\n",
    "\n",
    "        Args:\n",
    "            u2seq (dict): train dict mapping users to their sequence of items\n",
    "            u2answer (dict): val/test dict mapping users to their val/test item\n",
    "            mask_token (int): the value to replece masked values with\n",
    "            num_items (int): total number of items in the dataset\n",
    "            negative_samples (dict): a dict mapping users to their negative samples\n",
    "        \"\"\"\n",
    "    def __init__(self, u2seq, u2answer, max_len, mask_token, negative_samples):\n",
    "        self.u2seq = u2seq\n",
    "        self.users = sorted(self.u2seq.keys())\n",
    "        self.u2answer = u2answer\n",
    "        self.max_len = max_len\n",
    "        self.mask_token = mask_token\n",
    "        self.negative_samples = negative_samples\n",
    "\n",
    "    def __len__(self):\n",
    "        return len(self.users)\n",
    "\n",
    "    def __getitem__(self, index):\n",
    "        user = self.users[index]\n",
    "        seq = self.u2seq[user]\n",
    "        answer = self.u2answer[user]\n",
    "        negs = self.negative_samples[user]\n",
    "        \n",
    "        candidates = answer + negs\n",
    "        labels = [1] * len(answer) + [0] * len(negs)\n",
    "\n",
    "        seq = seq + [self.mask_token]\n",
    "        seq = seq[-self.max_len:]\n",
    "        padding_len = self.max_len - len(seq)\n",
    "        seq = [0] * padding_len + seq\n",
    "\n",
    "        return torch.LongTensor(seq), torch.LongTensor(candidates), torch.LongTensor(labels)"
   ]
  },
  {
   "cell_type": "markdown",
   "metadata": {},
   "source": [
    "The preprocessed datasets and negative samples are generated after running the preprocessing notebook.\n",
    "\n",
    "The dataloaders are created using the corresponding datasets.\n",
    "\n",
    "Note that the value assinged to the the [MASK] token is actually the number of all tokens (items) in the dataset incremented by one."
   ]
  },
  {
   "cell_type": "code",
   "execution_count": 5,
   "metadata": {},
   "outputs": [],
   "source": [
    "\n",
    "dataset_path = args.preprocessed.joinpath('dataset.pkl')\n",
    "dataset = pickle.load(dataset_path.open('rb'))\n",
    "train = dataset['train']\n",
    "val = dataset['val']\n",
    "test = dataset['test']\n",
    "\n",
    "negatives_path = args.preprocessed.joinpath(f'{args.negative_sampler}_negatives.pkl')\n",
    "test_negative_samples = pickle.load(negatives_path.open('rb'))\n",
    "\n",
    "args.item_count = len(dataset['smap'])\n",
    "\n",
    "mask_token = args.item_count + 1\n",
    "\n",
    "rng = random.Random(args.data_seed)\n",
    "\n",
    "train_dataset = BertTrainDataset(train, args.bert_max_len, args.bert_mask_prob, mask_token, args.item_count, rng)\n",
    "train_loader = data_utils.DataLoader(train_dataset, batch_size=args.train_batch_size,\n",
    "                                        shuffle=False, pin_memory=True)\n",
    "\n",
    "val_dataset = BertEvalDataset(train, val, args.bert_max_len, mask_token, test_negative_samples)\n",
    "val_loader = data_utils.DataLoader(val_dataset, batch_size=args.val_batch_size,\n",
    "                                           shuffle=True, pin_memory=True)\n",
    "\n",
    "test_dataset = BertEvalDataset(train, test, args.bert_max_len, mask_token, test_negative_samples)\n",
    "test_loader = data_utils.DataLoader(test_dataset, batch_size=args.test_batch_size,\n",
    "                                           shuffle=True, pin_memory=True)\n",
    "    \n"
   ]
  },
  {
   "cell_type": "markdown",
   "metadata": {},
   "source": [
    "## BERT4Rec \n",
    "\n",
    "The architecture of BERT4Rec is similar to the original BERT model with an additional output layer.\n",
    "The model contains:\n",
    "1. Embedding layer\n",
    "    - Positional embedding: A **learnable** embedding to identify which portion of the input is being dealt with.\n",
    "    - Token embedding: Normal embedding of the input.\n",
    "2. Stack of Transformer layers\n",
    "    - Multi-head self-attention: Captures dependencies between repreresentations. \n",
    "    - Position-wise feedforward network: Two linear transformations with a GELU in between.\n",
    "3. Output layer: A linear layer to produce an output distribution over the items. \n",
    "\n",
    "<p align=\"center\">\n",
    "    <img src=\"https://user-images.githubusercontent.com/16665038/189218507-e4cbf472-27bb-4898-bbdd-4d9842926f35.png\" alt=\"architecture\" width=\"500\"/>\n",
    "</p>"
   ]
  },
  {
   "cell_type": "code",
   "execution_count": 6,
   "metadata": {},
   "outputs": [],
   "source": [
    "class BERT(nn.Module):\n",
    "    def __init__(self, args):\n",
    "        super().__init__()\n",
    "\n",
    "        fix_random_seed_as(args.model_init_seed)\n",
    "\n",
    "        max_len = args.bert_max_len\n",
    "        num_items = args.item_count\n",
    "        n_layers = args.bert_num_blocks\n",
    "        heads = args.bert_num_heads\n",
    "        vocab_size = num_items + 2\n",
    "        hidden = args.bert_hidden_units\n",
    "        self.hidden = hidden\n",
    "        dropout = args.bert_dropout\n",
    "\n",
    "        # embedding for BERT, sum of positional and token embeddings\n",
    "        self.embedding = BERTEmbedding(vocab_size=vocab_size, embed_size=self.hidden, max_len=max_len, dropout=dropout)\n",
    "\n",
    "        # multi-layers transformer blocks, deep network\n",
    "        self.transformer_blocks = nn.ModuleList(\n",
    "            [TransformerBlock(hidden, heads, hidden * 4, dropout) for _ in range(n_layers)])\n",
    "\n",
    "    def forward(self, x):\n",
    "        mask = (x > 0).unsqueeze(1).repeat(1, x.size(1), 1).unsqueeze(1)\n",
    "\n",
    "        # embedding the indexed sequence to sequence of vectors\n",
    "        x = self.embedding(x)\n",
    "\n",
    "        # running over multiple transformer blocks\n",
    "        for transformer in self.transformer_blocks:\n",
    "            x = transformer.forward(x, mask)\n",
    "\n",
    "        return x\n",
    "\n",
    "    def init_weights(self):\n",
    "        pass\n",
    "\n",
    "\n",
    "class BERTModel(nn.Module):\n",
    "    def __init__(self, args):\n",
    "        super().__init__()\n",
    "        self.args = args\n",
    "        self.bert = BERT(args)\n",
    "        self.out = nn.Linear(self.bert.hidden, args.item_count + 1)\n",
    "\n",
    "    def forward(self, x):\n",
    "        x = self.bert(x)\n",
    "        return self.out(x)"
   ]
  },
  {
   "cell_type": "markdown",
   "metadata": {},
   "source": [
    "## Trainer\n",
    "\n",
    "The trainer class implements training, validation, and testing. \n",
    "\n",
    "**Training** is done using the cross-entropy loss. Note that loss is only calculated for the items that have been chosen to be masked.  \n",
    "\n",
    "**Evaluation** is done by calculating the metrics for the last item of both validation and test sets (according to leave-one-out evaluation method).\n",
    "The metrics used for evaluation are **recall** (hit ratio) and **normalized discounted cumulative gain (NDCG).**\n",
    "     \n",
    "**Recall@k:** A fraction of top k recommended items that are in a set of items relevant to the user.\n",
    "\n",
    "<p align=\"center\">\n",
    "    <img src=\"https://user-images.githubusercontent.com/16665038/189218781-e58bcb35-4761-4415-b53e-d33584f1daa0.png\" alt=\"architecture\" width=\"500\"/>\n",
    "</p>\n",
    "    \n",
    "**Normalized discounted cumulative gain (NDCG@K):** NDCG measures the overall reward at all positions that hold a relevant item. The reward is an inverse log of the position (i.e. higher ranks for relevant items would lead to better reward, as desired).\n",
    "    \n",
    "\n",
    "<p align=\"center\">\n",
    "    <img src=\"https://user-images.githubusercontent.com/16665038/189218872-b21d3171-c770-44ec-a164-ea03d8399d2c.png\" alt=\"architecture\" width=\"500\"/>\n",
    "</p>\n",
    "\n",
    "For more information regarding the aforementioned metrics, please refer to this [blog post](https://flowthytensor.medium.com/some-metrics-to-evaluate-recommendation-systems-9e0cf0c8b6cf#:~:text=AUC%20measures%20the%20likelihood%20that,meaning%20a%20better%20recommendation%20system.). "
   ]
  },
  {
   "cell_type": "code",
   "execution_count": 7,
   "metadata": {},
   "outputs": [],
   "source": [
    "class BERTTrainer():\n",
    "    def __init__(self, args, model, train_loader, val_loader, test_loader, export_root):\n",
    "        \"\"\"Trainer class\n",
    "\n",
    "        Args:\n",
    "            args (Dotmap): all the arguments\n",
    "            model (BERTModel): the bert model\n",
    "            train_loader (data_utils.dataloader): dataloader for the train set\n",
    "            val_loader (data_utils.dataloader): dataloader for the validation set\n",
    "            test_loader (data_utils.dataloader): dataloader for the test set\n",
    "            export_root (path): the directory to save checkpoints\n",
    "        \"\"\"\n",
    "        self.args = args\n",
    "        self.device = args.device\n",
    "        self.model = model.to(self.device)\n",
    "        self.is_parallel = args.num_gpu > 1\n",
    "        if self.is_parallel:\n",
    "            self.model = nn.DataParallel(self.model)\n",
    "\n",
    "        self.train_loader = train_loader\n",
    "        self.val_loader = val_loader\n",
    "        self.test_loader = test_loader\n",
    "        self.optimizer = self._create_optimizer()\n",
    "        self.lr_scheduler = optim.lr_scheduler.StepLR(self.optimizer, step_size=args.decay_step, gamma=args.gamma)\n",
    "\n",
    "        self.num_epochs = args.num_epochs\n",
    "        self.metric_ks = args.metric_ks\n",
    "        self.best_metric_key = args.best_metric\n",
    "        self.best_metric = 0.\n",
    "\n",
    "        self.checkpoint_path = export_root\n",
    "        self.ce = nn.CrossEntropyLoss(ignore_index=0)\n",
    "\n",
    "        keys = ['Recall@%d' % k for k in self.metric_ks]\n",
    "        keys += ['NDCG@%d' % k for k in self.metric_ks]\n",
    "        self.metrics = {new_list: [] for new_list in keys}\n",
    "\n",
    "    def calculate_loss(self, batch):\n",
    "        \"\"\"calculates the cross-entropy loss during training\n",
    "\n",
    "        Args:\n",
    "            batch (Tuple): tuple of sequences and labels in a batch\n",
    "\n",
    "        Returns:\n",
    "            torch.Tensor: the calculated loss of the batch\n",
    "        \"\"\"\n",
    "        seqs, labels = batch\n",
    "        logits = self.model(seqs)  # B x T x V\n",
    "        logits = logits.view(-1, logits.size(-1))  # (B*T) x V\n",
    "        labels = labels.view(-1)  # B*T\n",
    "        loss = self.ce(logits, labels)\n",
    "        return loss\n",
    "\n",
    "    def calculate_metrics(self, batch):\n",
    "        \"\"\"calculates recall and ndcg during evaluation\n",
    "\n",
    "        Args:\n",
    "            batch (Tuple): tuple of sequences, candidates, and labels in a batch\n",
    "\n",
    "        Returns:\n",
    "            dict: a dict including all the evaluation metrics\n",
    "        \"\"\"\n",
    "        seqs, candidates, labels = batch\n",
    "        scores = self.model(seqs)  # B x T x V\n",
    "        scores = scores[:, -1, :]  # B x V\n",
    "        scores = scores.gather(1, candidates)  # B x C\n",
    "        metrics = recalls_and_ndcgs_for_ks(scores, labels, self.metric_ks)\n",
    "        return metrics\n",
    "    \n",
    "    def train(self):\n",
    "        \"\"\"trains the model according to the number of epochs\n",
    "        \"\"\"\n",
    "        accum_iter = 0\n",
    "        # self.validate(0, accum_iter)\n",
    "\n",
    "        for epoch in range(self.num_epochs):\n",
    "            accum_iter = self.train_one_epoch(epoch, accum_iter)\n",
    "            self.validate(epoch, accum_iter)\n",
    "\n",
    "\n",
    "    def train_one_epoch(self, epoch, accum_iter):\n",
    "        \"\"\"trains the model for one epoch\n",
    "\n",
    "        Args:\n",
    "            epoch (int): the number of current epoch\n",
    "            accum_iter (int): total number of iterations\n",
    "\n",
    "        Returns:\n",
    "            int: the updated value for accum_iter\n",
    "        \"\"\"\n",
    "        self.model.train()\n",
    "\n",
    "        average_meter_set = AverageMeterSet()\n",
    "        tqdm_dataloader = tqdm(self.train_loader)\n",
    "\n",
    "        for batch_idx, batch in enumerate(tqdm_dataloader):\n",
    "            batch_size = batch[0].size(0)\n",
    "            batch = [x.to(self.device) for x in batch]\n",
    "            \n",
    "            self.optimizer.zero_grad()\n",
    "            loss = self.calculate_loss(batch)\n",
    "            loss.backward()\n",
    "\n",
    "            self.optimizer.step()\n",
    "\n",
    "            average_meter_set.update('loss', loss.item())\n",
    "            tqdm_dataloader.set_description(\n",
    "                'Epoch {}, loss {:.3f} '.format(epoch, average_meter_set['loss'].avg))\n",
    "\n",
    "            accum_iter += batch_size\n",
    "\n",
    "        self.lr_scheduler.step()\n",
    "        return accum_iter\n",
    "\n",
    "    def validate(self, epoch, accum_iter):\n",
    "        \"\"\"evaluates the model after training for one epoch\n",
    "\n",
    "        Args:\n",
    "            epoch (int): the number of current epoch\n",
    "            accum_iter (int): otal number of iterations\n",
    "        \"\"\"\n",
    "        self.model.eval()\n",
    "\n",
    "        average_meter_set = AverageMeterSet()\n",
    "\n",
    "        with torch.no_grad():\n",
    "            tqdm_dataloader = tqdm(self.val_loader)\n",
    "            for batch_idx, batch in enumerate(tqdm_dataloader):\n",
    "                batch = [x.to(self.device) for x in batch]\n",
    "\n",
    "                metrics = self.calculate_metrics(batch)\n",
    "\n",
    "                for k, v in metrics.items():\n",
    "                    average_meter_set.update(k, v)\n",
    "                description_metrics = ['NDCG@%d' % k for k in self.metric_ks[:3]] +\\\n",
    "                                      ['Recall@%d' % k for k in self.metric_ks[:3]]\n",
    "                description = 'Val: ' + ', '.join(s + ' {:.3f}' for s in description_metrics)\n",
    "                description = description.replace('NDCG', 'N').replace('Recall', 'R')\n",
    "                description = description.format(*(average_meter_set[k].avg for k in description_metrics))\n",
    "                tqdm_dataloader.set_description(description)\n",
    "\n",
    "            state_dict = self._create_state_dict()\n",
    "            state_dict['epoch'] = epoch\n",
    "            self._save_recent_model(state_dict)\n",
    "\n",
    "            average_metrics = average_meter_set.averages()\n",
    "            for k, v in average_metrics.items():    \n",
    "                self.metrics[k].append(v)\n",
    "            \n",
    "            if average_metrics[self.best_metric_key] > self.best_metric:\n",
    "                self._save_best_model(state_dict)\n",
    "                self.best_metric = average_metrics[self.best_metric_key]\n",
    "\n",
    "\n",
    "\n",
    "\n",
    "    def test(self):\n",
    "        \"\"\"tests the model after training is done\n",
    "        \"\"\"\n",
    "        print('Test best model with test set!')\n",
    "\n",
    "        best_model = torch.load(os.path.join(self.checkpoint_path, 'best_model.pth')).get('model_state_dict')\n",
    "        self.model.load_state_dict(best_model)\n",
    "        self.model.eval()\n",
    "\n",
    "        average_meter_set = AverageMeterSet()\n",
    "\n",
    "        with torch.no_grad():\n",
    "            tqdm_dataloader = tqdm(self.test_loader)\n",
    "            for batch_idx, batch in enumerate(tqdm_dataloader):\n",
    "                batch = [x.to(self.device) for x in batch]\n",
    "\n",
    "                metrics = self.calculate_metrics(batch)\n",
    "\n",
    "                for k, v in metrics.items():\n",
    "                    average_meter_set.update(k, v)\n",
    "                description_metrics = ['NDCG@%d' % k for k in self.metric_ks[:3]] +\\\n",
    "                                      ['Recall@%d' % k for k in self.metric_ks[:3]]\n",
    "                description = 'Val: ' + ', '.join(s + ' {:.3f}' for s in description_metrics)\n",
    "                description = description.replace('NDCG', 'N').replace('Recall', 'R')\n",
    "                description = description.format(*(average_meter_set[k].avg for k in description_metrics))\n",
    "                tqdm_dataloader.set_description(description)\n",
    "\n",
    "            average_metrics = average_meter_set.averages()\n",
    "            with open(os.path.join(self.checkpoint_path, 'test_metrics.json'), 'w') as f:\n",
    "                json.dump(average_metrics, f, indent=4)\n",
    "            print(average_metrics)\n",
    "\n",
    "    def _create_optimizer(self):\n",
    "        \"\"\"creates the optimizer according to optimizer parameters\n",
    "\n",
    "        Raises:\n",
    "            ValueError: raised when the selected optimizer is other than sgd or adam\n",
    "\n",
    "        Returns:\n",
    "            optim.Optimizer: the optimizer object\n",
    "        \"\"\"\n",
    "        args = self.args\n",
    "        if args.optimizer.lower() == 'adam':\n",
    "            return optim.Adam(self.model.parameters(), lr=args.lr, weight_decay=args.weight_decay)\n",
    "        elif args.optimizer.lower() == 'sgd':\n",
    "            return optim.SGD(self.model.parameters(), lr=args.lr, weight_decay=args.weight_decay, momentum=args.momentum)\n",
    "        else:\n",
    "            raise ValueError\n",
    "\n",
    "    def _save_best_model(self, state_dict):\n",
    "        \"\"\"saves the best model checkpoint to the checkpoint path\n",
    "\n",
    "        Args:\n",
    "            state_dict (dict): the state of the model and the optimizer\n",
    "        \"\"\"\n",
    "        print(\"Update Best {} Model at {}\".format(self.best_metric_key, state_dict['epoch']))\n",
    "        torch.save(state_dict, os.path.join(self.checkpoint_path, 'best_model.pth'))\n",
    "\n",
    "    def _save_recent_model(self, state_dict):\n",
    "        \"\"\"saves the most recent model checkpoint to the checkpoint path\n",
    "\n",
    "        Args:\n",
    "            state_dict (dict): the state of the model and the optimizer\n",
    "        \"\"\"\n",
    "        torch.save(state_dict, os.path.join(self.checkpoint_path, 'recent_model.pth'))\n",
    "    \n",
    "    def _create_state_dict(self):\n",
    "        \"\"\"creates the dict for the model state and the optimizer's\n",
    "\n",
    "        Returns:\n",
    "            dict: a dict including the model state and the optimizer's\n",
    "        \"\"\"\n",
    "        return {\n",
    "            'model_state_dict': self.model.module.state_dict() if self.is_parallel else self.model.state_dict(),\n",
    "            'optimizer_state_dict': self.optimizer.state_dict(),\n",
    "        }\n",
    "\n"
   ]
  },
  {
   "cell_type": "code",
   "execution_count": 8,
   "metadata": {},
   "outputs": [
    {
     "name": "stderr",
     "output_type": "stream",
     "text": [
      "Epoch 0, loss 7.846 : 100%|██████████| 48/48 [00:18<00:00,  2.62it/s]\n",
      "Val: N@1 0.078, N@5 0.170, N@10 0.220, R@1 0.078, R@5 0.260, R@10 0.414: 100%|██████████| 48/48 [00:06<00:00,  7.26it/s]\n"
     ]
    },
    {
     "name": "stdout",
     "output_type": "stream",
     "text": [
      "Update Best NDCG@10 Model at 0\n"
     ]
    },
    {
     "name": "stderr",
     "output_type": "stream",
     "text": [
      "Epoch 1, loss 7.412 : 100%|██████████| 48/48 [00:18<00:00,  2.64it/s]\n",
      "Val: N@1 0.087, N@5 0.186, N@10 0.234, R@1 0.087, R@5 0.282, R@10 0.431: 100%|██████████| 48/48 [00:06<00:00,  7.22it/s]\n"
     ]
    },
    {
     "name": "stdout",
     "output_type": "stream",
     "text": [
      "Update Best NDCG@10 Model at 1\n"
     ]
    },
    {
     "name": "stderr",
     "output_type": "stream",
     "text": [
      "Epoch 2, loss 7.204 : 100%|██████████| 48/48 [00:18<00:00,  2.63it/s]\n",
      "Val: N@1 0.102, N@5 0.222, N@10 0.270, R@1 0.102, R@5 0.338, R@10 0.489: 100%|██████████| 48/48 [00:06<00:00,  7.15it/s]\n"
     ]
    },
    {
     "name": "stdout",
     "output_type": "stream",
     "text": [
      "Update Best NDCG@10 Model at 2\n"
     ]
    },
    {
     "name": "stderr",
     "output_type": "stream",
     "text": [
      "Epoch 3, loss 6.989 : 100%|██████████| 48/48 [00:18<00:00,  2.61it/s]\n",
      "Val: N@1 0.113, N@5 0.240, N@10 0.293, R@1 0.113, R@5 0.366, R@10 0.527: 100%|██████████| 48/48 [00:06<00:00,  7.12it/s]\n"
     ]
    },
    {
     "name": "stdout",
     "output_type": "stream",
     "text": [
      "Update Best NDCG@10 Model at 3\n"
     ]
    },
    {
     "name": "stderr",
     "output_type": "stream",
     "text": [
      "Epoch 4, loss 6.874 : 100%|██████████| 48/48 [00:18<00:00,  2.58it/s]\n",
      "Val: N@1 0.129, N@5 0.255, N@10 0.312, R@1 0.129, R@5 0.379, R@10 0.555: 100%|██████████| 48/48 [00:06<00:00,  7.11it/s]\n"
     ]
    },
    {
     "name": "stdout",
     "output_type": "stream",
     "text": [
      "Update Best NDCG@10 Model at 4\n"
     ]
    },
    {
     "name": "stderr",
     "output_type": "stream",
     "text": [
      "Epoch 5, loss 6.772 : 100%|██████████| 48/48 [00:18<00:00,  2.57it/s]\n",
      "Val: N@1 0.142, N@5 0.282, N@10 0.338, R@1 0.142, R@5 0.416, R@10 0.590: 100%|██████████| 48/48 [00:06<00:00,  7.07it/s]\n"
     ]
    },
    {
     "name": "stdout",
     "output_type": "stream",
     "text": [
      "Update Best NDCG@10 Model at 5\n"
     ]
    },
    {
     "name": "stderr",
     "output_type": "stream",
     "text": [
      "Epoch 6, loss 6.674 : 100%|██████████| 48/48 [00:18<00:00,  2.55it/s]\n",
      "Val: N@1 0.153, N@5 0.306, N@10 0.359, R@1 0.153, R@5 0.449, R@10 0.612: 100%|██████████| 48/48 [00:06<00:00,  7.03it/s]\n"
     ]
    },
    {
     "name": "stdout",
     "output_type": "stream",
     "text": [
      "Update Best NDCG@10 Model at 6\n"
     ]
    },
    {
     "name": "stderr",
     "output_type": "stream",
     "text": [
      "Epoch 7, loss 6.606 : 100%|██████████| 48/48 [00:18<00:00,  2.53it/s]\n",
      "Val: N@1 0.168, N@5 0.323, N@10 0.374, R@1 0.168, R@5 0.469, R@10 0.627: 100%|██████████| 48/48 [00:06<00:00,  6.98it/s]\n"
     ]
    },
    {
     "name": "stdout",
     "output_type": "stream",
     "text": [
      "Update Best NDCG@10 Model at 7\n"
     ]
    },
    {
     "name": "stderr",
     "output_type": "stream",
     "text": [
      "Epoch 8, loss 6.520 : 100%|██████████| 48/48 [00:19<00:00,  2.52it/s]\n",
      "Val: N@1 0.187, N@5 0.352, N@10 0.403, R@1 0.187, R@5 0.505, R@10 0.663: 100%|██████████| 48/48 [00:06<00:00,  6.96it/s]\n"
     ]
    },
    {
     "name": "stdout",
     "output_type": "stream",
     "text": [
      "Update Best NDCG@10 Model at 8\n"
     ]
    },
    {
     "name": "stderr",
     "output_type": "stream",
     "text": [
      "Epoch 9, loss 6.439 : 100%|██████████| 48/48 [00:19<00:00,  2.50it/s]\n",
      "Val: N@1 0.206, N@5 0.370, N@10 0.418, R@1 0.206, R@5 0.525, R@10 0.673: 100%|██████████| 48/48 [00:06<00:00,  6.95it/s]\n"
     ]
    },
    {
     "name": "stdout",
     "output_type": "stream",
     "text": [
      "Update Best NDCG@10 Model at 9\n"
     ]
    },
    {
     "name": "stderr",
     "output_type": "stream",
     "text": [
      "Epoch 10, loss 6.364 : 100%|██████████| 48/48 [00:19<00:00,  2.51it/s]\n",
      "Val: N@1 0.221, N@5 0.392, N@10 0.439, R@1 0.221, R@5 0.547, R@10 0.694: 100%|██████████| 48/48 [00:06<00:00,  6.92it/s]\n"
     ]
    },
    {
     "name": "stdout",
     "output_type": "stream",
     "text": [
      "Update Best NDCG@10 Model at 10\n"
     ]
    },
    {
     "name": "stderr",
     "output_type": "stream",
     "text": [
      "Epoch 11, loss 6.261 : 100%|██████████| 48/48 [00:19<00:00,  2.50it/s]\n",
      "Val: N@1 0.234, N@5 0.405, N@10 0.451, R@1 0.234, R@5 0.560, R@10 0.703: 100%|██████████| 48/48 [00:06<00:00,  6.90it/s]\n"
     ]
    },
    {
     "name": "stdout",
     "output_type": "stream",
     "text": [
      "Update Best NDCG@10 Model at 11\n"
     ]
    },
    {
     "name": "stderr",
     "output_type": "stream",
     "text": [
      "Epoch 12, loss 6.178 : 100%|██████████| 48/48 [00:19<00:00,  2.49it/s]\n",
      "Val: N@1 0.241, N@5 0.412, N@10 0.459, R@1 0.241, R@5 0.566, R@10 0.711: 100%|██████████| 48/48 [00:06<00:00,  6.89it/s]\n"
     ]
    },
    {
     "name": "stdout",
     "output_type": "stream",
     "text": [
      "Update Best NDCG@10 Model at 12\n"
     ]
    },
    {
     "name": "stderr",
     "output_type": "stream",
     "text": [
      "Epoch 13, loss 6.088 : 100%|██████████| 48/48 [00:19<00:00,  2.49it/s]\n",
      "Val: N@1 0.244, N@5 0.425, N@10 0.471, R@1 0.244, R@5 0.586, R@10 0.727: 100%|██████████| 48/48 [00:06<00:00,  6.88it/s]\n"
     ]
    },
    {
     "name": "stdout",
     "output_type": "stream",
     "text": [
      "Update Best NDCG@10 Model at 13\n"
     ]
    },
    {
     "name": "stderr",
     "output_type": "stream",
     "text": [
      "Epoch 14, loss 6.004 : 100%|██████████| 48/48 [00:19<00:00,  2.49it/s]\n",
      "Val: N@1 0.273, N@5 0.445, N@10 0.487, R@1 0.273, R@5 0.600, R@10 0.728: 100%|██████████| 48/48 [00:06<00:00,  6.89it/s]\n"
     ]
    },
    {
     "name": "stdout",
     "output_type": "stream",
     "text": [
      "Update Best NDCG@10 Model at 14\n"
     ]
    },
    {
     "name": "stderr",
     "output_type": "stream",
     "text": [
      "Epoch 15, loss 5.946 : 100%|██████████| 48/48 [00:19<00:00,  2.48it/s]\n",
      "Val: N@1 0.261, N@5 0.435, N@10 0.477, R@1 0.261, R@5 0.593, R@10 0.719: 100%|██████████| 48/48 [00:06<00:00,  6.86it/s]\n",
      "Epoch 16, loss 5.865 : 100%|██████████| 48/48 [00:19<00:00,  2.48it/s]\n",
      "Val: N@1 0.290, N@5 0.463, N@10 0.502, R@1 0.290, R@5 0.617, R@10 0.738: 100%|██████████| 48/48 [00:06<00:00,  6.87it/s]\n"
     ]
    },
    {
     "name": "stdout",
     "output_type": "stream",
     "text": [
      "Update Best NDCG@10 Model at 16\n"
     ]
    },
    {
     "name": "stderr",
     "output_type": "stream",
     "text": [
      "Epoch 17, loss 5.809 : 100%|██████████| 48/48 [00:19<00:00,  2.47it/s]\n",
      "Val: N@1 0.294, N@5 0.470, N@10 0.509, R@1 0.294, R@5 0.627, R@10 0.748: 100%|██████████| 48/48 [00:07<00:00,  6.84it/s]\n"
     ]
    },
    {
     "name": "stdout",
     "output_type": "stream",
     "text": [
      "Update Best NDCG@10 Model at 17\n"
     ]
    },
    {
     "name": "stderr",
     "output_type": "stream",
     "text": [
      "Epoch 18, loss 5.755 : 100%|██████████| 48/48 [00:19<00:00,  2.46it/s]\n",
      "Val: N@1 0.306, N@5 0.480, N@10 0.519, R@1 0.306, R@5 0.633, R@10 0.750: 100%|██████████| 48/48 [00:07<00:00,  6.78it/s]\n"
     ]
    },
    {
     "name": "stdout",
     "output_type": "stream",
     "text": [
      "Update Best NDCG@10 Model at 18\n"
     ]
    },
    {
     "name": "stderr",
     "output_type": "stream",
     "text": [
      "Epoch 19, loss 5.716 : 100%|██████████| 48/48 [00:19<00:00,  2.45it/s]\n",
      "Val: N@1 0.309, N@5 0.485, N@10 0.524, R@1 0.309, R@5 0.639, R@10 0.758: 100%|██████████| 48/48 [00:07<00:00,  6.79it/s]\n"
     ]
    },
    {
     "name": "stdout",
     "output_type": "stream",
     "text": [
      "Update Best NDCG@10 Model at 19\n"
     ]
    },
    {
     "name": "stderr",
     "output_type": "stream",
     "text": [
      "Epoch 20, loss 5.672 : 100%|██████████| 48/48 [00:19<00:00,  2.45it/s]\n",
      "Val: N@1 0.318, N@5 0.489, N@10 0.529, R@1 0.318, R@5 0.639, R@10 0.763: 100%|██████████| 48/48 [00:07<00:00,  6.80it/s]\n"
     ]
    },
    {
     "name": "stdout",
     "output_type": "stream",
     "text": [
      "Update Best NDCG@10 Model at 20\n"
     ]
    },
    {
     "name": "stderr",
     "output_type": "stream",
     "text": [
      "Epoch 21, loss 5.623 : 100%|██████████| 48/48 [00:19<00:00,  2.45it/s]\n",
      "Val: N@1 0.313, N@5 0.488, N@10 0.526, R@1 0.313, R@5 0.642, R@10 0.757: 100%|██████████| 48/48 [00:07<00:00,  6.81it/s]\n",
      "Epoch 22, loss 5.589 : 100%|██████████| 48/48 [00:19<00:00,  2.45it/s]\n",
      "Val: N@1 0.333, N@5 0.508, N@10 0.544, R@1 0.333, R@5 0.660, R@10 0.773: 100%|██████████| 48/48 [00:07<00:00,  6.76it/s]\n"
     ]
    },
    {
     "name": "stdout",
     "output_type": "stream",
     "text": [
      "Update Best NDCG@10 Model at 22\n"
     ]
    },
    {
     "name": "stderr",
     "output_type": "stream",
     "text": [
      "Epoch 23, loss 5.546 : 100%|██████████| 48/48 [00:19<00:00,  2.44it/s]\n",
      "Val: N@1 0.328, N@5 0.507, N@10 0.542, R@1 0.328, R@5 0.661, R@10 0.769: 100%|██████████| 48/48 [00:07<00:00,  6.78it/s]\n",
      "Epoch 24, loss 5.514 : 100%|██████████| 48/48 [00:19<00:00,  2.44it/s]\n",
      "Val: N@1 0.336, N@5 0.512, N@10 0.547, R@1 0.336, R@5 0.663, R@10 0.771: 100%|██████████| 48/48 [00:07<00:00,  6.78it/s]\n"
     ]
    },
    {
     "name": "stdout",
     "output_type": "stream",
     "text": [
      "Update Best NDCG@10 Model at 24\n"
     ]
    },
    {
     "name": "stderr",
     "output_type": "stream",
     "text": [
      "Epoch 25, loss 5.498 : 100%|██████████| 48/48 [00:19<00:00,  2.44it/s]\n",
      "Val: N@1 0.336, N@5 0.514, N@10 0.550, R@1 0.336, R@5 0.668, R@10 0.778: 100%|██████████| 48/48 [00:07<00:00,  6.77it/s]\n"
     ]
    },
    {
     "name": "stdout",
     "output_type": "stream",
     "text": [
      "Update Best NDCG@10 Model at 25\n"
     ]
    },
    {
     "name": "stderr",
     "output_type": "stream",
     "text": [
      "Epoch 26, loss 5.477 : 100%|██████████| 48/48 [00:19<00:00,  2.44it/s]\n",
      "Val: N@1 0.338, N@5 0.509, N@10 0.547, R@1 0.338, R@5 0.661, R@10 0.776: 100%|██████████| 48/48 [00:07<00:00,  6.79it/s]\n",
      "Epoch 27, loss 5.446 : 100%|██████████| 48/48 [00:19<00:00,  2.44it/s]\n",
      "Val: N@1 0.343, N@5 0.522, N@10 0.555, R@1 0.343, R@5 0.676, R@10 0.780: 100%|██████████| 48/48 [00:07<00:00,  6.77it/s]\n"
     ]
    },
    {
     "name": "stdout",
     "output_type": "stream",
     "text": [
      "Update Best NDCG@10 Model at 27\n"
     ]
    },
    {
     "name": "stderr",
     "output_type": "stream",
     "text": [
      "Epoch 28, loss 5.412 : 100%|██████████| 48/48 [00:19<00:00,  2.44it/s]\n",
      "Val: N@1 0.354, N@5 0.524, N@10 0.560, R@1 0.354, R@5 0.673, R@10 0.782: 100%|██████████| 48/48 [00:07<00:00,  6.77it/s]\n"
     ]
    },
    {
     "name": "stdout",
     "output_type": "stream",
     "text": [
      "Update Best NDCG@10 Model at 28\n"
     ]
    },
    {
     "name": "stderr",
     "output_type": "stream",
     "text": [
      "Epoch 29, loss 5.393 : 100%|██████████| 48/48 [00:19<00:00,  2.44it/s]\n",
      "Val: N@1 0.355, N@5 0.530, N@10 0.564, R@1 0.355, R@5 0.682, R@10 0.786: 100%|██████████| 48/48 [00:07<00:00,  6.76it/s]\n"
     ]
    },
    {
     "name": "stdout",
     "output_type": "stream",
     "text": [
      "Update Best NDCG@10 Model at 29\n"
     ]
    },
    {
     "name": "stderr",
     "output_type": "stream",
     "text": [
      "Epoch 30, loss 5.370 : 100%|██████████| 48/48 [00:19<00:00,  2.43it/s]\n",
      "Val: N@1 0.362, N@5 0.532, N@10 0.565, R@1 0.362, R@5 0.680, R@10 0.782: 100%|██████████| 48/48 [00:07<00:00,  6.75it/s]\n"
     ]
    },
    {
     "name": "stdout",
     "output_type": "stream",
     "text": [
      "Update Best NDCG@10 Model at 30\n"
     ]
    },
    {
     "name": "stderr",
     "output_type": "stream",
     "text": [
      "Epoch 31, loss 5.355 : 100%|██████████| 48/48 [00:19<00:00,  2.43it/s]\n",
      "Val: N@1 0.350, N@5 0.524, N@10 0.558, R@1 0.350, R@5 0.677, R@10 0.782: 100%|██████████| 48/48 [00:07<00:00,  6.77it/s]\n",
      "Epoch 32, loss 5.333 : 100%|██████████| 48/48 [00:19<00:00,  2.44it/s]\n",
      "Val: N@1 0.365, N@5 0.540, N@10 0.573, R@1 0.365, R@5 0.692, R@10 0.795: 100%|██████████| 48/48 [00:07<00:00,  6.78it/s]\n"
     ]
    },
    {
     "name": "stdout",
     "output_type": "stream",
     "text": [
      "Update Best NDCG@10 Model at 32\n"
     ]
    },
    {
     "name": "stderr",
     "output_type": "stream",
     "text": [
      "Epoch 33, loss 5.301 : 100%|██████████| 48/48 [00:19<00:00,  2.45it/s]\n",
      "Val: N@1 0.368, N@5 0.543, N@10 0.576, R@1 0.368, R@5 0.696, R@10 0.799: 100%|██████████| 48/48 [00:07<00:00,  6.80it/s]\n"
     ]
    },
    {
     "name": "stdout",
     "output_type": "stream",
     "text": [
      "Update Best NDCG@10 Model at 33\n"
     ]
    },
    {
     "name": "stderr",
     "output_type": "stream",
     "text": [
      "Epoch 34, loss 5.298 : 100%|██████████| 48/48 [00:19<00:00,  2.45it/s]\n",
      "Val: N@1 0.371, N@5 0.541, N@10 0.576, R@1 0.371, R@5 0.686, R@10 0.795: 100%|██████████| 48/48 [00:07<00:00,  6.78it/s]\n",
      "Epoch 35, loss 5.273 : 100%|██████████| 48/48 [00:19<00:00,  2.45it/s]\n",
      "Val: N@1 0.373, N@5 0.543, N@10 0.578, R@1 0.373, R@5 0.690, R@10 0.798: 100%|██████████| 48/48 [00:07<00:00,  6.81it/s]\n"
     ]
    },
    {
     "name": "stdout",
     "output_type": "stream",
     "text": [
      "Update Best NDCG@10 Model at 35\n"
     ]
    },
    {
     "name": "stderr",
     "output_type": "stream",
     "text": [
      "Epoch 36, loss 5.264 : 100%|██████████| 48/48 [00:19<00:00,  2.45it/s]\n",
      "Val: N@1 0.373, N@5 0.545, N@10 0.579, R@1 0.373, R@5 0.693, R@10 0.795: 100%|██████████| 48/48 [00:07<00:00,  6.78it/s]\n"
     ]
    },
    {
     "name": "stdout",
     "output_type": "stream",
     "text": [
      "Update Best NDCG@10 Model at 36\n"
     ]
    },
    {
     "name": "stderr",
     "output_type": "stream",
     "text": [
      "Epoch 37, loss 5.246 : 100%|██████████| 48/48 [00:19<00:00,  2.45it/s]\n",
      "Val: N@1 0.375, N@5 0.544, N@10 0.579, R@1 0.375, R@5 0.689, R@10 0.796: 100%|██████████| 48/48 [00:07<00:00,  6.79it/s]\n"
     ]
    },
    {
     "name": "stdout",
     "output_type": "stream",
     "text": [
      "Update Best NDCG@10 Model at 37\n"
     ]
    },
    {
     "name": "stderr",
     "output_type": "stream",
     "text": [
      "Epoch 38, loss 5.227 : 100%|██████████| 48/48 [00:19<00:00,  2.45it/s]\n",
      "Val: N@1 0.371, N@5 0.542, N@10 0.577, R@1 0.371, R@5 0.692, R@10 0.797: 100%|██████████| 48/48 [00:07<00:00,  6.79it/s]\n",
      "Epoch 39, loss 5.223 : 100%|██████████| 48/48 [00:19<00:00,  2.44it/s]\n",
      "Val: N@1 0.375, N@5 0.547, N@10 0.582, R@1 0.375, R@5 0.698, R@10 0.803: 100%|██████████| 48/48 [00:07<00:00,  6.77it/s]\n"
     ]
    },
    {
     "name": "stdout",
     "output_type": "stream",
     "text": [
      "Update Best NDCG@10 Model at 39\n"
     ]
    },
    {
     "name": "stderr",
     "output_type": "stream",
     "text": [
      "Epoch 40, loss 5.210 : 100%|██████████| 48/48 [00:19<00:00,  2.44it/s]\n",
      "Val: N@1 0.366, N@5 0.541, N@10 0.575, R@1 0.366, R@5 0.693, R@10 0.798: 100%|██████████| 48/48 [00:07<00:00,  6.78it/s]\n",
      "Epoch 41, loss 5.197 : 100%|██████████| 48/48 [00:19<00:00,  2.44it/s]\n",
      "Val: N@1 0.378, N@5 0.550, N@10 0.585, R@1 0.378, R@5 0.696, R@10 0.804: 100%|██████████| 48/48 [00:07<00:00,  6.77it/s]\n"
     ]
    },
    {
     "name": "stdout",
     "output_type": "stream",
     "text": [
      "Update Best NDCG@10 Model at 41\n"
     ]
    },
    {
     "name": "stderr",
     "output_type": "stream",
     "text": [
      "Epoch 42, loss 5.182 : 100%|██████████| 48/48 [00:19<00:00,  2.44it/s]\n",
      "Val: N@1 0.375, N@5 0.552, N@10 0.585, R@1 0.375, R@5 0.703, R@10 0.805: 100%|██████████| 48/48 [00:07<00:00,  6.78it/s]\n"
     ]
    },
    {
     "name": "stdout",
     "output_type": "stream",
     "text": [
      "Update Best NDCG@10 Model at 42\n"
     ]
    },
    {
     "name": "stderr",
     "output_type": "stream",
     "text": [
      "Epoch 43, loss 5.168 : 100%|██████████| 48/48 [00:19<00:00,  2.45it/s]\n",
      "Val: N@1 0.382, N@5 0.556, N@10 0.590, R@1 0.382, R@5 0.703, R@10 0.809: 100%|██████████| 48/48 [00:07<00:00,  6.77it/s]\n"
     ]
    },
    {
     "name": "stdout",
     "output_type": "stream",
     "text": [
      "Update Best NDCG@10 Model at 43\n"
     ]
    },
    {
     "name": "stderr",
     "output_type": "stream",
     "text": [
      "Epoch 44, loss 5.157 : 100%|██████████| 48/48 [00:19<00:00,  2.46it/s]\n",
      "Val: N@1 0.390, N@5 0.560, N@10 0.593, R@1 0.390, R@5 0.707, R@10 0.809: 100%|██████████| 48/48 [00:06<00:00,  6.94it/s]\n"
     ]
    },
    {
     "name": "stdout",
     "output_type": "stream",
     "text": [
      "Update Best NDCG@10 Model at 44\n"
     ]
    },
    {
     "name": "stderr",
     "output_type": "stream",
     "text": [
      "Epoch 45, loss 5.129 : 100%|██████████| 48/48 [00:18<00:00,  2.53it/s]\n",
      "Val: N@1 0.383, N@5 0.557, N@10 0.589, R@1 0.383, R@5 0.708, R@10 0.807: 100%|██████████| 48/48 [00:06<00:00,  7.05it/s]\n",
      "Epoch 46, loss 5.132 : 100%|██████████| 48/48 [00:18<00:00,  2.55it/s]\n",
      "Val: N@1 0.385, N@5 0.560, N@10 0.594, R@1 0.385, R@5 0.709, R@10 0.816: 100%|██████████| 48/48 [00:06<00:00,  7.03it/s]\n"
     ]
    },
    {
     "name": "stdout",
     "output_type": "stream",
     "text": [
      "Update Best NDCG@10 Model at 46\n"
     ]
    },
    {
     "name": "stderr",
     "output_type": "stream",
     "text": [
      "Epoch 47, loss 5.110 : 100%|██████████| 48/48 [00:19<00:00,  2.49it/s]\n",
      "Val: N@1 0.387, N@5 0.559, N@10 0.592, R@1 0.387, R@5 0.707, R@10 0.808: 100%|██████████| 48/48 [00:07<00:00,  6.73it/s]\n",
      "Epoch 48, loss 5.121 : 100%|██████████| 48/48 [00:19<00:00,  2.50it/s]\n",
      "Val: N@1 0.389, N@5 0.559, N@10 0.591, R@1 0.389, R@5 0.705, R@10 0.806: 100%|██████████| 48/48 [00:07<00:00,  6.70it/s]\n",
      "Epoch 49, loss 5.111 : 100%|██████████| 48/48 [00:19<00:00,  2.47it/s]\n",
      "Val: N@1 0.383, N@5 0.556, N@10 0.591, R@1 0.383, R@5 0.702, R@10 0.809: 100%|██████████| 48/48 [00:07<00:00,  6.67it/s]\n",
      "Epoch 50, loss 5.082 : 100%|██████████| 48/48 [00:19<00:00,  2.44it/s]\n",
      "Val: N@1 0.394, N@5 0.565, N@10 0.598, R@1 0.394, R@5 0.712, R@10 0.814: 100%|██████████| 48/48 [00:07<00:00,  6.54it/s]\n"
     ]
    },
    {
     "name": "stdout",
     "output_type": "stream",
     "text": [
      "Update Best NDCG@10 Model at 50\n"
     ]
    },
    {
     "name": "stderr",
     "output_type": "stream",
     "text": [
      "Epoch 51, loss 5.074 : 100%|██████████| 48/48 [00:19<00:00,  2.50it/s]\n",
      "Val: N@1 0.394, N@5 0.564, N@10 0.597, R@1 0.394, R@5 0.709, R@10 0.810: 100%|██████████| 48/48 [00:06<00:00,  6.91it/s]\n",
      "Epoch 52, loss 5.076 : 100%|██████████| 48/48 [00:19<00:00,  2.50it/s]\n",
      "Val: N@1 0.396, N@5 0.564, N@10 0.596, R@1 0.396, R@5 0.708, R@10 0.809: 100%|██████████| 48/48 [00:06<00:00,  6.91it/s]\n",
      "Epoch 53, loss 5.060 : 100%|██████████| 48/48 [00:19<00:00,  2.50it/s]\n",
      "Val: N@1 0.396, N@5 0.563, N@10 0.598, R@1 0.396, R@5 0.707, R@10 0.813: 100%|██████████| 48/48 [00:06<00:00,  6.88it/s]\n",
      "Epoch 54, loss 5.055 : 100%|██████████| 48/48 [00:19<00:00,  2.48it/s]\n",
      "Val: N@1 0.395, N@5 0.564, N@10 0.596, R@1 0.395, R@5 0.709, R@10 0.809: 100%|██████████| 48/48 [00:06<00:00,  6.90it/s]\n",
      "Epoch 55, loss 5.061 : 100%|██████████| 48/48 [00:19<00:00,  2.48it/s]\n",
      "Val: N@1 0.397, N@5 0.565, N@10 0.598, R@1 0.397, R@5 0.710, R@10 0.810: 100%|██████████| 48/48 [00:06<00:00,  6.88it/s]\n",
      "Epoch 56, loss 5.032 : 100%|██████████| 48/48 [00:19<00:00,  2.47it/s]\n",
      "Val: N@1 0.397, N@5 0.568, N@10 0.601, R@1 0.397, R@5 0.715, R@10 0.818: 100%|██████████| 48/48 [00:07<00:00,  6.84it/s]\n"
     ]
    },
    {
     "name": "stdout",
     "output_type": "stream",
     "text": [
      "Update Best NDCG@10 Model at 56\n"
     ]
    },
    {
     "name": "stderr",
     "output_type": "stream",
     "text": [
      "Epoch 57, loss 5.012 : 100%|██████████| 48/48 [00:19<00:00,  2.47it/s]\n",
      "Val: N@1 0.386, N@5 0.559, N@10 0.592, R@1 0.386, R@5 0.706, R@10 0.810: 100%|██████████| 48/48 [00:07<00:00,  6.70it/s]\n",
      "Epoch 58, loss 5.024 : 100%|██████████| 48/48 [00:19<00:00,  2.45it/s]\n",
      "Val: N@1 0.392, N@5 0.562, N@10 0.595, R@1 0.392, R@5 0.710, R@10 0.810: 100%|██████████| 48/48 [00:07<00:00,  6.81it/s]\n",
      "Epoch 59, loss 5.008 : 100%|██████████| 48/48 [00:19<00:00,  2.46it/s]\n",
      "Val: N@1 0.405, N@5 0.574, N@10 0.606, R@1 0.405, R@5 0.717, R@10 0.814: 100%|██████████| 48/48 [00:07<00:00,  6.82it/s]\n"
     ]
    },
    {
     "name": "stdout",
     "output_type": "stream",
     "text": [
      "Update Best NDCG@10 Model at 59\n"
     ]
    }
   ],
   "source": [
    "model = BERTModel(args)\n",
    "trainer = BERTTrainer(args, model, train_loader, val_loader, test_loader, args.experiment_dir)\n",
    "trainer.train()\n"
   ]
  },
  {
   "cell_type": "code",
   "execution_count": 9,
   "metadata": {},
   "outputs": [
    {
     "data": {
      "image/png": "[encoded data removed]",
      "text/plain": [
       "<Figure size 640x480 with 1 Axes>"
      ]
     },
     "metadata": {},
     "output_type": "display_data"
    }
   ],
   "source": [
    "for i, key in enumerate(trainer.metrics.keys()): \n",
    "    index = list(range(len(trainer.metrics[key])))\n",
    "    vals = trainer.metrics[key]\n",
    "    plt.plot(index, vals, label = key)\n",
    "    \n",
    "plt.legend()\n",
    "plt.show()"
   ]
  },
  {
   "cell_type": "code",
   "execution_count": 10,
   "metadata": {},
   "outputs": [
    {
     "name": "stdout",
     "output_type": "stream",
     "text": [
      "Test best model with test set!\n"
     ]
    },
    {
     "name": "stderr",
     "output_type": "stream",
     "text": [
      "Val: N@1 0.346, N@5 0.509, N@10 0.544, R@1 0.346, R@5 0.653, R@10 0.761: 100%|██████████| 48/48 [00:07<00:00,  6.85it/s]"
     ]
    },
    {
     "name": "stdout",
     "output_type": "stream",
     "text": [
      "{'Recall@10': 0.7605794270833334, 'NDCG@10': 0.544382868334651, 'Recall@5': 0.6526692708333334, 'NDCG@5': 0.5094188464184602, 'Recall@1': 0.34613715298473835, 'NDCG@1': 0.34613715298473835}\n"
     ]
    },
    {
     "name": "stderr",
     "output_type": "stream",
     "text": [
      "\n"
     ]
    }
   ],
   "source": [
    "trainer.test()"
   ]
  }
 ],
 "metadata": {
  "interpreter": {
   "hash": "9dcd1cc6369c1c29c1ea44b58d29db1d72369ce7fafd67d4ddf55217073eaea3"
  },
  "kernelspec": {
   "display_name": "Python 3",
   "language": "python",
   "name": "python3"
  },
  "language_info": {
   "codemirror_mode": {
    "name": "ipython",
    "version": 3
   },
   "file_extension": ".py",
   "mimetype": "text/x-python",
   "name": "python",
   "nbconvert_exporter": "python",
   "pygments_lexer": "ipython3",
   "version": "3.8.0"
  }
 },
 "nbformat": 4,
 "nbformat_minor": 2
}
