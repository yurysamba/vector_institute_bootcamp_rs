{
 "cells": [
  {
   "cell_type": "markdown",
   "metadata": {
    "id": "HDQ3aTwmU6qW"
   },
   "source": [
    "This notebook tries to develop a basic understanding of the workflow of KG-enhanved recommendation using [Pykeen](https://pykeen.readthedocs.io/).\n",
    "In the beginning, we import the necessary packages."
   ]
  },
  {
   "cell_type": "code",
   "execution_count": 1,
   "metadata": {
    "id": "Rdo-iq2xX-Xp"
   },
   "outputs": [],
   "source": [
    "import os, sys, re, pickle, torch\n",
    "import numpy as np\n",
    "from numpy.random import default_rng\n",
    "from pykeen.pipeline import pipeline\n",
    "from pykeen.models import predict\n",
    "import torch\n",
    "import numpy as np\n",
    "import pandas as pd\n",
    "from pykeen.triples import TriplesFactory\n",
    "import pickle\n",
    "from tqdm import tqdm\n",
    "import time\n",
    "import sys, os\n",
    "import pickle"
   ]
  },
  {
   "cell_type": "markdown",
   "metadata": {
    "id": "lSNCo6r5WQ0T"
   },
   "source": [
    "Now, we import the KG and recommendation data which are in separate files. Then, we form the recommendation dataset in the <user, likes, item> format and the \"likes\" relation is assigned to be the relation number \"0\" in our \"user-item\" graph. Thus, we shift the KG relations by one (not to begin from 0)."
   ]
  },
  {
   "cell_type": "code",
   "execution_count": 2,
   "metadata": {
    "id": "ImKti1IMUC01"
   },
   "outputs": [],
   "source": [
    "# remove kg rels with very low frequency\n",
    "def remove_rare(kg):\n",
    "    _ , counts = np.unique(kg[:,1], return_counts=True)\n",
    "    #finding rels that occur less than 100 times\n",
    "    rare_rels = np.where(counts<100)\n",
    "    for rare_rel in rare_rels[0]:\n",
    "        kg = np.delete(kg,np.where(kg[:,1] == (rare_rel + 1)),axis=0)\n",
    "    return kg"
   ]
  },
  {
   "cell_type": "code",
   "execution_count": 3,
   "metadata": {
    "id": "F3D-2OBjV-lI"
   },
   "outputs": [],
   "source": [
    "#%%\n",
    "kg_path = '/ssd003/projects/aieng/public/recsys_datasets/www_data/www_data/Movielens/kg/train.dat'\n",
    "rec_path = '/ssd003/projects/aieng/public/recsys_datasets/www_data/www_data/Movielens/rs/ratings.txt'\n",
    "kg = np.genfromtxt(kg_path, delimiter='\\t', dtype=np.int32)\n",
    "rec = np.genfromtxt(rec_path, delimiter='\\t', dtype=np.int32)\n",
    "rec = rec[:,:3] # remove time col.\n",
    "rec[:,2] = rec[:,2] >= 4 # binary ratings, 0 if [0, 4), 1 if [4, 5] \n",
    "rec = rec[rec[:,2] == 1] # select only positive ratings\n",
    "rec[:,2] = 0 # set redundant col to relationship 0\n",
    "kg[:,1] += 1 # offset\n",
    "kg = remove_rare(kg) #remove rare relations\n",
    "#kg_train, kg_test = split_kg(kg)\n",
    "rec = rec[:, [0,2,1]] # <user, likes, item> format"
   ]
  },
  {
   "cell_type": "markdown",
   "metadata": {
    "id": "a8TuOY9tW_vy"
   },
   "source": [
    "Entity matching is a crucial step in data processing for KG-enhanced recommendation. In this step, we use the entity matchings provided to mach the Freebase html codes to Movielens ids."
   ]
  },
  {
   "cell_type": "code",
   "execution_count": 4,
   "metadata": {
    "id": "rS9qvTptWFG8"
   },
   "outputs": [],
   "source": [
    "\n",
    "TOTAL_FB_IDS = np.max(kg) # total number of default kg pairs (# rel << # entities)\n",
    "# paths for converting data\n",
    "item2kg_path = '/ssd003/projects/aieng/public/recsys_datasets/www_data/www_data/Movielens/rs/i2kg_map.tsv'\n",
    "emap_path = '/ssd003/projects/aieng/public/recsys_datasets/www_data/www_data/Movielens/kg/e_map.dat'\n",
    "# maps movie lense id's to free base html links\n",
    "ml2fb_map = {}\n",
    "with open(item2kg_path) as f:\n",
    "    for line in f:\n",
    "        ml_id = re.search('(.+?)\\t', line)\n",
    "        fb_http = re.search('\\t(.+?)\\n', line)\n",
    "        ml2fb_map.update({int(ml_id.group(1)) : fb_http.group(1)})\n",
    "# maps free base html links to free base id's (final format)\n",
    "id2html_map = {}\n",
    "fb2id_map = {}\n",
    "with open(emap_path) as f:\n",
    "    for kg_id, line in enumerate(f):\n",
    "        fb_http = re.search('\\t(.+?)\\n', line)\n",
    "        fb2id_map.update({fb_http.group(1) : kg_id})\n",
    "        id2html_map.update({kg_id : fb_http.group(1)})\n",
    "# convert movielens id's to freebase id's\n",
    "i = 0\n",
    "while True:\n",
    "    if i == rec.shape[0]:\n",
    "        break\n",
    "    if rec[i,2] in ml2fb_map: \n",
    "        # get correct freebase id from data\n",
    "        fb_http = ml2fb_map[rec[i,2]]\n",
    "        fb_id = fb2id_map[fb_http]\n",
    "        rec[i,2] = fb_id\n",
    "        i += 1\n",
    "    # remove from rec (only use movies that are in kg)\n",
    "    else:\n",
    "        rec = np.delete(rec, i, axis=0)"
   ]
  },
  {
   "cell_type": "markdown",
   "metadata": {
    "id": "QhSK2aB2XXE6"
   },
   "source": [
    "Finally, we match the user ids with our KG entity codes"
   ]
  },
  {
   "cell_type": "code",
   "execution_count": 5,
   "metadata": {
    "id": "xb1kOnHiXWwH"
   },
   "outputs": [],
   "source": [
    "umap_path = '/ssd003/projects/aieng/public/recsys_datasets/www_data/www_data/Movielens/rs/u_map.dat'\n",
    "userid2fbid_map = {}\n",
    "new_ids = 0\n",
    "with open(umap_path) as f:\n",
    "    for line in f:\n",
    "        ml_id = re.search('\\t(.+?)\\n', line)\n",
    "        if int(ml_id.group(1)) in rec[:,0]:\n",
    "            new_ids += 1\n",
    "            userid2fbid_map.update({int(ml_id.group(1)) : TOTAL_FB_IDS + new_ids})\n",
    "# convert movielens user id's into freebase id's\n",
    "for i in range(rec.shape[0]):\n",
    "    rec[i,0] = userid2fbid_map[rec[i,0]]\n",
    "NEW_USER_IDS = new_ids\n"
   ]
  },
  {
   "cell_type": "markdown",
   "metadata": {
    "id": "CwQNRfnaX3KN"
   },
   "source": [
    "Splitting the recommendation and KG data into train, test and validation. Also, we should remove items and users in the test/validation datasets that are not included in the training set (we can't expect the model to predict items/users that it hasn't been trained on. "
   ]
  },
  {
   "cell_type": "code",
   "execution_count": 6,
   "metadata": {
    "id": "tAD7k4RSYSMy"
   },
   "outputs": [],
   "source": [
    "#split data randomly to train, tets, and val sets\n",
    "def split(rec, split_test = 0.2, split_val = 0.2):\n",
    "    np.random.shuffle(rec)\n",
    "    test_start = int((1-(split_test + split_val))*rec.shape[0])\n",
    "    val_start = int((1-(split_val))*rec.shape[0])\n",
    "    rec_train = rec[:test_start]\n",
    "    rec_test = rec[test_start:val_start]\n",
    "    rec_val = rec[val_start:]\n",
    "    return rec_train , rec_test, rec_val"
   ]
  },
  {
   "cell_type": "code",
   "execution_count": 7,
   "metadata": {
    "id": "G7C-b7_BYg3O"
   },
   "outputs": [],
   "source": [
    "# remove items from test and val that aren't in train\n",
    "def remove_new(rec_test, rec_train):\n",
    "    train_items = np.unique(rec_train[:,2])\n",
    "    test_items = np.unique(rec_test[:,2])\n",
    "    invalid_items = [item for item in test_items if item not in train_items]\n",
    "    for invalid_item in invalid_items:\n",
    "      rec_test = np.delete(rec_test, np.where(rec_test[:,2]== invalid_item),axis=0)\n",
    "    train_users = np.unique(rec_train[:,0])\n",
    "    test_users = np.unique(rec_test[:,0])\n",
    "    invalid_users = [user for user in test_users if user not in train_users]\n",
    "    for invalid_user in invalid_users:\n",
    "      rec_test = np.delete(rec_test,np.where(rec_test[:,0]== invalid_user),axis=0)\n",
    "    return rec_test\n"
   ]
  },
  {
   "cell_type": "code",
   "execution_count": 8,
   "metadata": {
    "id": "w2TeGnRIXy6a"
   },
   "outputs": [],
   "source": [
    "rec_train, rec_test, rec_val = split(rec)\n",
    "rec_test = remove_new(rec_test, rec_train)\n",
    "rec_val = remove_new(rec_val, rec_train)\n",
    "\n",
    "kg_train, kg_test, kg_val = split(kg)\n",
    "\n",
    "train = np.concatenate((rec_train, kg_train))\n",
    "test = np.concatenate((rec_test, kg_test))\n",
    "val = np.concatenate((rec_val, kg_val))\n",
    "\n",
    "np.savetxt(\"train.tsv\", train,fmt=\"%1d\", delimiter=\"\\t\")\n",
    "np.savetxt(\"test.tsv\", test,fmt=\"%1d\", delimiter=\"\\t\")\n",
    "np.savetxt(\"val.tsv\", val,fmt=\"%1d\", delimiter=\"\\t\")"
   ]
  },
  {
   "cell_type": "markdown",
   "metadata": {
    "id": "FUvXlun5Y1Ki"
   },
   "source": [
    "In order to have an efficient testing, we make a dictionary with users as the keys and the items they like in each of the train, test, and validation sets as the values and save them. "
   ]
  },
  {
   "cell_type": "code",
   "execution_count": 9,
   "metadata": {
    "id": "uRfdsLlOYqZ1"
   },
   "outputs": [],
   "source": [
    "# user likes for testing recommendation\n",
    "def user_likes(test, train):\n",
    "    tvt = (test, train)\n",
    "\n",
    "    ul = []\n",
    "    for data in tvt:\n",
    "        user_likes = {}\n",
    "        for i in range(data.shape[0]):\n",
    "            if data[i,0] not in user_likes:\n",
    "                user_likes.update({data[i,0]: [data[i,2]]})\n",
    "            else:\n",
    "                if data[i,2] not in user_likes[data[i,0]]:\n",
    "                    user_likes[data[i,0]].append(data[i,2])\n",
    "        ul.append(user_likes)\n",
    "\n",
    "    return (ul[0], ul[1]) \n"
   ]
  },
  {
   "cell_type": "code",
   "execution_count": 10,
   "metadata": {
    "id": "JIf0CL-ZXy0d"
   },
   "outputs": [],
   "source": [
    "ul_train, ul_test = user_likes(rec_train, rec_test)\n",
    "\n",
    "\n",
    "with open('ul_train.pkl', 'wb') as f:\n",
    "    pickle.dump(ul_train,f)\n",
    "with open('ul_test.pkl', 'wb') as f:\n",
    "    pickle.dump(ul_test,f)"
   ]
  },
  {
   "cell_type": "code",
   "execution_count": 11,
   "metadata": {
    "id": "GYmGIR-cXysp"
   },
   "outputs": [],
   "source": [
    "with open('ul_train.pkl','rb') as f:\n",
    "    ul_train = pickle.load(f)\n",
    "with open('ul_test.pkl','rb') as f:\n",
    "    ul_test = pickle.load(f)"
   ]
  },
  {
   "cell_type": "markdown",
   "metadata": {
    "id": "CAESzLXYZXO4"
   },
   "source": [
    "Training and Testing using Pykeen library. Once your datasets are ready, Pykeen makes training KG models easy (the following lines). However, since the Pykeen tests all triplest (from all relations), but we are only interested on evaluating the recommendation performance of the system (only the \"likes\" relation), we implement our own testing."
   ]
  },
  {
   "cell_type": "code",
   "execution_count": 12,
   "metadata": {
    "id": "3QnHehn7WFD5"
   },
   "outputs": [],
   "source": [
    "def train_func(config):\n",
    "\n",
    "    hit1s_all=[]\n",
    "    hit3s_all=[]\n",
    "    hit10s_all=[]\n",
    "    checkpoint_freq = 1\n",
    "    # in order to train a KG embedding model with Pykeen, you just need to make a \"pipeline\" like this.\n",
    "    #You specify the hyperparameters, datasets, optimizer, embedding model, and the rest is done by Pykeen\n",
    "    result = pipeline(\n",
    "            training='train.tsv',\n",
    "            testing='test.tsv',\n",
    "            #validation='/home/admin/Desktop/Empirical/val.tsv',\n",
    "            model='TransE',\n",
    "            model_kwargs=dict(embedding_dim=config[\"embedding_dim\"]),\n",
    "            optimizer='Adam',\n",
    "            optimizer_kwargs=dict(lr=config[\"lr\"]),\n",
    "            training_kwargs=dict(num_epochs=config[\"epoch\"], batch_size=config[\"batch_size\"],\n",
    "            checkpoint_name='my_checkpoint.pt',\n",
    "            checkpoint_frequency=checkpoint_freq),\n",
    "            regularizer_kwargs=dict(weight=config[\"reg_lambda\"]),\n",
    "            negative_sampler_kwargs=dict(num_negs_per_pos=config[\"neg_ratio\"]),\n",
    "                #num_negs_per_pos=dict(type=int, low=10, high=100, step=10, log=True),\n",
    "            )\n",
    "\n",
    "    result.save_to_directory('transe2')\n",
    "    #testing performance of the trained model\n",
    "    ranks=[]\n",
    "    all_items = np.unique(rec_train[:,2])\n",
    "\n",
    "    for user in tqdm(list(ul_test.keys())[0:1000]):\n",
    "      # This is how you can ask Pykeen to make predictions of the head of relation \"0\" for this specific user\n",
    "      # the output is the unsorted scores for entities\n",
    "        predicted_tails_df = predict.get_tail_prediction_df(\n",
    "            result.model, str(user), '0', triples_factory=result.training)\n",
    "      # we sort tails based on their scores and only keep \"items\" (the ones we want to recommend to user)\n",
    "        tails_sorted = predicted_tails_df['tail_id']\n",
    "        items_sorted = np.array(tails_sorted[tails_sorted.isin(all_items)])\n",
    "\n",
    "      # we require to know what are all items that the user likes for filtering correct ones when testing each ground truth\n",
    "        liked_items_all = ul_train[user]\n",
    "        try:\n",
    "            liked_items_all += ul_test[user]\n",
    "        except:\n",
    "            pass\n",
    "        \n",
    "        try:\n",
    "            liked_items_all += ul_val[user]\n",
    "        except:\n",
    "            pass\n",
    "        whole_liked_items = np.array(liked_items_all)\n",
    "        whole_ranks = [(np.where(items_sorted==item))[0][0] for item in whole_liked_items]\n",
    "        # filter other correct items and calculate the ranks\n",
    "        for gt in ul_test[user]:\n",
    "            whole_index = np.where(whole_liked_items==gt)[0][0]\n",
    "            unfiltered_rank = whole_ranks[whole_index]\n",
    "            higher_others = np.where(whole_ranks<unfiltered_rank)[0].shape[0]\n",
    "            filtered_rank = unfiltered_rank-higher_others\n",
    "            ranks.append(filtered_rank)\n",
    "\n",
    "    #calculating the metrics\n",
    "    ranksarray=np.array(ranks)\n",
    "    hits1=((ranksarray<2).sum())/len(ranks)\n",
    "    hit1s_all.append(hits1)\n",
    "    hits3=((ranksarray<4).sum())/len(ranks)\n",
    "    hit3s_all.append(hits3)\n",
    "    hits10=((ranksarray<11).sum())/len(ranks)\n",
    "    hit10s_all.append(hits10)\n",
    "    print(\"hit1s:\",hit1s_all)\n",
    "    print(\"hit3s:\",hit3s_all)\n",
    "    print(\"hit10s:\",hit10s_all)\n",
    "\n"
   ]
  },
  {
   "cell_type": "markdown",
   "metadata": {
    "id": "WHfuAvVqZ9ZG"
   },
   "source": [
    "Passing in hyperparameters, training, and testing"
   ]
  },
  {
   "cell_type": "code",
   "execution_count": 14,
   "metadata": {
    "id": "h37pS31bWBlE"
   },
   "outputs": [
    {
     "name": "stderr",
     "output_type": "stream",
     "text": [
      "INFO:pykeen.pipeline.api:=> no training loop checkpoint file found at '/h/jewtay/.data/pykeen/checkpoints/my_checkpoint.pt'. Creating a new file.\n",
      "WARNING:pykeen.pipeline.api:No random seed is specified. Setting to 640825188.\n",
      "INFO:pykeen.pipeline.api:Using device: None\n",
      "WARNING:pykeen.triples.triples_factory:You're trying to map triples with 48 entities and 0 relations that are not in the training set. These triples will be excluded from the mapping.\n",
      "WARNING:pykeen.triples.triples_factory:In total 48 from 1089063 triples were filtered out\n",
      "INFO:pykeen.training.training_loop:=> no checkpoint found at '/h/jewtay/.data/pykeen/checkpoints/my_checkpoint.pt'. Creating a new file.\n"
     ]
    },
    {
     "data": {
      "application/json": {
       "ascii": false,
       "bar_format": null,
       "colour": null,
       "elapsed": 0.028178930282592773,
       "initial": 0,
       "n": 0,
       "ncols": null,
       "nrows": null,
       "postfix": null,
       "prefix": "Training epochs on cuda:0",
       "rate": null,
       "total": 20,
       "unit": "epoch",
       "unit_divisor": 1000,
       "unit_scale": false
      },
      "application/vnd.jupyter.widget-view+json": {
       "model_id": "9c5d745e9bf642b6b6e133fe33bb5d84",
       "version_major": 2,
       "version_minor": 0
      },
      "text/plain": [
       "Training epochs on cuda:0:   0%|          | 0/20 [00:00<?, ?epoch/s]"
      ]
     },
     "metadata": {},
     "output_type": "display_data"
    },
    {
     "data": {
      "application/json": {
       "ascii": false,
       "bar_format": null,
       "colour": null,
       "elapsed": 0.02147531509399414,
       "initial": 0,
       "n": 0,
       "ncols": null,
       "nrows": null,
       "postfix": null,
       "prefix": "Training batches on cuda:0",
       "rate": null,
       "total": 12772,
       "unit": "batch",
       "unit_divisor": 1000,
       "unit_scale": false
      },
      "application/vnd.jupyter.widget-view+json": {
       "model_id": "fb5a403da31644c2b0a32e87e8498b37",
       "version_major": 2,
       "version_minor": 0
      },
      "text/plain": [
       "Training batches on cuda:0:   0%|          | 0/12772 [00:00<?, ?batch/s]"
      ]
     },
     "metadata": {},
     "output_type": "display_data"
    },
    {
     "name": "stderr",
     "output_type": "stream",
     "text": [
      "INFO:pykeen.training.training_loop:=> Saved checkpoint after having finished epoch 1.\n"
     ]
    },
    {
     "data": {
      "application/json": {
       "ascii": false,
       "bar_format": null,
       "colour": null,
       "elapsed": 0.027362346649169922,
       "initial": 0,
       "n": 0,
       "ncols": null,
       "nrows": null,
       "postfix": null,
       "prefix": "Training batches on cuda:0",
       "rate": null,
       "total": 12772,
       "unit": "batch",
       "unit_divisor": 1000,
       "unit_scale": false
      },
      "application/vnd.jupyter.widget-view+json": {
       "model_id": "b1111c95ba77439182f7249dca5ff434",
       "version_major": 2,
       "version_minor": 0
      },
      "text/plain": [
       "Training batches on cuda:0:   0%|          | 0/12772 [00:00<?, ?batch/s]"
      ]
     },
     "metadata": {},
     "output_type": "display_data"
    },
    {
     "name": "stderr",
     "output_type": "stream",
     "text": [
      "INFO:pykeen.training.training_loop:=> Saved checkpoint after having finished epoch 2.\n"
     ]
    },
    {
     "data": {
      "application/json": {
       "ascii": false,
       "bar_format": null,
       "colour": null,
       "elapsed": 0.028306007385253906,
       "initial": 0,
       "n": 0,
       "ncols": null,
       "nrows": null,
       "postfix": null,
       "prefix": "Training batches on cuda:0",
       "rate": null,
       "total": 12772,
       "unit": "batch",
       "unit_divisor": 1000,
       "unit_scale": false
      },
      "application/vnd.jupyter.widget-view+json": {
       "model_id": "2692506c76d242d6b7963460d2c785f8",
       "version_major": 2,
       "version_minor": 0
      },
      "text/plain": [
       "Training batches on cuda:0:   0%|          | 0/12772 [00:00<?, ?batch/s]"
      ]
     },
     "metadata": {},
     "output_type": "display_data"
    },
    {
     "name": "stderr",
     "output_type": "stream",
     "text": [
      "INFO:pykeen.training.training_loop:=> Saved checkpoint after having finished epoch 3.\n"
     ]
    },
    {
     "data": {
      "application/json": {
       "ascii": false,
       "bar_format": null,
       "colour": null,
       "elapsed": 0.02857828140258789,
       "initial": 0,
       "n": 0,
       "ncols": null,
       "nrows": null,
       "postfix": null,
       "prefix": "Training batches on cuda:0",
       "rate": null,
       "total": 12772,
       "unit": "batch",
       "unit_divisor": 1000,
       "unit_scale": false
      },
      "application/vnd.jupyter.widget-view+json": {
       "model_id": "758d4c02b48548c0ad5a46611b38f0c8",
       "version_major": 2,
       "version_minor": 0
      },
      "text/plain": [
       "Training batches on cuda:0:   0%|          | 0/12772 [00:00<?, ?batch/s]"
      ]
     },
     "metadata": {},
     "output_type": "display_data"
    },
    {
     "name": "stderr",
     "output_type": "stream",
     "text": [
      "INFO:pykeen.training.training_loop:=> Saved checkpoint after having finished epoch 4.\n"
     ]
    },
    {
     "data": {
      "application/json": {
       "ascii": false,
       "bar_format": null,
       "colour": null,
       "elapsed": 0.028501510620117188,
       "initial": 0,
       "n": 0,
       "ncols": null,
       "nrows": null,
       "postfix": null,
       "prefix": "Training batches on cuda:0",
       "rate": null,
       "total": 12772,
       "unit": "batch",
       "unit_divisor": 1000,
       "unit_scale": false
      },
      "application/vnd.jupyter.widget-view+json": {
       "model_id": "8c986413caea47b4bad674d29fb74aa6",
       "version_major": 2,
       "version_minor": 0
      },
      "text/plain": [
       "Training batches on cuda:0:   0%|          | 0/12772 [00:00<?, ?batch/s]"
      ]
     },
     "metadata": {},
     "output_type": "display_data"
    },
    {
     "name": "stderr",
     "output_type": "stream",
     "text": [
      "INFO:pykeen.training.training_loop:=> Saved checkpoint after having finished epoch 5.\n"
     ]
    },
    {
     "data": {
      "application/json": {
       "ascii": false,
       "bar_format": null,
       "colour": null,
       "elapsed": 0.02742290496826172,
       "initial": 0,
       "n": 0,
       "ncols": null,
       "nrows": null,
       "postfix": null,
       "prefix": "Training batches on cuda:0",
       "rate": null,
       "total": 12772,
       "unit": "batch",
       "unit_divisor": 1000,
       "unit_scale": false
      },
      "application/vnd.jupyter.widget-view+json": {
       "model_id": "044232f68d3c4d85b8a363731a4ef2fb",
       "version_major": 2,
       "version_minor": 0
      },
      "text/plain": [
       "Training batches on cuda:0:   0%|          | 0/12772 [00:00<?, ?batch/s]"
      ]
     },
     "metadata": {},
     "output_type": "display_data"
    },
    {
     "name": "stderr",
     "output_type": "stream",
     "text": [
      "INFO:pykeen.training.training_loop:=> Saved checkpoint after having finished epoch 6.\n"
     ]
    },
    {
     "data": {
      "application/json": {
       "ascii": false,
       "bar_format": null,
       "colour": null,
       "elapsed": 0.0284726619720459,
       "initial": 0,
       "n": 0,
       "ncols": null,
       "nrows": null,
       "postfix": null,
       "prefix": "Training batches on cuda:0",
       "rate": null,
       "total": 12772,
       "unit": "batch",
       "unit_divisor": 1000,
       "unit_scale": false
      },
      "application/vnd.jupyter.widget-view+json": {
       "model_id": "5e6241747ed94663a201d55391e44f22",
       "version_major": 2,
       "version_minor": 0
      },
      "text/plain": [
       "Training batches on cuda:0:   0%|          | 0/12772 [00:00<?, ?batch/s]"
      ]
     },
     "metadata": {},
     "output_type": "display_data"
    },
    {
     "name": "stderr",
     "output_type": "stream",
     "text": [
      "INFO:pykeen.training.training_loop:=> Saved checkpoint after having finished epoch 7.\n"
     ]
    },
    {
     "data": {
      "application/json": {
       "ascii": false,
       "bar_format": null,
       "colour": null,
       "elapsed": 0.028919696807861328,
       "initial": 0,
       "n": 0,
       "ncols": null,
       "nrows": null,
       "postfix": null,
       "prefix": "Training batches on cuda:0",
       "rate": null,
       "total": 12772,
       "unit": "batch",
       "unit_divisor": 1000,
       "unit_scale": false
      },
      "application/vnd.jupyter.widget-view+json": {
       "model_id": "53abaa5d2a4f47ed9eea3d8480b2b86d",
       "version_major": 2,
       "version_minor": 0
      },
      "text/plain": [
       "Training batches on cuda:0:   0%|          | 0/12772 [00:00<?, ?batch/s]"
      ]
     },
     "metadata": {},
     "output_type": "display_data"
    },
    {
     "name": "stderr",
     "output_type": "stream",
     "text": [
      "INFO:pykeen.training.training_loop:=> Saved checkpoint after having finished epoch 8.\n"
     ]
    },
    {
     "data": {
      "application/json": {
       "ascii": false,
       "bar_format": null,
       "colour": null,
       "elapsed": 0.027690410614013672,
       "initial": 0,
       "n": 0,
       "ncols": null,
       "nrows": null,
       "postfix": null,
       "prefix": "Training batches on cuda:0",
       "rate": null,
       "total": 12772,
       "unit": "batch",
       "unit_divisor": 1000,
       "unit_scale": false
      },
      "application/vnd.jupyter.widget-view+json": {
       "model_id": "738fa9191b804f0c8b47507d029ccd5f",
       "version_major": 2,
       "version_minor": 0
      },
      "text/plain": [
       "Training batches on cuda:0:   0%|          | 0/12772 [00:00<?, ?batch/s]"
      ]
     },
     "metadata": {},
     "output_type": "display_data"
    },
    {
     "name": "stderr",
     "output_type": "stream",
     "text": [
      "INFO:pykeen.training.training_loop:=> Saved checkpoint after having finished epoch 9.\n"
     ]
    },
    {
     "data": {
      "application/json": {
       "ascii": false,
       "bar_format": null,
       "colour": null,
       "elapsed": 0.027341604232788086,
       "initial": 0,
       "n": 0,
       "ncols": null,
       "nrows": null,
       "postfix": null,
       "prefix": "Training batches on cuda:0",
       "rate": null,
       "total": 12772,
       "unit": "batch",
       "unit_divisor": 1000,
       "unit_scale": false
      },
      "application/vnd.jupyter.widget-view+json": {
       "model_id": "f7e3fa66faca4e6e84f9d24c088bd60e",
       "version_major": 2,
       "version_minor": 0
      },
      "text/plain": [
       "Training batches on cuda:0:   0%|          | 0/12772 [00:00<?, ?batch/s]"
      ]
     },
     "metadata": {},
     "output_type": "display_data"
    },
    {
     "name": "stderr",
     "output_type": "stream",
     "text": [
      "INFO:pykeen.training.training_loop:=> Saved checkpoint after having finished epoch 10.\n"
     ]
    },
    {
     "data": {
      "application/json": {
       "ascii": false,
       "bar_format": null,
       "colour": null,
       "elapsed": 0.02704787254333496,
       "initial": 0,
       "n": 0,
       "ncols": null,
       "nrows": null,
       "postfix": null,
       "prefix": "Training batches on cuda:0",
       "rate": null,
       "total": 12772,
       "unit": "batch",
       "unit_divisor": 1000,
       "unit_scale": false
      },
      "application/vnd.jupyter.widget-view+json": {
       "model_id": "a59e1716b07a49a59e6b529ad8eabb7b",
       "version_major": 2,
       "version_minor": 0
      },
      "text/plain": [
       "Training batches on cuda:0:   0%|          | 0/12772 [00:00<?, ?batch/s]"
      ]
     },
     "metadata": {},
     "output_type": "display_data"
    },
    {
     "name": "stderr",
     "output_type": "stream",
     "text": [
      "INFO:pykeen.training.training_loop:=> Saved checkpoint after having finished epoch 11.\n"
     ]
    },
    {
     "data": {
      "application/json": {
       "ascii": false,
       "bar_format": null,
       "colour": null,
       "elapsed": 0.027378559112548828,
       "initial": 0,
       "n": 0,
       "ncols": null,
       "nrows": null,
       "postfix": null,
       "prefix": "Training batches on cuda:0",
       "rate": null,
       "total": 12772,
       "unit": "batch",
       "unit_divisor": 1000,
       "unit_scale": false
      },
      "application/vnd.jupyter.widget-view+json": {
       "model_id": "d4ddc3bea12b4b999ac2861d65cd147a",
       "version_major": 2,
       "version_minor": 0
      },
      "text/plain": [
       "Training batches on cuda:0:   0%|          | 0/12772 [00:00<?, ?batch/s]"
      ]
     },
     "metadata": {},
     "output_type": "display_data"
    },
    {
     "name": "stderr",
     "output_type": "stream",
     "text": [
      "INFO:pykeen.training.training_loop:=> Saved checkpoint after having finished epoch 12.\n"
     ]
    },
    {
     "data": {
      "application/json": {
       "ascii": false,
       "bar_format": null,
       "colour": null,
       "elapsed": 0.02617955207824707,
       "initial": 0,
       "n": 0,
       "ncols": null,
       "nrows": null,
       "postfix": null,
       "prefix": "Training batches on cuda:0",
       "rate": null,
       "total": 12772,
       "unit": "batch",
       "unit_divisor": 1000,
       "unit_scale": false
      },
      "application/vnd.jupyter.widget-view+json": {
       "model_id": "b61c815de6064579a9faac23a1b01bea",
       "version_major": 2,
       "version_minor": 0
      },
      "text/plain": [
       "Training batches on cuda:0:   0%|          | 0/12772 [00:00<?, ?batch/s]"
      ]
     },
     "metadata": {},
     "output_type": "display_data"
    },
    {
     "name": "stderr",
     "output_type": "stream",
     "text": [
      "INFO:pykeen.training.training_loop:=> Saved checkpoint after having finished epoch 13.\n"
     ]
    },
    {
     "data": {
      "application/json": {
       "ascii": false,
       "bar_format": null,
       "colour": null,
       "elapsed": 0.02839946746826172,
       "initial": 0,
       "n": 0,
       "ncols": null,
       "nrows": null,
       "postfix": null,
       "prefix": "Training batches on cuda:0",
       "rate": null,
       "total": 12772,
       "unit": "batch",
       "unit_divisor": 1000,
       "unit_scale": false
      },
      "application/vnd.jupyter.widget-view+json": {
       "model_id": "f6af3c0149b042e391e229e5540b2aa8",
       "version_major": 2,
       "version_minor": 0
      },
      "text/plain": [
       "Training batches on cuda:0:   0%|          | 0/12772 [00:00<?, ?batch/s]"
      ]
     },
     "metadata": {},
     "output_type": "display_data"
    },
    {
     "name": "stderr",
     "output_type": "stream",
     "text": [
      "INFO:pykeen.training.training_loop:=> Saved checkpoint after having finished epoch 14.\n"
     ]
    },
    {
     "data": {
      "application/json": {
       "ascii": false,
       "bar_format": null,
       "colour": null,
       "elapsed": 0.028063058853149414,
       "initial": 0,
       "n": 0,
       "ncols": null,
       "nrows": null,
       "postfix": null,
       "prefix": "Training batches on cuda:0",
       "rate": null,
       "total": 12772,
       "unit": "batch",
       "unit_divisor": 1000,
       "unit_scale": false
      },
      "application/vnd.jupyter.widget-view+json": {
       "model_id": "767de633cb204a8998fa521611002453",
       "version_major": 2,
       "version_minor": 0
      },
      "text/plain": [
       "Training batches on cuda:0:   0%|          | 0/12772 [00:00<?, ?batch/s]"
      ]
     },
     "metadata": {},
     "output_type": "display_data"
    },
    {
     "name": "stderr",
     "output_type": "stream",
     "text": [
      "INFO:pykeen.training.training_loop:=> Saved checkpoint after having finished epoch 15.\n"
     ]
    },
    {
     "data": {
      "application/json": {
       "ascii": false,
       "bar_format": null,
       "colour": null,
       "elapsed": 0.026471853256225586,
       "initial": 0,
       "n": 0,
       "ncols": null,
       "nrows": null,
       "postfix": null,
       "prefix": "Training batches on cuda:0",
       "rate": null,
       "total": 12772,
       "unit": "batch",
       "unit_divisor": 1000,
       "unit_scale": false
      },
      "application/vnd.jupyter.widget-view+json": {
       "model_id": "d59dd4edad554f09b58b962a55b57f54",
       "version_major": 2,
       "version_minor": 0
      },
      "text/plain": [
       "Training batches on cuda:0:   0%|          | 0/12772 [00:00<?, ?batch/s]"
      ]
     },
     "metadata": {},
     "output_type": "display_data"
    },
    {
     "name": "stderr",
     "output_type": "stream",
     "text": [
      "INFO:pykeen.training.training_loop:=> Saved checkpoint after having finished epoch 16.\n"
     ]
    },
    {
     "data": {
      "application/json": {
       "ascii": false,
       "bar_format": null,
       "colour": null,
       "elapsed": 0.02668929100036621,
       "initial": 0,
       "n": 0,
       "ncols": null,
       "nrows": null,
       "postfix": null,
       "prefix": "Training batches on cuda:0",
       "rate": null,
       "total": 12772,
       "unit": "batch",
       "unit_divisor": 1000,
       "unit_scale": false
      },
      "application/vnd.jupyter.widget-view+json": {
       "model_id": "d60ed890ba784153af21e2bbe56ceac6",
       "version_major": 2,
       "version_minor": 0
      },
      "text/plain": [
       "Training batches on cuda:0:   0%|          | 0/12772 [00:00<?, ?batch/s]"
      ]
     },
     "metadata": {},
     "output_type": "display_data"
    },
    {
     "name": "stderr",
     "output_type": "stream",
     "text": [
      "INFO:pykeen.training.training_loop:=> Saved checkpoint after having finished epoch 17.\n"
     ]
    },
    {
     "data": {
      "application/json": {
       "ascii": false,
       "bar_format": null,
       "colour": null,
       "elapsed": 0.027872323989868164,
       "initial": 0,
       "n": 0,
       "ncols": null,
       "nrows": null,
       "postfix": null,
       "prefix": "Training batches on cuda:0",
       "rate": null,
       "total": 12772,
       "unit": "batch",
       "unit_divisor": 1000,
       "unit_scale": false
      },
      "application/vnd.jupyter.widget-view+json": {
       "model_id": "8c7d714519644da5b5381204b08d3709",
       "version_major": 2,
       "version_minor": 0
      },
      "text/plain": [
       "Training batches on cuda:0:   0%|          | 0/12772 [00:00<?, ?batch/s]"
      ]
     },
     "metadata": {},
     "output_type": "display_data"
    },
    {
     "name": "stderr",
     "output_type": "stream",
     "text": [
      "INFO:pykeen.training.training_loop:=> Saved checkpoint after having finished epoch 18.\n"
     ]
    },
    {
     "data": {
      "application/json": {
       "ascii": false,
       "bar_format": null,
       "colour": null,
       "elapsed": 0.0263364315032959,
       "initial": 0,
       "n": 0,
       "ncols": null,
       "nrows": null,
       "postfix": null,
       "prefix": "Training batches on cuda:0",
       "rate": null,
       "total": 12772,
       "unit": "batch",
       "unit_divisor": 1000,
       "unit_scale": false
      },
      "application/vnd.jupyter.widget-view+json": {
       "model_id": "53b27204594548bcb00741f88eee0bf3",
       "version_major": 2,
       "version_minor": 0
      },
      "text/plain": [
       "Training batches on cuda:0:   0%|          | 0/12772 [00:00<?, ?batch/s]"
      ]
     },
     "metadata": {},
     "output_type": "display_data"
    },
    {
     "name": "stderr",
     "output_type": "stream",
     "text": [
      "INFO:pykeen.training.training_loop:=> Saved checkpoint after having finished epoch 19.\n"
     ]
    },
    {
     "data": {
      "application/json": {
       "ascii": false,
       "bar_format": null,
       "colour": null,
       "elapsed": 0.028349637985229492,
       "initial": 0,
       "n": 0,
       "ncols": null,
       "nrows": null,
       "postfix": null,
       "prefix": "Training batches on cuda:0",
       "rate": null,
       "total": 12772,
       "unit": "batch",
       "unit_divisor": 1000,
       "unit_scale": false
      },
      "application/vnd.jupyter.widget-view+json": {
       "model_id": "9cad5628a568422c9bed33a339eb9503",
       "version_major": 2,
       "version_minor": 0
      },
      "text/plain": [
       "Training batches on cuda:0:   0%|          | 0/12772 [00:00<?, ?batch/s]"
      ]
     },
     "metadata": {},
     "output_type": "display_data"
    },
    {
     "name": "stderr",
     "output_type": "stream",
     "text": [
      "INFO:pykeen.training.training_loop:=> Saved checkpoint after having finished epoch 20.\n",
      "INFO:pykeen.evaluation.evaluator:Starting batch_size search for evaluation now...\n",
      "INFO:pykeen.evaluation.evaluator:Concluded batch_size search with batch_size=128.\n"
     ]
    },
    {
     "data": {
      "application/json": {
       "ascii": false,
       "bar_format": null,
       "colour": null,
       "elapsed": 0.022102832794189453,
       "initial": 0,
       "n": 0,
       "ncols": null,
       "nrows": null,
       "postfix": null,
       "prefix": "Evaluating on cuda:0",
       "rate": null,
       "total": 1089015,
       "unit": "triple",
       "unit_divisor": 1000,
       "unit_scale": true
      },
      "application/vnd.jupyter.widget-view+json": {
       "model_id": "1b7630acf314407a93401004307a8d4f",
       "version_major": 2,
       "version_minor": 0
      },
      "text/plain": [
       "Evaluating on cuda:0:   0%|          | 0.00/1.09M [00:00<?, ?triple/s]"
      ]
     },
     "metadata": {},
     "output_type": "display_data"
    },
    {
     "name": "stderr",
     "output_type": "stream",
     "text": [
      "INFO:pykeen.evaluation.evaluator:Evaluation took 3523.42s seconds\n",
      "INFO:pykeen.triples.triples_factory:Stored TriplesFactory(num_entities=118313, num_relations=43, num_triples=3269520, inverse_triples=False, path=\"/scratch/ssd002/home/jewtay/recommender_systems_project/knowledge_graph_recsys/train.tsv\") to file:///scratch/ssd002/home/jewtay/recommender_systems_project/knowledge_graph_recsys/transe2/training_triples\n",
      "INFO:pykeen.pipeline.api:Saved to directory: file:///scratch/ssd002/home/jewtay/recommender_systems_project/knowledge_graph_recsys/transe2\n",
      "100%|██████████| 1000/1000 [03:55<00:00,  4.24it/s]"
     ]
    },
    {
     "name": "stdout",
     "output_type": "stream",
     "text": [
      "hit1s: [9.998000399920016e-05]\n",
      "hit3s: [0.00017496500699860028]\n",
      "hit10s: [0.0004999000199960008]\n"
     ]
    },
    {
     "name": "stderr",
     "output_type": "stream",
     "text": [
      "\n"
     ]
    }
   ],
   "source": [
    "config={\n",
    "    \"embedding_dim\" : 64,\n",
    "    \"lr\": 0.0291,\n",
    "    \"batch_size\" : 256,\n",
    "    \"reg_lambda\" : 0.2,\n",
    "    \"neg_ratio\" : 10,\n",
    "    \"epoch\":20\n",
    "    }\n",
    "train_func(config)"
   ]
  },
  {
   "cell_type": "code",
   "execution_count": null,
   "metadata": {
    "id": "a_P7RJPKWBbH"
   },
   "outputs": [],
   "source": []
  },
  {
   "cell_type": "code",
   "execution_count": null,
   "metadata": {
    "id": "hPDbhJrVV-iL"
   },
   "outputs": [],
   "source": []
  },
  {
   "cell_type": "code",
   "execution_count": null,
   "metadata": {
    "id": "fm-T9TQdV-aL"
   },
   "outputs": [],
   "source": []
  }
 ],
 "metadata": {
  "colab": {
   "collapsed_sections": [],
   "provenance": []
  },
  "kernelspec": {
   "display_name": "recsys",
   "language": "python",
   "name": "recsys_env"
  },
  "language_info": {
   "codemirror_mode": {
    "name": "ipython",
    "version": 3
   },
   "file_extension": ".py",
   "mimetype": "text/x-python",
   "name": "python",
   "nbconvert_exporter": "python",
   "pygments_lexer": "ipython3",
   "version": "3.7.10"
  }
 },
 "nbformat": 4,
 "nbformat_minor": 1
}
